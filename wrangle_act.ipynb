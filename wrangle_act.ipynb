{
 "cells": [
  {
   "cell_type": "markdown",
   "metadata": {},
   "source": [
    "# We Rate Dogs Analysis\n",
    "In this project, I am trying to analysze the 'We Rate Dogs' twitter handle's tweets where they rate various dogs. These tweets contain a picture and are favourited, retweeted several times. As part of this, I am gathering data from Udacity's Twitter archive and from Twitter using Tweepy API. Eventually I will assess, clean, analyze this dataset and finally come up with some insights and visualizations."
   ]
  },
  {
   "cell_type": "markdown",
   "metadata": {},
   "source": [
    "## Gathering Data"
   ]
  },
  {
   "cell_type": "code",
   "execution_count": 1,
   "metadata": {},
   "outputs": [],
   "source": [
    "#import all the reqd libs\n",
    "import pandas as pd\n",
    "import numpy as np\n",
    "import os\n",
    "import json\n",
    "import requests \n",
    "import matplotlib.pyplot as plt\n",
    "import unicodedata \n",
    "import tweepy\n",
    "import bs4\n",
    "from PIL import Image\n",
    "from io import BytesIO\n",
    "\n",
    "\n",
    "import matplotlib.pyplot as plt\n",
    "%matplotlib inline\n",
    "\n",
    "import seaborn as sns\n",
    "\n",
    "pd.set_option('display.max_columns', None)  \n"
   ]
  },
  {
   "cell_type": "markdown",
   "metadata": {},
   "source": [
    "#### Manual File Download\n",
    "Manually Download the WeRateDogs Twitter archive from UDacity and import it into the workspace."
   ]
  },
  {
   "cell_type": "code",
   "execution_count": 2,
   "metadata": {},
   "outputs": [
    {
     "data": {
      "text/html": [
       "<div>\n",
       "<style scoped>\n",
       "    .dataframe tbody tr th:only-of-type {\n",
       "        vertical-align: middle;\n",
       "    }\n",
       "\n",
       "    .dataframe tbody tr th {\n",
       "        vertical-align: top;\n",
       "    }\n",
       "\n",
       "    .dataframe thead th {\n",
       "        text-align: right;\n",
       "    }\n",
       "</style>\n",
       "<table border=\"1\" class=\"dataframe\">\n",
       "  <thead>\n",
       "    <tr style=\"text-align: right;\">\n",
       "      <th></th>\n",
       "      <th>tweet_id</th>\n",
       "      <th>in_reply_to_status_id</th>\n",
       "      <th>in_reply_to_user_id</th>\n",
       "      <th>timestamp</th>\n",
       "      <th>source</th>\n",
       "      <th>text</th>\n",
       "      <th>retweeted_status_id</th>\n",
       "      <th>retweeted_status_user_id</th>\n",
       "      <th>retweeted_status_timestamp</th>\n",
       "      <th>expanded_urls</th>\n",
       "      <th>rating_numerator</th>\n",
       "      <th>rating_denominator</th>\n",
       "      <th>name</th>\n",
       "      <th>doggo</th>\n",
       "      <th>floofer</th>\n",
       "      <th>pupper</th>\n",
       "      <th>puppo</th>\n",
       "    </tr>\n",
       "  </thead>\n",
       "  <tbody>\n",
       "    <tr>\n",
       "      <th>0</th>\n",
       "      <td>892420643555336193</td>\n",
       "      <td>NaN</td>\n",
       "      <td>NaN</td>\n",
       "      <td>2017-08-01 16:23:56 +0000</td>\n",
       "      <td>&lt;a href=\"http://twitter.com/download/iphone\" r...</td>\n",
       "      <td>This is Phineas. He's a mystical boy. Only eve...</td>\n",
       "      <td>NaN</td>\n",
       "      <td>NaN</td>\n",
       "      <td>NaN</td>\n",
       "      <td>https://twitter.com/dog_rates/status/892420643...</td>\n",
       "      <td>13</td>\n",
       "      <td>10</td>\n",
       "      <td>Phineas</td>\n",
       "      <td>None</td>\n",
       "      <td>None</td>\n",
       "      <td>None</td>\n",
       "      <td>None</td>\n",
       "    </tr>\n",
       "    <tr>\n",
       "      <th>1</th>\n",
       "      <td>892177421306343426</td>\n",
       "      <td>NaN</td>\n",
       "      <td>NaN</td>\n",
       "      <td>2017-08-01 00:17:27 +0000</td>\n",
       "      <td>&lt;a href=\"http://twitter.com/download/iphone\" r...</td>\n",
       "      <td>This is Tilly. She's just checking pup on you....</td>\n",
       "      <td>NaN</td>\n",
       "      <td>NaN</td>\n",
       "      <td>NaN</td>\n",
       "      <td>https://twitter.com/dog_rates/status/892177421...</td>\n",
       "      <td>13</td>\n",
       "      <td>10</td>\n",
       "      <td>Tilly</td>\n",
       "      <td>None</td>\n",
       "      <td>None</td>\n",
       "      <td>None</td>\n",
       "      <td>None</td>\n",
       "    </tr>\n",
       "    <tr>\n",
       "      <th>2</th>\n",
       "      <td>891815181378084864</td>\n",
       "      <td>NaN</td>\n",
       "      <td>NaN</td>\n",
       "      <td>2017-07-31 00:18:03 +0000</td>\n",
       "      <td>&lt;a href=\"http://twitter.com/download/iphone\" r...</td>\n",
       "      <td>This is Archie. He is a rare Norwegian Pouncin...</td>\n",
       "      <td>NaN</td>\n",
       "      <td>NaN</td>\n",
       "      <td>NaN</td>\n",
       "      <td>https://twitter.com/dog_rates/status/891815181...</td>\n",
       "      <td>12</td>\n",
       "      <td>10</td>\n",
       "      <td>Archie</td>\n",
       "      <td>None</td>\n",
       "      <td>None</td>\n",
       "      <td>None</td>\n",
       "      <td>None</td>\n",
       "    </tr>\n",
       "    <tr>\n",
       "      <th>3</th>\n",
       "      <td>891689557279858688</td>\n",
       "      <td>NaN</td>\n",
       "      <td>NaN</td>\n",
       "      <td>2017-07-30 15:58:51 +0000</td>\n",
       "      <td>&lt;a href=\"http://twitter.com/download/iphone\" r...</td>\n",
       "      <td>This is Darla. She commenced a snooze mid meal...</td>\n",
       "      <td>NaN</td>\n",
       "      <td>NaN</td>\n",
       "      <td>NaN</td>\n",
       "      <td>https://twitter.com/dog_rates/status/891689557...</td>\n",
       "      <td>13</td>\n",
       "      <td>10</td>\n",
       "      <td>Darla</td>\n",
       "      <td>None</td>\n",
       "      <td>None</td>\n",
       "      <td>None</td>\n",
       "      <td>None</td>\n",
       "    </tr>\n",
       "    <tr>\n",
       "      <th>4</th>\n",
       "      <td>891327558926688256</td>\n",
       "      <td>NaN</td>\n",
       "      <td>NaN</td>\n",
       "      <td>2017-07-29 16:00:24 +0000</td>\n",
       "      <td>&lt;a href=\"http://twitter.com/download/iphone\" r...</td>\n",
       "      <td>This is Franklin. He would like you to stop ca...</td>\n",
       "      <td>NaN</td>\n",
       "      <td>NaN</td>\n",
       "      <td>NaN</td>\n",
       "      <td>https://twitter.com/dog_rates/status/891327558...</td>\n",
       "      <td>12</td>\n",
       "      <td>10</td>\n",
       "      <td>Franklin</td>\n",
       "      <td>None</td>\n",
       "      <td>None</td>\n",
       "      <td>None</td>\n",
       "      <td>None</td>\n",
       "    </tr>\n",
       "  </tbody>\n",
       "</table>\n",
       "</div>"
      ],
      "text/plain": [
       "             tweet_id  in_reply_to_status_id  in_reply_to_user_id  \\\n",
       "0  892420643555336193                    NaN                  NaN   \n",
       "1  892177421306343426                    NaN                  NaN   \n",
       "2  891815181378084864                    NaN                  NaN   \n",
       "3  891689557279858688                    NaN                  NaN   \n",
       "4  891327558926688256                    NaN                  NaN   \n",
       "\n",
       "                   timestamp  \\\n",
       "0  2017-08-01 16:23:56 +0000   \n",
       "1  2017-08-01 00:17:27 +0000   \n",
       "2  2017-07-31 00:18:03 +0000   \n",
       "3  2017-07-30 15:58:51 +0000   \n",
       "4  2017-07-29 16:00:24 +0000   \n",
       "\n",
       "                                              source  \\\n",
       "0  <a href=\"http://twitter.com/download/iphone\" r...   \n",
       "1  <a href=\"http://twitter.com/download/iphone\" r...   \n",
       "2  <a href=\"http://twitter.com/download/iphone\" r...   \n",
       "3  <a href=\"http://twitter.com/download/iphone\" r...   \n",
       "4  <a href=\"http://twitter.com/download/iphone\" r...   \n",
       "\n",
       "                                                text  retweeted_status_id  \\\n",
       "0  This is Phineas. He's a mystical boy. Only eve...                  NaN   \n",
       "1  This is Tilly. She's just checking pup on you....                  NaN   \n",
       "2  This is Archie. He is a rare Norwegian Pouncin...                  NaN   \n",
       "3  This is Darla. She commenced a snooze mid meal...                  NaN   \n",
       "4  This is Franklin. He would like you to stop ca...                  NaN   \n",
       "\n",
       "   retweeted_status_user_id retweeted_status_timestamp  \\\n",
       "0                       NaN                        NaN   \n",
       "1                       NaN                        NaN   \n",
       "2                       NaN                        NaN   \n",
       "3                       NaN                        NaN   \n",
       "4                       NaN                        NaN   \n",
       "\n",
       "                                       expanded_urls  rating_numerator  \\\n",
       "0  https://twitter.com/dog_rates/status/892420643...                13   \n",
       "1  https://twitter.com/dog_rates/status/892177421...                13   \n",
       "2  https://twitter.com/dog_rates/status/891815181...                12   \n",
       "3  https://twitter.com/dog_rates/status/891689557...                13   \n",
       "4  https://twitter.com/dog_rates/status/891327558...                12   \n",
       "\n",
       "   rating_denominator      name doggo floofer pupper puppo  \n",
       "0                  10   Phineas  None    None   None  None  \n",
       "1                  10     Tilly  None    None   None  None  \n",
       "2                  10    Archie  None    None   None  None  \n",
       "3                  10     Darla  None    None   None  None  \n",
       "4                  10  Franklin  None    None   None  None  "
      ]
     },
     "execution_count": 2,
     "metadata": {},
     "output_type": "execute_result"
    }
   ],
   "source": [
    "twitter_archive_enh = pd.read_csv('twitter-archive-enhanced.csv')\n",
    "twitter_archive_enh.head()"
   ]
  },
  {
   "cell_type": "markdown",
   "metadata": {},
   "source": [
    "#### Gathering data directly from the internet using HTTP\n",
    "In this section we will try to gather data directly from the internet using Python **Requests** library."
   ]
  },
  {
   "cell_type": "code",
   "execution_count": 3,
   "metadata": {},
   "outputs": [],
   "source": [
    "#img url\n",
    "img_pred_url = 'https://d17h27t6h515a5.cloudfront.net/topher/2017/August/599fd2ad_image-predictions/image-predictions.tsv'\n",
    "response= requests.get(img_pred_url) \n",
    "#print(response) # returns <Response [200]>, that means HTTP 200 Ok status\n",
    "#Store the response in a file, file name should be the last string in the url, mode='wb' \n",
    "with open(img_pred_url.split('/')[-1], mode = 'wb') as file:\n",
    "    file.write(response.content)# once the file is created, write the response.content\n",
    "\n"
   ]
  },
  {
   "cell_type": "code",
   "execution_count": 4,
   "metadata": {},
   "outputs": [
    {
     "data": {
      "text/html": [
       "<div>\n",
       "<style scoped>\n",
       "    .dataframe tbody tr th:only-of-type {\n",
       "        vertical-align: middle;\n",
       "    }\n",
       "\n",
       "    .dataframe tbody tr th {\n",
       "        vertical-align: top;\n",
       "    }\n",
       "\n",
       "    .dataframe thead th {\n",
       "        text-align: right;\n",
       "    }\n",
       "</style>\n",
       "<table border=\"1\" class=\"dataframe\">\n",
       "  <thead>\n",
       "    <tr style=\"text-align: right;\">\n",
       "      <th></th>\n",
       "      <th>tweet_id</th>\n",
       "      <th>jpg_url</th>\n",
       "      <th>img_num</th>\n",
       "      <th>p1</th>\n",
       "      <th>p1_conf</th>\n",
       "      <th>p1_dog</th>\n",
       "      <th>p2</th>\n",
       "      <th>p2_conf</th>\n",
       "      <th>p2_dog</th>\n",
       "      <th>p3</th>\n",
       "      <th>p3_conf</th>\n",
       "      <th>p3_dog</th>\n",
       "    </tr>\n",
       "  </thead>\n",
       "  <tbody>\n",
       "    <tr>\n",
       "      <th>0</th>\n",
       "      <td>666020888022790149</td>\n",
       "      <td>https://pbs.twimg.com/media/CT4udn0WwAA0aMy.jpg</td>\n",
       "      <td>1</td>\n",
       "      <td>Welsh_springer_spaniel</td>\n",
       "      <td>0.465074</td>\n",
       "      <td>True</td>\n",
       "      <td>collie</td>\n",
       "      <td>0.156665</td>\n",
       "      <td>True</td>\n",
       "      <td>Shetland_sheepdog</td>\n",
       "      <td>0.061428</td>\n",
       "      <td>True</td>\n",
       "    </tr>\n",
       "    <tr>\n",
       "      <th>1</th>\n",
       "      <td>666029285002620928</td>\n",
       "      <td>https://pbs.twimg.com/media/CT42GRgUYAA5iDo.jpg</td>\n",
       "      <td>1</td>\n",
       "      <td>redbone</td>\n",
       "      <td>0.506826</td>\n",
       "      <td>True</td>\n",
       "      <td>miniature_pinscher</td>\n",
       "      <td>0.074192</td>\n",
       "      <td>True</td>\n",
       "      <td>Rhodesian_ridgeback</td>\n",
       "      <td>0.072010</td>\n",
       "      <td>True</td>\n",
       "    </tr>\n",
       "    <tr>\n",
       "      <th>2</th>\n",
       "      <td>666033412701032449</td>\n",
       "      <td>https://pbs.twimg.com/media/CT4521TWwAEvMyu.jpg</td>\n",
       "      <td>1</td>\n",
       "      <td>German_shepherd</td>\n",
       "      <td>0.596461</td>\n",
       "      <td>True</td>\n",
       "      <td>malinois</td>\n",
       "      <td>0.138584</td>\n",
       "      <td>True</td>\n",
       "      <td>bloodhound</td>\n",
       "      <td>0.116197</td>\n",
       "      <td>True</td>\n",
       "    </tr>\n",
       "    <tr>\n",
       "      <th>3</th>\n",
       "      <td>666044226329800704</td>\n",
       "      <td>https://pbs.twimg.com/media/CT5Dr8HUEAA-lEu.jpg</td>\n",
       "      <td>1</td>\n",
       "      <td>Rhodesian_ridgeback</td>\n",
       "      <td>0.408143</td>\n",
       "      <td>True</td>\n",
       "      <td>redbone</td>\n",
       "      <td>0.360687</td>\n",
       "      <td>True</td>\n",
       "      <td>miniature_pinscher</td>\n",
       "      <td>0.222752</td>\n",
       "      <td>True</td>\n",
       "    </tr>\n",
       "    <tr>\n",
       "      <th>4</th>\n",
       "      <td>666049248165822465</td>\n",
       "      <td>https://pbs.twimg.com/media/CT5IQmsXIAAKY4A.jpg</td>\n",
       "      <td>1</td>\n",
       "      <td>miniature_pinscher</td>\n",
       "      <td>0.560311</td>\n",
       "      <td>True</td>\n",
       "      <td>Rottweiler</td>\n",
       "      <td>0.243682</td>\n",
       "      <td>True</td>\n",
       "      <td>Doberman</td>\n",
       "      <td>0.154629</td>\n",
       "      <td>True</td>\n",
       "    </tr>\n",
       "  </tbody>\n",
       "</table>\n",
       "</div>"
      ],
      "text/plain": [
       "             tweet_id                                          jpg_url  \\\n",
       "0  666020888022790149  https://pbs.twimg.com/media/CT4udn0WwAA0aMy.jpg   \n",
       "1  666029285002620928  https://pbs.twimg.com/media/CT42GRgUYAA5iDo.jpg   \n",
       "2  666033412701032449  https://pbs.twimg.com/media/CT4521TWwAEvMyu.jpg   \n",
       "3  666044226329800704  https://pbs.twimg.com/media/CT5Dr8HUEAA-lEu.jpg   \n",
       "4  666049248165822465  https://pbs.twimg.com/media/CT5IQmsXIAAKY4A.jpg   \n",
       "\n",
       "   img_num                      p1   p1_conf  p1_dog                  p2  \\\n",
       "0        1  Welsh_springer_spaniel  0.465074    True              collie   \n",
       "1        1                 redbone  0.506826    True  miniature_pinscher   \n",
       "2        1         German_shepherd  0.596461    True            malinois   \n",
       "3        1     Rhodesian_ridgeback  0.408143    True             redbone   \n",
       "4        1      miniature_pinscher  0.560311    True          Rottweiler   \n",
       "\n",
       "    p2_conf  p2_dog                   p3   p3_conf  p3_dog  \n",
       "0  0.156665    True    Shetland_sheepdog  0.061428    True  \n",
       "1  0.074192    True  Rhodesian_ridgeback  0.072010    True  \n",
       "2  0.138584    True           bloodhound  0.116197    True  \n",
       "3  0.360687    True   miniature_pinscher  0.222752    True  \n",
       "4  0.243682    True             Doberman  0.154629    True  "
      ]
     },
     "execution_count": 4,
     "metadata": {},
     "output_type": "execute_result"
    }
   ],
   "source": [
    "#import the file into workspace\n",
    "img_predictions = pd.read_csv('image-predictions.tsv', sep='\\t')\n",
    "img_predictions.head()"
   ]
  },
  {
   "cell_type": "markdown",
   "metadata": {},
   "source": [
    "#### Gathering data using Twitter API (lib Tweepy)\n",
    "Each tweet's retweet count and favorite (\"like\") count at minimum, and any additional data you find interesting. Using the tweet IDs in the WeRateDogs Twitter archive, query the Twitter API for each tweet's JSON data using Python's Tweepy library and store each tweet's entire set of JSON data in a file called tweet_json.txt file. Each tweet's JSON data should be written to its own line. Then read this .txt file line by line into a pandas DataFrame with (at minimum) tweet ID, retweet count, and favorite count. Note: do not include your Twitter API keys, secrets, and tokens in your project submission."
   ]
  },
  {
   "cell_type": "code",
   "execution_count": 5,
   "metadata": {},
   "outputs": [],
   "source": [
    "#Tweepy access info\n",
    "consumer_key = '' #remove later\n",
    "consumer_secret = '' #remove latwr\n",
    "access_token = '' #remove later\n",
    "access_secret = '' #remove later\n",
    "\n",
    "auth = tweepy.OAuthHandler(consumer_key, consumer_secret)\n",
    "auth.set_access_token(access_token, access_secret)\n",
    "\n",
    "#api = tweepy.API(auth)\n",
    "api = tweepy.API(auth,wait_on_rate_limit=True,wait_on_rate_limit_notify=True)"
   ]
  },
  {
   "cell_type": "markdown",
   "metadata": {},
   "source": [
    "#### Get tweet JSON data using tweet id"
   ]
  },
  {
   "cell_type": "code",
   "execution_count": 6,
   "metadata": {},
   "outputs": [
    {
     "data": {
      "text/plain": [
       "0"
      ]
     },
     "execution_count": 6,
     "metadata": {},
     "output_type": "execute_result"
    }
   ],
   "source": [
    "#check the tweet_ids for nulls\n",
    "sum(twitter_archive_enh.tweet_id.isnull())"
   ]
  },
  {
   "cell_type": "code",
   "execution_count": 7,
   "metadata": {},
   "outputs": [
    {
     "data": {
      "text/plain": [
       "2356"
      ]
     },
     "execution_count": 7,
     "metadata": {},
     "output_type": "execute_result"
    }
   ],
   "source": [
    "len(twitter_archive_enh)"
   ]
  },
  {
   "cell_type": "markdown",
   "metadata": {},
   "source": [
    "For below funtion definition, I referred the following and modified as per need : https://medium.com/analytics-vidhya/fetch-tweets-using-their-ids-with-tweepy-twitter-api-and-python-ee7a22dcb845"
   ]
  },
  {
   "cell_type": "code",
   "execution_count": 8,
   "metadata": {},
   "outputs": [],
   "source": [
    "#Function to to download json objects for each of the tweet ids\n",
    "def createDataSet(dog_tweets_file, target_result_file):\n",
    "    '''Function to download json objects for each of the tweet ids.\n",
    "    \n",
    "    It takes the tweet file name, where first column contains tweet ids. \n",
    "    And, it returns a list of dictionaries contain json objects\n",
    "    '''\n",
    "    import csv\n",
    "    import time\n",
    "\n",
    "    counter = 0\n",
    "    dog_tweets = []\n",
    "\n",
    "    with open(dog_tweets_file, 'r') as csv_file:\n",
    "        line_reader = csv.reader(csv_file, delimiter=',', quotechar=\"\\\"\")\n",
    "        for row in line_reader:\n",
    "            dog_tweets.append({\"tweet_id\": row[0]})\n",
    "\n",
    "    #sleep_time = 2\n",
    "    tweets_dataset = []\n",
    "    #Logging exceptions file\n",
    "    logf = open(\"tweets_do_not_exist.log\", \"w\")\n",
    "    #Log successful tweet ids to file\n",
    "    \n",
    "    for tweet in dog_tweets:\n",
    "        try:\n",
    "            tweet_fetched = api.get_status(tweet[\"tweet_id\"])\n",
    "            #append the json of the status object resturned by get_status\n",
    "            tweets_dataset.append(tweet_fetched._json)\n",
    "            #add a sleep time after each attempt\n",
    "            #time.sleep(sleep_time)\n",
    "\n",
    "        except:\n",
    "            #log exception to file\n",
    "            logf.write(\"Failed to get_status() for tweet_id : {} \".format(tweet[\"tweet_id\"]))\n",
    "            continue\n",
    "    # once all the tweets have been fetched, print it all in the target file                    \n",
    "    with open(target_result_file, 'w') as outfile:\n",
    "        try:\n",
    "            json.dump(tweets_dataset, outfile,indent = 2)\n",
    "        except Exception as e:\n",
    "                    print(e) \n",
    "    return tweets_dataset\n"
   ]
  },
  {
   "cell_type": "code",
   "execution_count": 9,
   "metadata": {
    "scrolled": true
   },
   "outputs": [
    {
     "name": "stdout",
     "output_type": "stream",
     "text": [
      "File is already downloaded\n"
     ]
    }
   ],
   "source": [
    "\n",
    "import os\n",
    "import os.path\n",
    "from os import path\n",
    "\n",
    "dog_tweets_file = \"twitter-archive-enhanced.csv\"\n",
    "\n",
    "target_result_file = \"tweet_json.txt\"\n",
    "\n",
    "\n",
    "# Call the method if the file doesnt exist\n",
    "if(os.path.isfile(target_result_file)):\n",
    "       print('File is already downloaded')\n",
    "else :\n",
    "    resultFile = createDataSet(dog_tweets_file, target_result_file)\n",
    "\n"
   ]
  },
  {
   "cell_type": "markdown",
   "metadata": {},
   "source": [
    "#### Read back the JSON dump and create dataframe\n"
   ]
  },
  {
   "cell_type": "code",
   "execution_count": 10,
   "metadata": {},
   "outputs": [],
   "source": [
    "#read back the json txt file\n",
    "with open('tweet_json.txt', 'r') as j:\n",
    "     #loads function helps in loading everything in json format, \n",
    "     #easy to access individual ele,ents later\n",
    "        tweets_dicts = json.loads(j.read()) "
   ]
  },
  {
   "cell_type": "code",
   "execution_count": 11,
   "metadata": {},
   "outputs": [],
   "source": [
    "#Looking at an individual element\n",
    "#tweets_dicts[0]"
   ]
  },
  {
   "cell_type": "code",
   "execution_count": 12,
   "metadata": {},
   "outputs": [
    {
     "data": {
      "text/html": [
       "<div>\n",
       "<style scoped>\n",
       "    .dataframe tbody tr th:only-of-type {\n",
       "        vertical-align: middle;\n",
       "    }\n",
       "\n",
       "    .dataframe tbody tr th {\n",
       "        vertical-align: top;\n",
       "    }\n",
       "\n",
       "    .dataframe thead th {\n",
       "        text-align: right;\n",
       "    }\n",
       "</style>\n",
       "<table border=\"1\" class=\"dataframe\">\n",
       "  <thead>\n",
       "    <tr style=\"text-align: right;\">\n",
       "      <th></th>\n",
       "      <th>id</th>\n",
       "      <th>retweet_count</th>\n",
       "      <th>favorite_count</th>\n",
       "      <th>source</th>\n",
       "    </tr>\n",
       "  </thead>\n",
       "  <tbody>\n",
       "    <tr>\n",
       "      <th>0</th>\n",
       "      <td>892420643555336193</td>\n",
       "      <td>7588</td>\n",
       "      <td>35830</td>\n",
       "      <td>&lt;a href=\"http://twitter.com/download/iphone\" r...</td>\n",
       "    </tr>\n",
       "    <tr>\n",
       "      <th>1</th>\n",
       "      <td>892177421306343426</td>\n",
       "      <td>5623</td>\n",
       "      <td>30926</td>\n",
       "      <td>&lt;a href=\"http://twitter.com/download/iphone\" r...</td>\n",
       "    </tr>\n",
       "    <tr>\n",
       "      <th>2</th>\n",
       "      <td>891815181378084864</td>\n",
       "      <td>3720</td>\n",
       "      <td>23281</td>\n",
       "      <td>&lt;a href=\"http://twitter.com/download/iphone\" r...</td>\n",
       "    </tr>\n",
       "    <tr>\n",
       "      <th>3</th>\n",
       "      <td>891689557279858688</td>\n",
       "      <td>7766</td>\n",
       "      <td>39105</td>\n",
       "      <td>&lt;a href=\"http://twitter.com/download/iphone\" r...</td>\n",
       "    </tr>\n",
       "    <tr>\n",
       "      <th>4</th>\n",
       "      <td>891327558926688256</td>\n",
       "      <td>8363</td>\n",
       "      <td>37357</td>\n",
       "      <td>&lt;a href=\"http://twitter.com/download/iphone\" r...</td>\n",
       "    </tr>\n",
       "  </tbody>\n",
       "</table>\n",
       "</div>"
      ],
      "text/plain": [
       "                   id  retweet_count  favorite_count  \\\n",
       "0  892420643555336193           7588           35830   \n",
       "1  892177421306343426           5623           30926   \n",
       "2  891815181378084864           3720           23281   \n",
       "3  891689557279858688           7766           39105   \n",
       "4  891327558926688256           8363           37357   \n",
       "\n",
       "                                              source  \n",
       "0  <a href=\"http://twitter.com/download/iphone\" r...  \n",
       "1  <a href=\"http://twitter.com/download/iphone\" r...  \n",
       "2  <a href=\"http://twitter.com/download/iphone\" r...  \n",
       "3  <a href=\"http://twitter.com/download/iphone\" r...  \n",
       "4  <a href=\"http://twitter.com/download/iphone\" r...  "
      ]
     },
     "execution_count": 12,
     "metadata": {},
     "output_type": "execute_result"
    }
   ],
   "source": [
    "#for dicts in tweet_dicts\n",
    "tweets_json = pd.DataFrame(tweets_dicts, columns = ['id', 'retweet_count', 'favorite_count','source'])\n",
    "#df = df.sort_values('ranking').reset_index(drop=True)\n",
    "tweets_json.head() "
   ]
  },
  {
   "cell_type": "markdown",
   "metadata": {},
   "source": [
    "## Assess\n"
   ]
  },
  {
   "cell_type": "markdown",
   "metadata": {},
   "source": [
    "### Visual and Programmatic Assessment"
   ]
  },
  {
   "cell_type": "markdown",
   "metadata": {},
   "source": [
    "#### 1. Twitter Archive Enhanced"
   ]
  },
  {
   "cell_type": "code",
   "execution_count": 13,
   "metadata": {},
   "outputs": [
    {
     "name": "stdout",
     "output_type": "stream",
     "text": [
      "<class 'pandas.core.frame.DataFrame'>\n",
      "RangeIndex: 2356 entries, 0 to 2355\n",
      "Data columns (total 17 columns):\n",
      " #   Column                      Non-Null Count  Dtype  \n",
      "---  ------                      --------------  -----  \n",
      " 0   tweet_id                    2356 non-null   int64  \n",
      " 1   in_reply_to_status_id       78 non-null     float64\n",
      " 2   in_reply_to_user_id         78 non-null     float64\n",
      " 3   timestamp                   2356 non-null   object \n",
      " 4   source                      2356 non-null   object \n",
      " 5   text                        2356 non-null   object \n",
      " 6   retweeted_status_id         181 non-null    float64\n",
      " 7   retweeted_status_user_id    181 non-null    float64\n",
      " 8   retweeted_status_timestamp  181 non-null    object \n",
      " 9   expanded_urls               2297 non-null   object \n",
      " 10  rating_numerator            2356 non-null   int64  \n",
      " 11  rating_denominator          2356 non-null   int64  \n",
      " 12  name                        2356 non-null   object \n",
      " 13  doggo                       2356 non-null   object \n",
      " 14  floofer                     2356 non-null   object \n",
      " 15  pupper                      2356 non-null   object \n",
      " 16  puppo                       2356 non-null   object \n",
      "dtypes: float64(4), int64(3), object(10)\n",
      "memory usage: 313.0+ KB\n"
     ]
    }
   ],
   "source": [
    "twitter_archive_enh.info()"
   ]
  },
  {
   "cell_type": "code",
   "execution_count": 14,
   "metadata": {},
   "outputs": [
    {
     "data": {
      "text/plain": [
       "str"
      ]
     },
     "execution_count": 14,
     "metadata": {},
     "output_type": "execute_result"
    }
   ],
   "source": [
    "#wrong datatype\n",
    "type(twitter_archive_enh.timestamp[0])"
   ]
  },
  {
   "cell_type": "code",
   "execution_count": 15,
   "metadata": {},
   "outputs": [
    {
     "data": {
      "text/html": [
       "<div>\n",
       "<style scoped>\n",
       "    .dataframe tbody tr th:only-of-type {\n",
       "        vertical-align: middle;\n",
       "    }\n",
       "\n",
       "    .dataframe tbody tr th {\n",
       "        vertical-align: top;\n",
       "    }\n",
       "\n",
       "    .dataframe thead th {\n",
       "        text-align: right;\n",
       "    }\n",
       "</style>\n",
       "<table border=\"1\" class=\"dataframe\">\n",
       "  <thead>\n",
       "    <tr style=\"text-align: right;\">\n",
       "      <th></th>\n",
       "      <th>tweet_id</th>\n",
       "      <th>in_reply_to_status_id</th>\n",
       "      <th>in_reply_to_user_id</th>\n",
       "      <th>timestamp</th>\n",
       "      <th>source</th>\n",
       "      <th>text</th>\n",
       "      <th>retweeted_status_id</th>\n",
       "      <th>retweeted_status_user_id</th>\n",
       "      <th>retweeted_status_timestamp</th>\n",
       "      <th>expanded_urls</th>\n",
       "      <th>rating_numerator</th>\n",
       "      <th>rating_denominator</th>\n",
       "      <th>name</th>\n",
       "      <th>doggo</th>\n",
       "      <th>floofer</th>\n",
       "      <th>pupper</th>\n",
       "      <th>puppo</th>\n",
       "    </tr>\n",
       "  </thead>\n",
       "  <tbody>\n",
       "    <tr>\n",
       "      <th>324</th>\n",
       "      <td>834086379323871233</td>\n",
       "      <td>NaN</td>\n",
       "      <td>NaN</td>\n",
       "      <td>2017-02-21 17:04:24 +0000</td>\n",
       "      <td>&lt;a href=\"http://twitter.com/download/iphone\" r...</td>\n",
       "      <td>This is Lipton. He's a West Romanian Snuggle P...</td>\n",
       "      <td>NaN</td>\n",
       "      <td>NaN</td>\n",
       "      <td>NaN</td>\n",
       "      <td>https://twitter.com/dog_rates/status/834086379...</td>\n",
       "      <td>12</td>\n",
       "      <td>10</td>\n",
       "      <td>Lipton</td>\n",
       "      <td>None</td>\n",
       "      <td>None</td>\n",
       "      <td>None</td>\n",
       "      <td>None</td>\n",
       "    </tr>\n",
       "    <tr>\n",
       "      <th>2279</th>\n",
       "      <td>667405339315146752</td>\n",
       "      <td>NaN</td>\n",
       "      <td>NaN</td>\n",
       "      <td>2015-11-19 18:13:27 +0000</td>\n",
       "      <td>&lt;a href=\"http://twitter.com/download/iphone\" r...</td>\n",
       "      <td>This is Biden. Biden just tripped... 7/10 http...</td>\n",
       "      <td>NaN</td>\n",
       "      <td>NaN</td>\n",
       "      <td>NaN</td>\n",
       "      <td>https://twitter.com/dog_rates/status/667405339...</td>\n",
       "      <td>7</td>\n",
       "      <td>10</td>\n",
       "      <td>Biden</td>\n",
       "      <td>None</td>\n",
       "      <td>None</td>\n",
       "      <td>None</td>\n",
       "      <td>None</td>\n",
       "    </tr>\n",
       "    <tr>\n",
       "      <th>109</th>\n",
       "      <td>871166179821445120</td>\n",
       "      <td>NaN</td>\n",
       "      <td>NaN</td>\n",
       "      <td>2017-06-04 00:46:17 +0000</td>\n",
       "      <td>&lt;a href=\"http://twitter.com/download/iphone\" r...</td>\n",
       "      <td>RT @dog_rates: This is Dawn. She's just checki...</td>\n",
       "      <td>8.410770e+17</td>\n",
       "      <td>4.196984e+09</td>\n",
       "      <td>2017-03-13 00:02:39 +0000</td>\n",
       "      <td>https://twitter.com/dog_rates/status/841077006...</td>\n",
       "      <td>12</td>\n",
       "      <td>10</td>\n",
       "      <td>Dawn</td>\n",
       "      <td>None</td>\n",
       "      <td>None</td>\n",
       "      <td>None</td>\n",
       "      <td>None</td>\n",
       "    </tr>\n",
       "    <tr>\n",
       "      <th>101</th>\n",
       "      <td>872668790621863937</td>\n",
       "      <td>NaN</td>\n",
       "      <td>NaN</td>\n",
       "      <td>2017-06-08 04:17:07 +0000</td>\n",
       "      <td>&lt;a href=\"http://twitter.com/download/iphone\" r...</td>\n",
       "      <td>RT @loganamnosis: Penelope here is doing me qu...</td>\n",
       "      <td>8.726576e+17</td>\n",
       "      <td>1.547674e+08</td>\n",
       "      <td>2017-06-08 03:32:35 +0000</td>\n",
       "      <td>https://twitter.com/loganamnosis/status/872657...</td>\n",
       "      <td>14</td>\n",
       "      <td>10</td>\n",
       "      <td>None</td>\n",
       "      <td>None</td>\n",
       "      <td>None</td>\n",
       "      <td>None</td>\n",
       "      <td>None</td>\n",
       "    </tr>\n",
       "    <tr>\n",
       "      <th>1382</th>\n",
       "      <td>700864154249383937</td>\n",
       "      <td>NaN</td>\n",
       "      <td>NaN</td>\n",
       "      <td>2016-02-20 02:06:50 +0000</td>\n",
       "      <td>&lt;a href=\"http://twitter.com/download/iphone\" r...</td>\n",
       "      <td>\"Pupper is a present to world. Here is a bow f...</td>\n",
       "      <td>NaN</td>\n",
       "      <td>NaN</td>\n",
       "      <td>NaN</td>\n",
       "      <td>https://twitter.com/dog_rates/status/700864154...</td>\n",
       "      <td>12</td>\n",
       "      <td>10</td>\n",
       "      <td>a</td>\n",
       "      <td>None</td>\n",
       "      <td>None</td>\n",
       "      <td>pupper</td>\n",
       "      <td>None</td>\n",
       "    </tr>\n",
       "    <tr>\n",
       "      <th>1000</th>\n",
       "      <td>747963614829678593</td>\n",
       "      <td>NaN</td>\n",
       "      <td>NaN</td>\n",
       "      <td>2016-06-29 01:23:16 +0000</td>\n",
       "      <td>&lt;a href=\"http://twitter.com/download/iphone\" r...</td>\n",
       "      <td>PUPPER NOOOOO BEHIND YOUUU 10/10 pls keep this...</td>\n",
       "      <td>NaN</td>\n",
       "      <td>NaN</td>\n",
       "      <td>NaN</td>\n",
       "      <td>https://twitter.com/dog_rates/status/747963614...</td>\n",
       "      <td>10</td>\n",
       "      <td>10</td>\n",
       "      <td>None</td>\n",
       "      <td>None</td>\n",
       "      <td>None</td>\n",
       "      <td>pupper</td>\n",
       "      <td>None</td>\n",
       "    </tr>\n",
       "    <tr>\n",
       "      <th>1277</th>\n",
       "      <td>709042156699303936</td>\n",
       "      <td>NaN</td>\n",
       "      <td>NaN</td>\n",
       "      <td>2016-03-13 15:43:18 +0000</td>\n",
       "      <td>&lt;a href=\"http://twitter.com/download/iphone\" r...</td>\n",
       "      <td>This is Klevin. He's addicted to sandwiches (y...</td>\n",
       "      <td>NaN</td>\n",
       "      <td>NaN</td>\n",
       "      <td>NaN</td>\n",
       "      <td>https://twitter.com/dog_rates/status/709042156...</td>\n",
       "      <td>9</td>\n",
       "      <td>10</td>\n",
       "      <td>Klevin</td>\n",
       "      <td>None</td>\n",
       "      <td>None</td>\n",
       "      <td>None</td>\n",
       "      <td>None</td>\n",
       "    </tr>\n",
       "  </tbody>\n",
       "</table>\n",
       "</div>"
      ],
      "text/plain": [
       "                tweet_id  in_reply_to_status_id  in_reply_to_user_id  \\\n",
       "324   834086379323871233                    NaN                  NaN   \n",
       "2279  667405339315146752                    NaN                  NaN   \n",
       "109   871166179821445120                    NaN                  NaN   \n",
       "101   872668790621863937                    NaN                  NaN   \n",
       "1382  700864154249383937                    NaN                  NaN   \n",
       "1000  747963614829678593                    NaN                  NaN   \n",
       "1277  709042156699303936                    NaN                  NaN   \n",
       "\n",
       "                      timestamp  \\\n",
       "324   2017-02-21 17:04:24 +0000   \n",
       "2279  2015-11-19 18:13:27 +0000   \n",
       "109   2017-06-04 00:46:17 +0000   \n",
       "101   2017-06-08 04:17:07 +0000   \n",
       "1382  2016-02-20 02:06:50 +0000   \n",
       "1000  2016-06-29 01:23:16 +0000   \n",
       "1277  2016-03-13 15:43:18 +0000   \n",
       "\n",
       "                                                 source  \\\n",
       "324   <a href=\"http://twitter.com/download/iphone\" r...   \n",
       "2279  <a href=\"http://twitter.com/download/iphone\" r...   \n",
       "109   <a href=\"http://twitter.com/download/iphone\" r...   \n",
       "101   <a href=\"http://twitter.com/download/iphone\" r...   \n",
       "1382  <a href=\"http://twitter.com/download/iphone\" r...   \n",
       "1000  <a href=\"http://twitter.com/download/iphone\" r...   \n",
       "1277  <a href=\"http://twitter.com/download/iphone\" r...   \n",
       "\n",
       "                                                   text  retweeted_status_id  \\\n",
       "324   This is Lipton. He's a West Romanian Snuggle P...                  NaN   \n",
       "2279  This is Biden. Biden just tripped... 7/10 http...                  NaN   \n",
       "109   RT @dog_rates: This is Dawn. She's just checki...         8.410770e+17   \n",
       "101   RT @loganamnosis: Penelope here is doing me qu...         8.726576e+17   \n",
       "1382  \"Pupper is a present to world. Here is a bow f...                  NaN   \n",
       "1000  PUPPER NOOOOO BEHIND YOUUU 10/10 pls keep this...                  NaN   \n",
       "1277  This is Klevin. He's addicted to sandwiches (y...                  NaN   \n",
       "\n",
       "      retweeted_status_user_id retweeted_status_timestamp  \\\n",
       "324                        NaN                        NaN   \n",
       "2279                       NaN                        NaN   \n",
       "109               4.196984e+09  2017-03-13 00:02:39 +0000   \n",
       "101               1.547674e+08  2017-06-08 03:32:35 +0000   \n",
       "1382                       NaN                        NaN   \n",
       "1000                       NaN                        NaN   \n",
       "1277                       NaN                        NaN   \n",
       "\n",
       "                                          expanded_urls  rating_numerator  \\\n",
       "324   https://twitter.com/dog_rates/status/834086379...                12   \n",
       "2279  https://twitter.com/dog_rates/status/667405339...                 7   \n",
       "109   https://twitter.com/dog_rates/status/841077006...                12   \n",
       "101   https://twitter.com/loganamnosis/status/872657...                14   \n",
       "1382  https://twitter.com/dog_rates/status/700864154...                12   \n",
       "1000  https://twitter.com/dog_rates/status/747963614...                10   \n",
       "1277  https://twitter.com/dog_rates/status/709042156...                 9   \n",
       "\n",
       "      rating_denominator    name doggo floofer  pupper puppo  \n",
       "324                   10  Lipton  None    None    None  None  \n",
       "2279                  10   Biden  None    None    None  None  \n",
       "109                   10    Dawn  None    None    None  None  \n",
       "101                   10    None  None    None    None  None  \n",
       "1382                  10       a  None    None  pupper  None  \n",
       "1000                  10    None  None    None  pupper  None  \n",
       "1277                  10  Klevin  None    None    None  None  "
      ]
     },
     "execution_count": 15,
     "metadata": {},
     "output_type": "execute_result"
    }
   ],
   "source": [
    "twitter_archive_enh.sample(7)"
   ]
  },
  {
   "cell_type": "code",
   "execution_count": 16,
   "metadata": {},
   "outputs": [
    {
     "data": {
      "text/html": [
       "<div>\n",
       "<style scoped>\n",
       "    .dataframe tbody tr th:only-of-type {\n",
       "        vertical-align: middle;\n",
       "    }\n",
       "\n",
       "    .dataframe tbody tr th {\n",
       "        vertical-align: top;\n",
       "    }\n",
       "\n",
       "    .dataframe thead th {\n",
       "        text-align: right;\n",
       "    }\n",
       "</style>\n",
       "<table border=\"1\" class=\"dataframe\">\n",
       "  <thead>\n",
       "    <tr style=\"text-align: right;\">\n",
       "      <th></th>\n",
       "      <th>tweet_id</th>\n",
       "      <th>in_reply_to_status_id</th>\n",
       "      <th>in_reply_to_user_id</th>\n",
       "      <th>retweeted_status_id</th>\n",
       "      <th>retweeted_status_user_id</th>\n",
       "      <th>rating_numerator</th>\n",
       "      <th>rating_denominator</th>\n",
       "    </tr>\n",
       "  </thead>\n",
       "  <tbody>\n",
       "    <tr>\n",
       "      <th>count</th>\n",
       "      <td>2.356000e+03</td>\n",
       "      <td>7.800000e+01</td>\n",
       "      <td>7.800000e+01</td>\n",
       "      <td>1.810000e+02</td>\n",
       "      <td>1.810000e+02</td>\n",
       "      <td>2356.000000</td>\n",
       "      <td>2356.000000</td>\n",
       "    </tr>\n",
       "    <tr>\n",
       "      <th>mean</th>\n",
       "      <td>7.427716e+17</td>\n",
       "      <td>7.455079e+17</td>\n",
       "      <td>2.014171e+16</td>\n",
       "      <td>7.720400e+17</td>\n",
       "      <td>1.241698e+16</td>\n",
       "      <td>13.126486</td>\n",
       "      <td>10.455433</td>\n",
       "    </tr>\n",
       "    <tr>\n",
       "      <th>std</th>\n",
       "      <td>6.856705e+16</td>\n",
       "      <td>7.582492e+16</td>\n",
       "      <td>1.252797e+17</td>\n",
       "      <td>6.236928e+16</td>\n",
       "      <td>9.599254e+16</td>\n",
       "      <td>45.876648</td>\n",
       "      <td>6.745237</td>\n",
       "    </tr>\n",
       "    <tr>\n",
       "      <th>min</th>\n",
       "      <td>6.660209e+17</td>\n",
       "      <td>6.658147e+17</td>\n",
       "      <td>1.185634e+07</td>\n",
       "      <td>6.661041e+17</td>\n",
       "      <td>7.832140e+05</td>\n",
       "      <td>0.000000</td>\n",
       "      <td>0.000000</td>\n",
       "    </tr>\n",
       "    <tr>\n",
       "      <th>25%</th>\n",
       "      <td>6.783989e+17</td>\n",
       "      <td>6.757419e+17</td>\n",
       "      <td>3.086374e+08</td>\n",
       "      <td>7.186315e+17</td>\n",
       "      <td>4.196984e+09</td>\n",
       "      <td>10.000000</td>\n",
       "      <td>10.000000</td>\n",
       "    </tr>\n",
       "    <tr>\n",
       "      <th>50%</th>\n",
       "      <td>7.196279e+17</td>\n",
       "      <td>7.038708e+17</td>\n",
       "      <td>4.196984e+09</td>\n",
       "      <td>7.804657e+17</td>\n",
       "      <td>4.196984e+09</td>\n",
       "      <td>11.000000</td>\n",
       "      <td>10.000000</td>\n",
       "    </tr>\n",
       "    <tr>\n",
       "      <th>75%</th>\n",
       "      <td>7.993373e+17</td>\n",
       "      <td>8.257804e+17</td>\n",
       "      <td>4.196984e+09</td>\n",
       "      <td>8.203146e+17</td>\n",
       "      <td>4.196984e+09</td>\n",
       "      <td>12.000000</td>\n",
       "      <td>10.000000</td>\n",
       "    </tr>\n",
       "    <tr>\n",
       "      <th>max</th>\n",
       "      <td>8.924206e+17</td>\n",
       "      <td>8.862664e+17</td>\n",
       "      <td>8.405479e+17</td>\n",
       "      <td>8.874740e+17</td>\n",
       "      <td>7.874618e+17</td>\n",
       "      <td>1776.000000</td>\n",
       "      <td>170.000000</td>\n",
       "    </tr>\n",
       "  </tbody>\n",
       "</table>\n",
       "</div>"
      ],
      "text/plain": [
       "           tweet_id  in_reply_to_status_id  in_reply_to_user_id  \\\n",
       "count  2.356000e+03           7.800000e+01         7.800000e+01   \n",
       "mean   7.427716e+17           7.455079e+17         2.014171e+16   \n",
       "std    6.856705e+16           7.582492e+16         1.252797e+17   \n",
       "min    6.660209e+17           6.658147e+17         1.185634e+07   \n",
       "25%    6.783989e+17           6.757419e+17         3.086374e+08   \n",
       "50%    7.196279e+17           7.038708e+17         4.196984e+09   \n",
       "75%    7.993373e+17           8.257804e+17         4.196984e+09   \n",
       "max    8.924206e+17           8.862664e+17         8.405479e+17   \n",
       "\n",
       "       retweeted_status_id  retweeted_status_user_id  rating_numerator  \\\n",
       "count         1.810000e+02              1.810000e+02       2356.000000   \n",
       "mean          7.720400e+17              1.241698e+16         13.126486   \n",
       "std           6.236928e+16              9.599254e+16         45.876648   \n",
       "min           6.661041e+17              7.832140e+05          0.000000   \n",
       "25%           7.186315e+17              4.196984e+09         10.000000   \n",
       "50%           7.804657e+17              4.196984e+09         11.000000   \n",
       "75%           8.203146e+17              4.196984e+09         12.000000   \n",
       "max           8.874740e+17              7.874618e+17       1776.000000   \n",
       "\n",
       "       rating_denominator  \n",
       "count         2356.000000  \n",
       "mean            10.455433  \n",
       "std              6.745237  \n",
       "min              0.000000  \n",
       "25%             10.000000  \n",
       "50%             10.000000  \n",
       "75%             10.000000  \n",
       "max            170.000000  "
      ]
     },
     "execution_count": 16,
     "metadata": {},
     "output_type": "execute_result"
    }
   ],
   "source": [
    "twitter_archive_enh.describe()"
   ]
  },
  {
   "cell_type": "code",
   "execution_count": 17,
   "metadata": {},
   "outputs": [
    {
     "data": {
      "text/plain": [
       "0"
      ]
     },
     "execution_count": 17,
     "metadata": {},
     "output_type": "execute_result"
    }
   ],
   "source": [
    "sum(twitter_archive_enh.duplicated())"
   ]
  },
  {
   "cell_type": "code",
   "execution_count": 18,
   "metadata": {},
   "outputs": [
    {
     "data": {
      "text/plain": [
       "tweet_id                         0\n",
       "in_reply_to_status_id         2278\n",
       "in_reply_to_user_id           2278\n",
       "timestamp                        0\n",
       "source                           0\n",
       "text                             0\n",
       "retweeted_status_id           2175\n",
       "retweeted_status_user_id      2175\n",
       "retweeted_status_timestamp    2175\n",
       "expanded_urls                   59\n",
       "rating_numerator                 0\n",
       "rating_denominator               0\n",
       "name                             0\n",
       "doggo                            0\n",
       "floofer                          0\n",
       "pupper                           0\n",
       "puppo                            0\n",
       "dtype: int64"
      ]
     },
     "execution_count": 18,
     "metadata": {},
     "output_type": "execute_result"
    }
   ],
   "source": [
    "twitter_archive_enh.isnull().sum()"
   ]
  },
  {
   "cell_type": "code",
   "execution_count": 19,
   "metadata": {},
   "outputs": [
    {
     "data": {
      "text/plain": [
       "None       745\n",
       "a           55\n",
       "Charlie     12\n",
       "Oliver      11\n",
       "Cooper      11\n",
       "Lucy        11\n",
       "Lola        10\n",
       "Tucker      10\n",
       "Penny       10\n",
       "Bo           9\n",
       "Winston      9\n",
       "the          8\n",
       "Sadie        8\n",
       "Buddy        7\n",
       "an           7\n",
       "Toby         7\n",
       "Bailey       7\n",
       "Daisy        7\n",
       "Bella        6\n",
       "Scout        6\n",
       "Jax          6\n",
       "Rusty        6\n",
       "Leo          6\n",
       "Dave         6\n",
       "Koda         6\n",
       "Jack         6\n",
       "Milo         6\n",
       "Stanley      6\n",
       "Oscar        6\n",
       "Larry        5\n",
       "Chester      5\n",
       "Oakley       5\n",
       "Finn         5\n",
       "Bentley      5\n",
       "Gus          5\n",
       "Name: name, dtype: int64"
      ]
     },
     "execution_count": 19,
     "metadata": {},
     "output_type": "execute_result"
    }
   ],
   "source": [
    "# What is the most common name of a dog\n",
    "twitter_archive_enh.name.value_counts().head(35)"
   ]
  },
  {
   "cell_type": "code",
   "execution_count": 20,
   "metadata": {},
   "outputs": [
    {
     "data": {
      "text/plain": [
       "1017        a\n",
       "2353        a\n",
       "2212      the\n",
       "1994        a\n",
       "2354        a\n",
       "2211        a\n",
       "369       one\n",
       "169     quite\n",
       "1785        a\n",
       "1206      old\n",
       "Name: name, dtype: object"
      ]
     },
     "execution_count": 20,
     "metadata": {},
     "output_type": "execute_result"
    }
   ],
   "source": [
    "#sample dog names\n",
    "twitter_archive_enh[twitter_archive_enh.name.str.islower()].name.sample(10)"
   ]
  },
  {
   "cell_type": "code",
   "execution_count": 21,
   "metadata": {},
   "outputs": [
    {
     "name": "stdout",
     "output_type": "stream",
     "text": [
      "RT @dog_rates: This is just downright precious af. 12/10 for both pupper and doggo https://t.co/o5J479bZUC\n",
      "This is the newly formed pupper a capella group. They're just starting out but I see tons of potential. 8/10 for all https://t.co/wbAcvFoNtn\n",
      "This is just impressive I have nothing else to say. 11/10 https://t.co/LquQZiZjJP\n",
      "Here is a Siberian heavily armored polar bear mix. Strong owner. 10/10 I would do unspeakable things to pet this dog https://t.co/rdivxLiqEt\n",
      "We only rate dogs. Pls stop sending in non-canines like this Mongolian grass snake. This is very frustrating. 11/10 https://t.co/22x9SbCYCU\n",
      "RT @dog_rates: Say hello to mad pupper. You know what you did. 13/10 would pet until no longer furustrated https://t.co/u1ulQ5heLX\n",
      "This is a brave dog. Excellent free climber. Trying to get closer to God. Not very loyal though. Doesn't bark. 5/10 https://t.co/ODnILTr4QM\n",
      "This is a rare Hungarian Pinot named Jessiga. She is either mid-stroke or got stuck in the washing machine. 8/10 https://t.co/ZU0i0KJyqD\n"
     ]
    }
   ],
   "source": [
    "print(twitter_archive_enh.iloc[822].text)\n",
    "print(twitter_archive_enh.iloc[1603].text)\n",
    "print(twitter_archive_enh.iloc[2019].text)\n",
    "print(twitter_archive_enh.iloc[2348].text)\n",
    "print(twitter_archive_enh.iloc[1385].text)\n",
    "print(twitter_archive_enh.iloc[682].text)\n",
    "print(twitter_archive_enh.iloc[2153].text)\n",
    "print(twitter_archive_enh.iloc[2255].text) "
   ]
  },
  {
   "cell_type": "markdown",
   "metadata": {},
   "source": [
    "We can see 'a', 'an', 'the', 'very' are also in the most common names."
   ]
  },
  {
   "cell_type": "code",
   "execution_count": 22,
   "metadata": {},
   "outputs": [
    {
     "name": "stdout",
     "output_type": "stream",
     "text": [
      "Doggo \n",
      " None     2259\n",
      "doggo      97\n",
      "Name: doggo, dtype: int64\n",
      "\n",
      "Floofer \n",
      " None       2346\n",
      "floofer      10\n",
      "Name: floofer, dtype: int64\n",
      "\n",
      "Pupper \n",
      " None      2099\n",
      "pupper     257\n",
      "Name: pupper, dtype: int64\n",
      "\n",
      "Puppo \n",
      " None     2326\n",
      "puppo      30\n",
      "Name: puppo, dtype: int64\n",
      "\n"
     ]
    }
   ],
   "source": [
    "print('Doggo \\n {}\\n'.format(twitter_archive_enh.doggo.value_counts()))\n",
    "print('Floofer \\n {}\\n'.format(twitter_archive_enh.floofer.value_counts()))\n",
    "print('Pupper \\n {}\\n'.format(twitter_archive_enh.pupper.value_counts()))\n",
    "print('Puppo \\n {}\\n'.format(twitter_archive_enh.puppo.value_counts()))"
   ]
  },
  {
   "cell_type": "code",
   "execution_count": 23,
   "metadata": {},
   "outputs": [
    {
     "data": {
      "text/plain": [
       "12      558\n",
       "11      464\n",
       "10      461\n",
       "13      351\n",
       "9       158\n",
       "8       102\n",
       "7        55\n",
       "14       54\n",
       "5        37\n",
       "6        32\n",
       "3        19\n",
       "4        17\n",
       "1         9\n",
       "2         9\n",
       "420       2\n",
       "0         2\n",
       "15        2\n",
       "75        2\n",
       "80        1\n",
       "20        1\n",
       "24        1\n",
       "26        1\n",
       "44        1\n",
       "50        1\n",
       "60        1\n",
       "165       1\n",
       "84        1\n",
       "88        1\n",
       "144       1\n",
       "182       1\n",
       "143       1\n",
       "666       1\n",
       "960       1\n",
       "1776      1\n",
       "17        1\n",
       "27        1\n",
       "45        1\n",
       "99        1\n",
       "121       1\n",
       "204       1\n",
       "Name: rating_numerator, dtype: int64"
      ]
     },
     "execution_count": 23,
     "metadata": {},
     "output_type": "execute_result"
    }
   ],
   "source": [
    "#Look at the ratings range\n",
    "twitter_archive_enh.rating_numerator.value_counts()"
   ]
  },
  {
   "cell_type": "code",
   "execution_count": 24,
   "metadata": {},
   "outputs": [
    {
     "data": {
      "text/plain": [
       "315     When you're so blinded by your systematic plag...\n",
       "1016    PUPDATE: can't see any. Even if I could, I cou...\n",
       "Name: text, dtype: object"
      ]
     },
     "execution_count": 24,
     "metadata": {},
     "output_type": "execute_result"
    }
   ],
   "source": [
    "twitter_archive_enh[twitter_archive_enh.rating_numerator==0].text"
   ]
  },
  {
   "cell_type": "markdown",
   "metadata": {},
   "source": [
    "- There are several single occurances of ratings over 20 and 3 or 4 digits, it may be a mistaken rating.\n",
    "- 0 numerator does not have any dogs"
   ]
  },
  {
   "cell_type": "code",
   "execution_count": 25,
   "metadata": {},
   "outputs": [
    {
     "data": {
      "text/plain": [
       "10     2333\n",
       "11        3\n",
       "50        3\n",
       "80        2\n",
       "20        2\n",
       "2         1\n",
       "16        1\n",
       "40        1\n",
       "70        1\n",
       "15        1\n",
       "90        1\n",
       "110       1\n",
       "120       1\n",
       "130       1\n",
       "150       1\n",
       "170       1\n",
       "7         1\n",
       "0         1\n",
       "Name: rating_denominator, dtype: int64"
      ]
     },
     "execution_count": 25,
     "metadata": {},
     "output_type": "execute_result"
    }
   ],
   "source": [
    "twitter_archive_enh.rating_denominator.value_counts()"
   ]
  },
  {
   "cell_type": "code",
   "execution_count": 26,
   "metadata": {},
   "outputs": [
    {
     "data": {
      "text/plain": [
       "Index(['tweet_id', 'in_reply_to_status_id', 'in_reply_to_user_id', 'timestamp',\n",
       "       'source', 'text', 'retweeted_status_id', 'retweeted_status_user_id',\n",
       "       'retweeted_status_timestamp', 'expanded_urls', 'rating_numerator',\n",
       "       'rating_denominator', 'name', 'doggo', 'floofer', 'pupper', 'puppo'],\n",
       "      dtype='object')"
      ]
     },
     "execution_count": 26,
     "metadata": {},
     "output_type": "execute_result"
    }
   ],
   "source": [
    "twitter_archive_enh.columns"
   ]
  },
  {
   "cell_type": "code",
   "execution_count": 27,
   "metadata": {},
   "outputs": [
    {
     "data": {
      "text/html": [
       "<div>\n",
       "<style scoped>\n",
       "    .dataframe tbody tr th:only-of-type {\n",
       "        vertical-align: middle;\n",
       "    }\n",
       "\n",
       "    .dataframe tbody tr th {\n",
       "        vertical-align: top;\n",
       "    }\n",
       "\n",
       "    .dataframe thead th {\n",
       "        text-align: right;\n",
       "    }\n",
       "</style>\n",
       "<table border=\"1\" class=\"dataframe\">\n",
       "  <thead>\n",
       "    <tr style=\"text-align: right;\">\n",
       "      <th></th>\n",
       "      <th>tweet_id</th>\n",
       "      <th>rating_numerator</th>\n",
       "      <th>rating_denominator</th>\n",
       "      <th>text</th>\n",
       "    </tr>\n",
       "  </thead>\n",
       "  <tbody>\n",
       "    <tr>\n",
       "      <th>313</th>\n",
       "      <td>835246439529840640</td>\n",
       "      <td>960</td>\n",
       "      <td>0</td>\n",
       "      <td>@jonnysun @Lin_Manuel ok jomny I know you're e...</td>\n",
       "    </tr>\n",
       "    <tr>\n",
       "      <th>342</th>\n",
       "      <td>832088576586297345</td>\n",
       "      <td>11</td>\n",
       "      <td>15</td>\n",
       "      <td>@docmisterio account started on 11/15/15</td>\n",
       "    </tr>\n",
       "    <tr>\n",
       "      <th>433</th>\n",
       "      <td>820690176645140481</td>\n",
       "      <td>84</td>\n",
       "      <td>70</td>\n",
       "      <td>The floofs have been released I repeat the flo...</td>\n",
       "    </tr>\n",
       "    <tr>\n",
       "      <th>516</th>\n",
       "      <td>810984652412424192</td>\n",
       "      <td>24</td>\n",
       "      <td>7</td>\n",
       "      <td>Meet Sam. She smiles 24/7 &amp;amp; secretly aspir...</td>\n",
       "    </tr>\n",
       "    <tr>\n",
       "      <th>784</th>\n",
       "      <td>775096608509886464</td>\n",
       "      <td>9</td>\n",
       "      <td>11</td>\n",
       "      <td>RT @dog_rates: After so many requests, this is...</td>\n",
       "    </tr>\n",
       "    <tr>\n",
       "      <th>902</th>\n",
       "      <td>758467244762497024</td>\n",
       "      <td>165</td>\n",
       "      <td>150</td>\n",
       "      <td>Why does this never happen at my front door......</td>\n",
       "    </tr>\n",
       "    <tr>\n",
       "      <th>1068</th>\n",
       "      <td>740373189193256964</td>\n",
       "      <td>9</td>\n",
       "      <td>11</td>\n",
       "      <td>After so many requests, this is Bretagne. She ...</td>\n",
       "    </tr>\n",
       "    <tr>\n",
       "      <th>1120</th>\n",
       "      <td>731156023742988288</td>\n",
       "      <td>204</td>\n",
       "      <td>170</td>\n",
       "      <td>Say hello to this unbelievably well behaved sq...</td>\n",
       "    </tr>\n",
       "    <tr>\n",
       "      <th>1165</th>\n",
       "      <td>722974582966214656</td>\n",
       "      <td>4</td>\n",
       "      <td>20</td>\n",
       "      <td>Happy 4/20 from the squad! 13/10 for all https...</td>\n",
       "    </tr>\n",
       "    <tr>\n",
       "      <th>1202</th>\n",
       "      <td>716439118184652801</td>\n",
       "      <td>50</td>\n",
       "      <td>50</td>\n",
       "      <td>This is Bluebert. He just saw that both #Final...</td>\n",
       "    </tr>\n",
       "    <tr>\n",
       "      <th>1228</th>\n",
       "      <td>713900603437621249</td>\n",
       "      <td>99</td>\n",
       "      <td>90</td>\n",
       "      <td>Happy Saturday here's 9 puppers on a bench. 99...</td>\n",
       "    </tr>\n",
       "    <tr>\n",
       "      <th>1254</th>\n",
       "      <td>710658690886586372</td>\n",
       "      <td>80</td>\n",
       "      <td>80</td>\n",
       "      <td>Here's a brigade of puppers. All look very pre...</td>\n",
       "    </tr>\n",
       "    <tr>\n",
       "      <th>1274</th>\n",
       "      <td>709198395643068416</td>\n",
       "      <td>45</td>\n",
       "      <td>50</td>\n",
       "      <td>From left to right:\\nCletus, Jerome, Alejandro...</td>\n",
       "    </tr>\n",
       "    <tr>\n",
       "      <th>1351</th>\n",
       "      <td>704054845121142784</td>\n",
       "      <td>60</td>\n",
       "      <td>50</td>\n",
       "      <td>Here is a whole flock of puppers.  60/50 I'll ...</td>\n",
       "    </tr>\n",
       "    <tr>\n",
       "      <th>1433</th>\n",
       "      <td>697463031882764288</td>\n",
       "      <td>44</td>\n",
       "      <td>40</td>\n",
       "      <td>Happy Wednesday here's a bucket of pups. 44/40...</td>\n",
       "    </tr>\n",
       "    <tr>\n",
       "      <th>1598</th>\n",
       "      <td>686035780142297088</td>\n",
       "      <td>4</td>\n",
       "      <td>20</td>\n",
       "      <td>Yes I do realize a rating of 4/20 would've bee...</td>\n",
       "    </tr>\n",
       "    <tr>\n",
       "      <th>1634</th>\n",
       "      <td>684225744407494656</td>\n",
       "      <td>143</td>\n",
       "      <td>130</td>\n",
       "      <td>Two sneaky puppers were not initially seen, mo...</td>\n",
       "    </tr>\n",
       "    <tr>\n",
       "      <th>1635</th>\n",
       "      <td>684222868335505415</td>\n",
       "      <td>121</td>\n",
       "      <td>110</td>\n",
       "      <td>Someone help the girl is being mugged. Several...</td>\n",
       "    </tr>\n",
       "    <tr>\n",
       "      <th>1662</th>\n",
       "      <td>682962037429899265</td>\n",
       "      <td>7</td>\n",
       "      <td>11</td>\n",
       "      <td>This is Darrel. He just robbed a 7/11 and is i...</td>\n",
       "    </tr>\n",
       "    <tr>\n",
       "      <th>1663</th>\n",
       "      <td>682808988178739200</td>\n",
       "      <td>20</td>\n",
       "      <td>16</td>\n",
       "      <td>I'm aware that I could've said 20/16, but here...</td>\n",
       "    </tr>\n",
       "    <tr>\n",
       "      <th>1779</th>\n",
       "      <td>677716515794329600</td>\n",
       "      <td>144</td>\n",
       "      <td>120</td>\n",
       "      <td>IT'S PUPPERGEDDON. Total of 144/120 ...I think...</td>\n",
       "    </tr>\n",
       "    <tr>\n",
       "      <th>1843</th>\n",
       "      <td>675853064436391936</td>\n",
       "      <td>88</td>\n",
       "      <td>80</td>\n",
       "      <td>Here we have an entire platoon of puppers. Tot...</td>\n",
       "    </tr>\n",
       "    <tr>\n",
       "      <th>2335</th>\n",
       "      <td>666287406224695296</td>\n",
       "      <td>1</td>\n",
       "      <td>2</td>\n",
       "      <td>This is an Albanian 3 1/2 legged  Episcopalian...</td>\n",
       "    </tr>\n",
       "  </tbody>\n",
       "</table>\n",
       "</div>"
      ],
      "text/plain": [
       "                tweet_id  rating_numerator  rating_denominator  \\\n",
       "313   835246439529840640               960                   0   \n",
       "342   832088576586297345                11                  15   \n",
       "433   820690176645140481                84                  70   \n",
       "516   810984652412424192                24                   7   \n",
       "784   775096608509886464                 9                  11   \n",
       "902   758467244762497024               165                 150   \n",
       "1068  740373189193256964                 9                  11   \n",
       "1120  731156023742988288               204                 170   \n",
       "1165  722974582966214656                 4                  20   \n",
       "1202  716439118184652801                50                  50   \n",
       "1228  713900603437621249                99                  90   \n",
       "1254  710658690886586372                80                  80   \n",
       "1274  709198395643068416                45                  50   \n",
       "1351  704054845121142784                60                  50   \n",
       "1433  697463031882764288                44                  40   \n",
       "1598  686035780142297088                 4                  20   \n",
       "1634  684225744407494656               143                 130   \n",
       "1635  684222868335505415               121                 110   \n",
       "1662  682962037429899265                 7                  11   \n",
       "1663  682808988178739200                20                  16   \n",
       "1779  677716515794329600               144                 120   \n",
       "1843  675853064436391936                88                  80   \n",
       "2335  666287406224695296                 1                   2   \n",
       "\n",
       "                                                   text  \n",
       "313   @jonnysun @Lin_Manuel ok jomny I know you're e...  \n",
       "342            @docmisterio account started on 11/15/15  \n",
       "433   The floofs have been released I repeat the flo...  \n",
       "516   Meet Sam. She smiles 24/7 &amp; secretly aspir...  \n",
       "784   RT @dog_rates: After so many requests, this is...  \n",
       "902   Why does this never happen at my front door......  \n",
       "1068  After so many requests, this is Bretagne. She ...  \n",
       "1120  Say hello to this unbelievably well behaved sq...  \n",
       "1165  Happy 4/20 from the squad! 13/10 for all https...  \n",
       "1202  This is Bluebert. He just saw that both #Final...  \n",
       "1228  Happy Saturday here's 9 puppers on a bench. 99...  \n",
       "1254  Here's a brigade of puppers. All look very pre...  \n",
       "1274  From left to right:\\nCletus, Jerome, Alejandro...  \n",
       "1351  Here is a whole flock of puppers.  60/50 I'll ...  \n",
       "1433  Happy Wednesday here's a bucket of pups. 44/40...  \n",
       "1598  Yes I do realize a rating of 4/20 would've bee...  \n",
       "1634  Two sneaky puppers were not initially seen, mo...  \n",
       "1635  Someone help the girl is being mugged. Several...  \n",
       "1662  This is Darrel. He just robbed a 7/11 and is i...  \n",
       "1663  I'm aware that I could've said 20/16, but here...  \n",
       "1779  IT'S PUPPERGEDDON. Total of 144/120 ...I think...  \n",
       "1843  Here we have an entire platoon of puppers. Tot...  \n",
       "2335  This is an Albanian 3 1/2 legged  Episcopalian...  "
      ]
     },
     "execution_count": 27,
     "metadata": {},
     "output_type": "execute_result"
    }
   ],
   "source": [
    "slice_non10= twitter_archive_enh[twitter_archive_enh.rating_denominator!=10]\n",
    "slice_non10[['tweet_id','rating_numerator','rating_denominator','text']]"
   ]
  },
  {
   "cell_type": "code",
   "execution_count": 28,
   "metadata": {},
   "outputs": [
    {
     "name": "stdout",
     "output_type": "stream",
     "text": [
      "RT @dog_rates: After so many requests, this is Bretagne. She was the last surviving 9/11 search dog, and our second ever 14/10. RIP https:/…\n",
      "After so many requests, this is Bretagne. She was the last surviving 9/11 search dog, and our second ever 14/10. RIP https://t.co/XAVDNDaVgQ\n",
      "This is Darrel. He just robbed a 7/11 and is in a high speed police chase. Was just spotted by the helicopter 10/10 https://t.co/7EsP8LmSp5\n"
     ]
    }
   ],
   "source": [
    "#twitter_archive_enh[twitter_archive_enh.rating_denominator==11].text\n",
    "\n",
    "print(twitter_archive_enh.iloc[784].text) #Rating is 14/10\n",
    "print(twitter_archive_enh.iloc[1068].text) #duplicate\n",
    "print(twitter_archive_enh.iloc[1662].text) #duplicate"
   ]
  },
  {
   "cell_type": "code",
   "execution_count": 29,
   "metadata": {},
   "outputs": [
    {
     "data": {
      "text/html": [
       "<div>\n",
       "<style scoped>\n",
       "    .dataframe tbody tr th:only-of-type {\n",
       "        vertical-align: middle;\n",
       "    }\n",
       "\n",
       "    .dataframe tbody tr th {\n",
       "        vertical-align: top;\n",
       "    }\n",
       "\n",
       "    .dataframe thead th {\n",
       "        text-align: right;\n",
       "    }\n",
       "</style>\n",
       "<table border=\"1\" class=\"dataframe\">\n",
       "  <thead>\n",
       "    <tr style=\"text-align: right;\">\n",
       "      <th></th>\n",
       "      <th>tweet_id</th>\n",
       "      <th>in_reply_to_status_id</th>\n",
       "      <th>in_reply_to_user_id</th>\n",
       "      <th>timestamp</th>\n",
       "      <th>source</th>\n",
       "      <th>text</th>\n",
       "      <th>retweeted_status_id</th>\n",
       "      <th>retweeted_status_user_id</th>\n",
       "      <th>retweeted_status_timestamp</th>\n",
       "      <th>expanded_urls</th>\n",
       "      <th>rating_numerator</th>\n",
       "      <th>rating_denominator</th>\n",
       "      <th>name</th>\n",
       "      <th>doggo</th>\n",
       "      <th>floofer</th>\n",
       "      <th>pupper</th>\n",
       "      <th>puppo</th>\n",
       "    </tr>\n",
       "  </thead>\n",
       "  <tbody>\n",
       "    <tr>\n",
       "      <th>342</th>\n",
       "      <td>832088576586297345</td>\n",
       "      <td>8.320875e+17</td>\n",
       "      <td>30582082.0</td>\n",
       "      <td>2017-02-16 04:45:50 +0000</td>\n",
       "      <td>&lt;a href=\"http://twitter.com/download/iphone\" r...</td>\n",
       "      <td>@docmisterio account started on 11/15/15</td>\n",
       "      <td>NaN</td>\n",
       "      <td>NaN</td>\n",
       "      <td>NaN</td>\n",
       "      <td>NaN</td>\n",
       "      <td>11</td>\n",
       "      <td>15</td>\n",
       "      <td>None</td>\n",
       "      <td>None</td>\n",
       "      <td>None</td>\n",
       "      <td>None</td>\n",
       "      <td>None</td>\n",
       "    </tr>\n",
       "  </tbody>\n",
       "</table>\n",
       "</div>"
      ],
      "text/plain": [
       "               tweet_id  in_reply_to_status_id  in_reply_to_user_id  \\\n",
       "342  832088576586297345           8.320875e+17           30582082.0   \n",
       "\n",
       "                     timestamp  \\\n",
       "342  2017-02-16 04:45:50 +0000   \n",
       "\n",
       "                                                source  \\\n",
       "342  <a href=\"http://twitter.com/download/iphone\" r...   \n",
       "\n",
       "                                         text  retweeted_status_id  \\\n",
       "342  @docmisterio account started on 11/15/15                  NaN   \n",
       "\n",
       "     retweeted_status_user_id retweeted_status_timestamp expanded_urls  \\\n",
       "342                       NaN                        NaN           NaN   \n",
       "\n",
       "     rating_numerator  rating_denominator  name doggo floofer pupper puppo  \n",
       "342                11                  15  None  None    None   None  None  "
      ]
     },
     "execution_count": 29,
     "metadata": {},
     "output_type": "execute_result"
    }
   ],
   "source": [
    "twitter_archive_enh[twitter_archive_enh.rating_denominator==15]\n",
    "#img_predictions[img_predictions.tweet_id==832088576586297345] #Not present in img prediction, so delete"
   ]
  },
  {
   "cell_type": "code",
   "execution_count": 30,
   "metadata": {},
   "outputs": [
    {
     "data": {
      "text/html": [
       "<div>\n",
       "<style scoped>\n",
       "    .dataframe tbody tr th:only-of-type {\n",
       "        vertical-align: middle;\n",
       "    }\n",
       "\n",
       "    .dataframe tbody tr th {\n",
       "        vertical-align: top;\n",
       "    }\n",
       "\n",
       "    .dataframe thead th {\n",
       "        text-align: right;\n",
       "    }\n",
       "</style>\n",
       "<table border=\"1\" class=\"dataframe\">\n",
       "  <thead>\n",
       "    <tr style=\"text-align: right;\">\n",
       "      <th></th>\n",
       "      <th>tweet_id</th>\n",
       "      <th>jpg_url</th>\n",
       "      <th>img_num</th>\n",
       "      <th>p1</th>\n",
       "      <th>p1_conf</th>\n",
       "      <th>p1_dog</th>\n",
       "      <th>p2</th>\n",
       "      <th>p2_conf</th>\n",
       "      <th>p2_dog</th>\n",
       "      <th>p3</th>\n",
       "      <th>p3_conf</th>\n",
       "      <th>p3_dog</th>\n",
       "    </tr>\n",
       "  </thead>\n",
       "  <tbody>\n",
       "  </tbody>\n",
       "</table>\n",
       "</div>"
      ],
      "text/plain": [
       "Empty DataFrame\n",
       "Columns: [tweet_id, jpg_url, img_num, p1, p1_conf, p1_dog, p2, p2_conf, p2_dog, p3, p3_conf, p3_dog]\n",
       "Index: []"
      ]
     },
     "execution_count": 30,
     "metadata": {},
     "output_type": "execute_result"
    }
   ],
   "source": [
    "twitter_archive_enh[twitter_archive_enh.rating_denominator==16] # no url, leave it as such\n",
    "twitter_archive_enh[twitter_archive_enh.rating_denominator==16].tweet_id\n",
    "\n",
    "img_predictions[img_predictions.tweet_id==682808988178739200] # not present, delete"
   ]
  },
  {
   "cell_type": "code",
   "execution_count": 31,
   "metadata": {},
   "outputs": [
    {
     "data": {
      "text/plain": [
       "1658    https://pbs.twimg.com/media/C0EyPZbXAAAceSc.jpg\n",
       "Name: jpg_url, dtype: object"
      ]
     },
     "execution_count": 31,
     "metadata": {},
     "output_type": "execute_result"
    }
   ],
   "source": [
    "twitter_archive_enh[twitter_archive_enh.rating_denominator==7].expanded_urls\n",
    "img_predictions[img_predictions.tweet_id==810984652412424192].jpg_url # present here but no rating, fundraiser"
   ]
  },
  {
   "cell_type": "code",
   "execution_count": 32,
   "metadata": {},
   "outputs": [
    {
     "data": {
      "text/plain": [
       "2335    This is an Albanian 3 1/2 legged  Episcopalian. Loves well-polished hardwood flooring. Penis on the collar. 9/10 https://t.co/d9NcXFKwLv\n",
       "Name: text, dtype: object"
      ]
     },
     "execution_count": 32,
     "metadata": {},
     "output_type": "execute_result"
    }
   ],
   "source": [
    "pd.set_option('display.max_colwidth', None)\n",
    "twitter_archive_enh[twitter_archive_enh.rating_denominator==2].text #actual rating 9/10"
   ]
  },
  {
   "cell_type": "code",
   "execution_count": 33,
   "metadata": {
    "scrolled": true
   },
   "outputs": [
    {
     "data": {
      "text/plain": [
       "1165                                                                            Happy 4/20 from the squad! 13/10 for all https://t.co/eV1diwds8a\n",
       "1598    Yes I do realize a rating of 4/20 would've been fitting. However, it would be unjust to give these cooperative pups that low of a rating\n",
       "Name: text, dtype: object"
      ]
     },
     "execution_count": 33,
     "metadata": {},
     "output_type": "execute_result"
    }
   ],
   "source": [
    "twitter_archive_enh[twitter_archive_enh.rating_denominator==20].text # multiple dogs"
   ]
  },
  {
   "cell_type": "code",
   "execution_count": 34,
   "metadata": {},
   "outputs": [
    {
     "data": {
      "text/plain": [
       "12      558\n",
       "11      464\n",
       "10      461\n",
       "13      351\n",
       "9       158\n",
       "8       102\n",
       "7        55\n",
       "14       54\n",
       "5        37\n",
       "6        32\n",
       "3        19\n",
       "4        17\n",
       "1         9\n",
       "2         9\n",
       "420       2\n",
       "0         2\n",
       "15        2\n",
       "75        2\n",
       "80        1\n",
       "20        1\n",
       "24        1\n",
       "26        1\n",
       "44        1\n",
       "50        1\n",
       "60        1\n",
       "165       1\n",
       "84        1\n",
       "88        1\n",
       "144       1\n",
       "182       1\n",
       "143       1\n",
       "666       1\n",
       "960       1\n",
       "1776      1\n",
       "17        1\n",
       "27        1\n",
       "45        1\n",
       "99        1\n",
       "121       1\n",
       "204       1\n",
       "Name: rating_numerator, dtype: int64"
      ]
     },
     "execution_count": 34,
     "metadata": {},
     "output_type": "execute_result"
    }
   ],
   "source": [
    "twitter_archive_enh.rating_numerator.value_counts()"
   ]
  },
  {
   "cell_type": "code",
   "execution_count": 35,
   "metadata": {
    "scrolled": true
   },
   "outputs": [
    {
     "data": {
      "text/html": [
       "<div>\n",
       "<style scoped>\n",
       "    .dataframe tbody tr th:only-of-type {\n",
       "        vertical-align: middle;\n",
       "    }\n",
       "\n",
       "    .dataframe tbody tr th {\n",
       "        vertical-align: top;\n",
       "    }\n",
       "\n",
       "    .dataframe thead th {\n",
       "        text-align: right;\n",
       "    }\n",
       "</style>\n",
       "<table border=\"1\" class=\"dataframe\">\n",
       "  <thead>\n",
       "    <tr style=\"text-align: right;\">\n",
       "      <th></th>\n",
       "      <th>tweet_id</th>\n",
       "      <th>jpg_url</th>\n",
       "      <th>img_num</th>\n",
       "      <th>p1</th>\n",
       "      <th>p1_conf</th>\n",
       "      <th>p1_dog</th>\n",
       "      <th>p2</th>\n",
       "      <th>p2_conf</th>\n",
       "      <th>p2_dog</th>\n",
       "      <th>p3</th>\n",
       "      <th>p3_conf</th>\n",
       "      <th>p3_dog</th>\n",
       "    </tr>\n",
       "  </thead>\n",
       "  <tbody>\n",
       "  </tbody>\n",
       "</table>\n",
       "</div>"
      ],
      "text/plain": [
       "Empty DataFrame\n",
       "Columns: [tweet_id, jpg_url, img_num, p1, p1_conf, p1_dog, p2, p2_conf, p2_dog, p3, p3_conf, p3_dog]\n",
       "Index: []"
      ]
     },
     "execution_count": 35,
     "metadata": {},
     "output_type": "execute_result"
    }
   ],
   "source": [
    "## Will analyze 75, 0, 420, 26, 182, 27, 1776, 17, 666\n",
    "twitter_archive_enh[twitter_archive_enh.rating_numerator==75] # REmove numerator = 0, 75 -> 9.75\n",
    "twitter_archive_enh[twitter_archive_enh.rating_numerator==420].text # REmove > Snoop Dogg not a dog\n",
    "twitter_archive_enh[twitter_archive_enh.rating_numerator==26] # Wrong rating = 11.26\n",
    "twitter_archive_enh[twitter_archive_enh.rating_numerator==182] # remove\n",
    "twitter_archive_enh[twitter_archive_enh.rating_numerator==27] # Wrong rating = 11.27\n",
    "twitter_archive_enh[twitter_archive_enh.rating_numerator==1776].text # Not keeping remove\n",
    "twitter_archive_enh[twitter_archive_enh.rating_numerator==17] # remove multiple dogs\n",
    "twitter_archive_enh[twitter_archive_enh.rating_numerator==666].tweet_id # remove, not present in img_pred\n",
    "img_predictions[img_predictions.tweet_id == 855860136149123072] \n",
    "# "
   ]
  },
  {
   "cell_type": "code",
   "execution_count": 36,
   "metadata": {},
   "outputs": [
    {
     "data": {
      "text/html": [
       "<div>\n",
       "<style scoped>\n",
       "    .dataframe tbody tr th:only-of-type {\n",
       "        vertical-align: middle;\n",
       "    }\n",
       "\n",
       "    .dataframe tbody tr th {\n",
       "        vertical-align: top;\n",
       "    }\n",
       "\n",
       "    .dataframe thead th {\n",
       "        text-align: right;\n",
       "    }\n",
       "</style>\n",
       "<table border=\"1\" class=\"dataframe\">\n",
       "  <thead>\n",
       "    <tr style=\"text-align: right;\">\n",
       "      <th></th>\n",
       "      <th>tweet_id</th>\n",
       "      <th>in_reply_to_status_id</th>\n",
       "      <th>in_reply_to_user_id</th>\n",
       "      <th>timestamp</th>\n",
       "      <th>source</th>\n",
       "      <th>text</th>\n",
       "      <th>retweeted_status_id</th>\n",
       "      <th>retweeted_status_user_id</th>\n",
       "      <th>retweeted_status_timestamp</th>\n",
       "      <th>expanded_urls</th>\n",
       "      <th>rating_numerator</th>\n",
       "      <th>rating_denominator</th>\n",
       "      <th>name</th>\n",
       "      <th>doggo</th>\n",
       "      <th>floofer</th>\n",
       "      <th>pupper</th>\n",
       "      <th>puppo</th>\n",
       "    </tr>\n",
       "  </thead>\n",
       "  <tbody>\n",
       "    <tr>\n",
       "      <th>340</th>\n",
       "      <td>832215909146226688</td>\n",
       "      <td>NaN</td>\n",
       "      <td>NaN</td>\n",
       "      <td>2017-02-16 13:11:49 +0000</td>\n",
       "      <td>&lt;a href=\"http://twitter.com/download/iphone\" rel=\"nofollow\"&gt;Twitter for iPhone&lt;/a&gt;</td>\n",
       "      <td>RT @dog_rates: This is Logan, the Chow who lived. He solemnly swears he's up to lots of good. H*ckin magical af 9.75/10 https://t.co/yBO5wu…</td>\n",
       "      <td>7.867091e+17</td>\n",
       "      <td>4.196984e+09</td>\n",
       "      <td>2016-10-13 23:23:56 +0000</td>\n",
       "      <td>https://twitter.com/dog_rates/status/786709082849828864/photo/1</td>\n",
       "      <td>75</td>\n",
       "      <td>10</td>\n",
       "      <td>Logan</td>\n",
       "      <td>None</td>\n",
       "      <td>None</td>\n",
       "      <td>None</td>\n",
       "      <td>None</td>\n",
       "    </tr>\n",
       "    <tr>\n",
       "      <th>695</th>\n",
       "      <td>786709082849828864</td>\n",
       "      <td>NaN</td>\n",
       "      <td>NaN</td>\n",
       "      <td>2016-10-13 23:23:56 +0000</td>\n",
       "      <td>&lt;a href=\"http://twitter.com/download/iphone\" rel=\"nofollow\"&gt;Twitter for iPhone&lt;/a&gt;</td>\n",
       "      <td>This is Logan, the Chow who lived. He solemnly swears he's up to lots of good. H*ckin magical af 9.75/10 https://t.co/yBO5wuqaPS</td>\n",
       "      <td>NaN</td>\n",
       "      <td>NaN</td>\n",
       "      <td>NaN</td>\n",
       "      <td>https://twitter.com/dog_rates/status/786709082849828864/photo/1</td>\n",
       "      <td>75</td>\n",
       "      <td>10</td>\n",
       "      <td>Logan</td>\n",
       "      <td>None</td>\n",
       "      <td>None</td>\n",
       "      <td>None</td>\n",
       "      <td>None</td>\n",
       "    </tr>\n",
       "  </tbody>\n",
       "</table>\n",
       "</div>"
      ],
      "text/plain": [
       "               tweet_id  in_reply_to_status_id  in_reply_to_user_id  \\\n",
       "340  832215909146226688                    NaN                  NaN   \n",
       "695  786709082849828864                    NaN                  NaN   \n",
       "\n",
       "                     timestamp  \\\n",
       "340  2017-02-16 13:11:49 +0000   \n",
       "695  2016-10-13 23:23:56 +0000   \n",
       "\n",
       "                                                                                 source  \\\n",
       "340  <a href=\"http://twitter.com/download/iphone\" rel=\"nofollow\">Twitter for iPhone</a>   \n",
       "695  <a href=\"http://twitter.com/download/iphone\" rel=\"nofollow\">Twitter for iPhone</a>   \n",
       "\n",
       "                                                                                                                                             text  \\\n",
       "340  RT @dog_rates: This is Logan, the Chow who lived. He solemnly swears he's up to lots of good. H*ckin magical af 9.75/10 https://t.co/yBO5wu…   \n",
       "695              This is Logan, the Chow who lived. He solemnly swears he's up to lots of good. H*ckin magical af 9.75/10 https://t.co/yBO5wuqaPS   \n",
       "\n",
       "     retweeted_status_id  retweeted_status_user_id retweeted_status_timestamp  \\\n",
       "340         7.867091e+17              4.196984e+09  2016-10-13 23:23:56 +0000   \n",
       "695                  NaN                       NaN                        NaN   \n",
       "\n",
       "                                                       expanded_urls  \\\n",
       "340  https://twitter.com/dog_rates/status/786709082849828864/photo/1   \n",
       "695  https://twitter.com/dog_rates/status/786709082849828864/photo/1   \n",
       "\n",
       "     rating_numerator  rating_denominator   name doggo floofer pupper puppo  \n",
       "340                75                  10  Logan  None    None   None  None  \n",
       "695                75                  10  Logan  None    None   None  None  "
      ]
     },
     "execution_count": 36,
     "metadata": {},
     "output_type": "execute_result"
    }
   ],
   "source": [
    "twitter_archive_enh[twitter_archive_enh.rating_numerator==75] # There is a retweet here, and same dog recorded twice"
   ]
  },
  {
   "cell_type": "markdown",
   "metadata": {},
   "source": [
    "- Dogs are rated on a scale of 10, there are 23 occurences of denominators that are not 10. \n",
    "- Denominators are high if there are multiple dogs in the picture, delete such scenarios.\n",
    "- Denominator = 7 does not have any rating, the text just says that the dog smiles 24/7-> Delete.\n",
    "- Fix the rating for Denominator = 2 : it is 9/10\n",
    "- Denominator = 11, id 784 : broken link,id 1068 is wrong rating, id 1662 is wrong rating > fix all three.\n",
    "- Denominator = 15, 16 there is no url, not present in img_prediction so delete\n",
    "- Numerators 75 = 9.75, 26 = 11.26, 27 = 11.27\n",
    "- Numerators 0, 420, 182, 1776, 666 -> Remove, anything > 15 will be removed\n",
    "- During this investigation also noticed duplicate Dogs info where there is a retweet.\n",
    "- Dog names in some cases are a, an, the, just, very etc-> basically wrong names identified or no names in the tweet text.\n"
   ]
  },
  {
   "cell_type": "code",
   "execution_count": 37,
   "metadata": {
    "scrolled": true
   },
   "outputs": [
    {
     "data": {
      "text/plain": [
       "<a href=\"http://twitter.com/download/iphone\" rel=\"nofollow\">Twitter for iPhone</a>     2221\n",
       "<a href=\"http://vine.co\" rel=\"nofollow\">Vine - Make a Scene</a>                          91\n",
       "<a href=\"http://twitter.com\" rel=\"nofollow\">Twitter Web Client</a>                       33\n",
       "<a href=\"https://about.twitter.com/products/tweetdeck\" rel=\"nofollow\">TweetDeck</a>      11\n",
       "Name: source, dtype: int64"
      ]
     },
     "execution_count": 37,
     "metadata": {},
     "output_type": "execute_result"
    }
   ],
   "source": [
    "twitter_archive_enh.source.value_counts()"
   ]
  },
  {
   "cell_type": "code",
   "execution_count": 38,
   "metadata": {},
   "outputs": [
    {
     "data": {
      "text/plain": [
       "137"
      ]
     },
     "execution_count": 38,
     "metadata": {},
     "output_type": "execute_result"
    }
   ],
   "source": [
    "#probably some duplicate records wrt urls, could be multiple images in a tweet?\n",
    "sum(twitter_archive_enh.expanded_urls.duplicated())"
   ]
  },
  {
   "cell_type": "markdown",
   "metadata": {},
   "source": [
    "- Expanded urls NaNs are showing as duplicated"
   ]
  },
  {
   "cell_type": "code",
   "execution_count": 39,
   "metadata": {},
   "outputs": [],
   "source": [
    "dupl=twitter_archive_enh[twitter_archive_enh.expanded_urls.duplicated()]\n",
    "#list_url=twitter_archive_enh.expanded_urls.value_counts()>1\n",
    "#twitter_archive_enh[twitter_archive_enh.expanded_urls.isna()]\n",
    "#list_url"
   ]
  },
  {
   "cell_type": "markdown",
   "metadata": {},
   "source": [
    "#### 2. Image Predictions"
   ]
  },
  {
   "cell_type": "code",
   "execution_count": 40,
   "metadata": {
    "scrolled": true
   },
   "outputs": [
    {
     "name": "stdout",
     "output_type": "stream",
     "text": [
      "<class 'pandas.core.frame.DataFrame'>\n",
      "RangeIndex: 2075 entries, 0 to 2074\n",
      "Data columns (total 12 columns):\n",
      " #   Column    Non-Null Count  Dtype  \n",
      "---  ------    --------------  -----  \n",
      " 0   tweet_id  2075 non-null   int64  \n",
      " 1   jpg_url   2075 non-null   object \n",
      " 2   img_num   2075 non-null   int64  \n",
      " 3   p1        2075 non-null   object \n",
      " 4   p1_conf   2075 non-null   float64\n",
      " 5   p1_dog    2075 non-null   bool   \n",
      " 6   p2        2075 non-null   object \n",
      " 7   p2_conf   2075 non-null   float64\n",
      " 8   p2_dog    2075 non-null   bool   \n",
      " 9   p3        2075 non-null   object \n",
      " 10  p3_conf   2075 non-null   float64\n",
      " 11  p3_dog    2075 non-null   bool   \n",
      "dtypes: bool(3), float64(3), int64(2), object(4)\n",
      "memory usage: 152.1+ KB\n"
     ]
    }
   ],
   "source": [
    "img_predictions.info()"
   ]
  },
  {
   "cell_type": "code",
   "execution_count": 41,
   "metadata": {},
   "outputs": [
    {
     "data": {
      "text/html": [
       "<div>\n",
       "<style scoped>\n",
       "    .dataframe tbody tr th:only-of-type {\n",
       "        vertical-align: middle;\n",
       "    }\n",
       "\n",
       "    .dataframe tbody tr th {\n",
       "        vertical-align: top;\n",
       "    }\n",
       "\n",
       "    .dataframe thead th {\n",
       "        text-align: right;\n",
       "    }\n",
       "</style>\n",
       "<table border=\"1\" class=\"dataframe\">\n",
       "  <thead>\n",
       "    <tr style=\"text-align: right;\">\n",
       "      <th></th>\n",
       "      <th>tweet_id</th>\n",
       "      <th>jpg_url</th>\n",
       "      <th>img_num</th>\n",
       "      <th>p1</th>\n",
       "      <th>p1_conf</th>\n",
       "      <th>p1_dog</th>\n",
       "      <th>p2</th>\n",
       "      <th>p2_conf</th>\n",
       "      <th>p2_dog</th>\n",
       "      <th>p3</th>\n",
       "      <th>p3_conf</th>\n",
       "      <th>p3_dog</th>\n",
       "    </tr>\n",
       "  </thead>\n",
       "  <tbody>\n",
       "    <tr>\n",
       "      <th>260</th>\n",
       "      <td>670783437142401025</td>\n",
       "      <td>https://pbs.twimg.com/media/CU8Z-OxXAAA-sd2.jpg</td>\n",
       "      <td>1</td>\n",
       "      <td>lacewing</td>\n",
       "      <td>0.381955</td>\n",
       "      <td>False</td>\n",
       "      <td>sulphur_butterfly</td>\n",
       "      <td>0.106810</td>\n",
       "      <td>False</td>\n",
       "      <td>leafhopper</td>\n",
       "      <td>0.068347</td>\n",
       "      <td>False</td>\n",
       "    </tr>\n",
       "    <tr>\n",
       "      <th>1993</th>\n",
       "      <td>874012996292530176</td>\n",
       "      <td>https://pbs.twimg.com/media/DCEeLxjXsAAvNSM.jpg</td>\n",
       "      <td>2</td>\n",
       "      <td>Cardigan</td>\n",
       "      <td>0.806674</td>\n",
       "      <td>True</td>\n",
       "      <td>Pembroke</td>\n",
       "      <td>0.116622</td>\n",
       "      <td>True</td>\n",
       "      <td>kelpie</td>\n",
       "      <td>0.049182</td>\n",
       "      <td>True</td>\n",
       "    </tr>\n",
       "    <tr>\n",
       "      <th>1622</th>\n",
       "      <td>803380650405482500</td>\n",
       "      <td>https://pbs.twimg.com/media/CyYub2kWEAEYdaq.jpg</td>\n",
       "      <td>1</td>\n",
       "      <td>bookcase</td>\n",
       "      <td>0.890601</td>\n",
       "      <td>False</td>\n",
       "      <td>entertainment_center</td>\n",
       "      <td>0.019287</td>\n",
       "      <td>False</td>\n",
       "      <td>file</td>\n",
       "      <td>0.009490</td>\n",
       "      <td>False</td>\n",
       "    </tr>\n",
       "    <tr>\n",
       "      <th>1030</th>\n",
       "      <td>711306686208872448</td>\n",
       "      <td>https://pbs.twimg.com/media/Cd8Rpl0W0AAN1kU.jpg</td>\n",
       "      <td>1</td>\n",
       "      <td>leatherback_turtle</td>\n",
       "      <td>0.280835</td>\n",
       "      <td>False</td>\n",
       "      <td>loggerhead</td>\n",
       "      <td>0.123290</td>\n",
       "      <td>False</td>\n",
       "      <td>Dandie_Dinmont</td>\n",
       "      <td>0.086792</td>\n",
       "      <td>True</td>\n",
       "    </tr>\n",
       "    <tr>\n",
       "      <th>1593</th>\n",
       "      <td>798694562394996736</td>\n",
       "      <td>https://pbs.twimg.com/media/Cbs3DOAXIAAp3Bd.jpg</td>\n",
       "      <td>1</td>\n",
       "      <td>Chihuahua</td>\n",
       "      <td>0.615163</td>\n",
       "      <td>True</td>\n",
       "      <td>Pembroke</td>\n",
       "      <td>0.159509</td>\n",
       "      <td>True</td>\n",
       "      <td>basenji</td>\n",
       "      <td>0.084466</td>\n",
       "      <td>True</td>\n",
       "    </tr>\n",
       "    <tr>\n",
       "      <th>1565</th>\n",
       "      <td>793845145112371200</td>\n",
       "      <td>https://pbs.twimg.com/media/CwRN8H6WgAASe4X.jpg</td>\n",
       "      <td>1</td>\n",
       "      <td>Old_English_sheepdog</td>\n",
       "      <td>0.765277</td>\n",
       "      <td>True</td>\n",
       "      <td>Bedlington_terrier</td>\n",
       "      <td>0.112753</td>\n",
       "      <td>True</td>\n",
       "      <td>Kerry_blue_terrier</td>\n",
       "      <td>0.047662</td>\n",
       "      <td>True</td>\n",
       "    </tr>\n",
       "    <tr>\n",
       "      <th>1020</th>\n",
       "      <td>710153181850935296</td>\n",
       "      <td>https://pbs.twimg.com/media/Cdr4jO2UAAAIo6W.jpg</td>\n",
       "      <td>2</td>\n",
       "      <td>cowboy_hat</td>\n",
       "      <td>0.979053</td>\n",
       "      <td>False</td>\n",
       "      <td>sombrero</td>\n",
       "      <td>0.010682</td>\n",
       "      <td>False</td>\n",
       "      <td>cocker_spaniel</td>\n",
       "      <td>0.002713</td>\n",
       "      <td>True</td>\n",
       "    </tr>\n",
       "  </tbody>\n",
       "</table>\n",
       "</div>"
      ],
      "text/plain": [
       "                tweet_id                                          jpg_url  \\\n",
       "260   670783437142401025  https://pbs.twimg.com/media/CU8Z-OxXAAA-sd2.jpg   \n",
       "1993  874012996292530176  https://pbs.twimg.com/media/DCEeLxjXsAAvNSM.jpg   \n",
       "1622  803380650405482500  https://pbs.twimg.com/media/CyYub2kWEAEYdaq.jpg   \n",
       "1030  711306686208872448  https://pbs.twimg.com/media/Cd8Rpl0W0AAN1kU.jpg   \n",
       "1593  798694562394996736  https://pbs.twimg.com/media/Cbs3DOAXIAAp3Bd.jpg   \n",
       "1565  793845145112371200  https://pbs.twimg.com/media/CwRN8H6WgAASe4X.jpg   \n",
       "1020  710153181850935296  https://pbs.twimg.com/media/Cdr4jO2UAAAIo6W.jpg   \n",
       "\n",
       "      img_num                    p1   p1_conf  p1_dog                    p2  \\\n",
       "260         1              lacewing  0.381955   False     sulphur_butterfly   \n",
       "1993        2              Cardigan  0.806674    True              Pembroke   \n",
       "1622        1              bookcase  0.890601   False  entertainment_center   \n",
       "1030        1    leatherback_turtle  0.280835   False            loggerhead   \n",
       "1593        1             Chihuahua  0.615163    True              Pembroke   \n",
       "1565        1  Old_English_sheepdog  0.765277    True    Bedlington_terrier   \n",
       "1020        2            cowboy_hat  0.979053   False              sombrero   \n",
       "\n",
       "       p2_conf  p2_dog                  p3   p3_conf  p3_dog  \n",
       "260   0.106810   False          leafhopper  0.068347   False  \n",
       "1993  0.116622    True              kelpie  0.049182    True  \n",
       "1622  0.019287   False                file  0.009490   False  \n",
       "1030  0.123290   False      Dandie_Dinmont  0.086792    True  \n",
       "1593  0.159509    True             basenji  0.084466    True  \n",
       "1565  0.112753    True  Kerry_blue_terrier  0.047662    True  \n",
       "1020  0.010682   False      cocker_spaniel  0.002713    True  "
      ]
     },
     "execution_count": 41,
     "metadata": {},
     "output_type": "execute_result"
    }
   ],
   "source": [
    "#shows tidiness and quality issue, p1, p2, p3 return non-dog values - tennis_ball, doormat, basketball,scuba_diver\n",
    "img_predictions.sample(7)"
   ]
  },
  {
   "cell_type": "code",
   "execution_count": 42,
   "metadata": {},
   "outputs": [
    {
     "data": {
      "text/html": [
       "<div>\n",
       "<style scoped>\n",
       "    .dataframe tbody tr th:only-of-type {\n",
       "        vertical-align: middle;\n",
       "    }\n",
       "\n",
       "    .dataframe tbody tr th {\n",
       "        vertical-align: top;\n",
       "    }\n",
       "\n",
       "    .dataframe thead th {\n",
       "        text-align: right;\n",
       "    }\n",
       "</style>\n",
       "<table border=\"1\" class=\"dataframe\">\n",
       "  <thead>\n",
       "    <tr style=\"text-align: right;\">\n",
       "      <th></th>\n",
       "      <th>tweet_id</th>\n",
       "      <th>img_num</th>\n",
       "      <th>p1_conf</th>\n",
       "      <th>p2_conf</th>\n",
       "      <th>p3_conf</th>\n",
       "    </tr>\n",
       "  </thead>\n",
       "  <tbody>\n",
       "    <tr>\n",
       "      <th>count</th>\n",
       "      <td>2075.000</td>\n",
       "      <td>2075.000</td>\n",
       "      <td>2075.000</td>\n",
       "      <td>2075.000</td>\n",
       "      <td>2075.000</td>\n",
       "    </tr>\n",
       "    <tr>\n",
       "      <th>mean</th>\n",
       "      <td>738451357852539008.000</td>\n",
       "      <td>1.204</td>\n",
       "      <td>0.595</td>\n",
       "      <td>0.135</td>\n",
       "      <td>0.060</td>\n",
       "    </tr>\n",
       "    <tr>\n",
       "      <th>std</th>\n",
       "      <td>67852033330235656.000</td>\n",
       "      <td>0.562</td>\n",
       "      <td>0.271</td>\n",
       "      <td>0.101</td>\n",
       "      <td>0.051</td>\n",
       "    </tr>\n",
       "    <tr>\n",
       "      <th>min</th>\n",
       "      <td>666020888022790144.000</td>\n",
       "      <td>1.000</td>\n",
       "      <td>0.044</td>\n",
       "      <td>0.000</td>\n",
       "      <td>0.000</td>\n",
       "    </tr>\n",
       "    <tr>\n",
       "      <th>25%</th>\n",
       "      <td>676483507139540992.000</td>\n",
       "      <td>1.000</td>\n",
       "      <td>0.364</td>\n",
       "      <td>0.054</td>\n",
       "      <td>0.016</td>\n",
       "    </tr>\n",
       "    <tr>\n",
       "      <th>50%</th>\n",
       "      <td>711998809858043904.000</td>\n",
       "      <td>1.000</td>\n",
       "      <td>0.588</td>\n",
       "      <td>0.118</td>\n",
       "      <td>0.049</td>\n",
       "    </tr>\n",
       "    <tr>\n",
       "      <th>75%</th>\n",
       "      <td>793203448525178880.000</td>\n",
       "      <td>1.000</td>\n",
       "      <td>0.844</td>\n",
       "      <td>0.196</td>\n",
       "      <td>0.092</td>\n",
       "    </tr>\n",
       "    <tr>\n",
       "      <th>max</th>\n",
       "      <td>892420643555336192.000</td>\n",
       "      <td>4.000</td>\n",
       "      <td>1.000</td>\n",
       "      <td>0.488</td>\n",
       "      <td>0.273</td>\n",
       "    </tr>\n",
       "  </tbody>\n",
       "</table>\n",
       "</div>"
      ],
      "text/plain": [
       "                    tweet_id  img_num  p1_conf  p2_conf  p3_conf\n",
       "count               2075.000 2075.000 2075.000 2075.000 2075.000\n",
       "mean  738451357852539008.000    1.204    0.595    0.135    0.060\n",
       "std    67852033330235656.000    0.562    0.271    0.101    0.051\n",
       "min   666020888022790144.000    1.000    0.044    0.000    0.000\n",
       "25%   676483507139540992.000    1.000    0.364    0.054    0.016\n",
       "50%   711998809858043904.000    1.000    0.588    0.118    0.049\n",
       "75%   793203448525178880.000    1.000    0.844    0.196    0.092\n",
       "max   892420643555336192.000    4.000    1.000    0.488    0.273"
      ]
     },
     "execution_count": 42,
     "metadata": {},
     "output_type": "execute_result"
    }
   ],
   "source": [
    "#display the decrive output in non-scientific notation\n",
    "#Ref : https://stackoverflow.com/questions/40347689/dataframe-describe-suppress-scientific-notation\n",
    "pd.options.display.float_format = '{:.3f}'.format\n",
    "img_predictions.describe()"
   ]
  },
  {
   "cell_type": "code",
   "execution_count": 43,
   "metadata": {},
   "outputs": [
    {
     "data": {
      "text/plain": [
       "tweet_id    0\n",
       "jpg_url     0\n",
       "img_num     0\n",
       "p1          0\n",
       "p1_conf     0\n",
       "p1_dog      0\n",
       "p2          0\n",
       "p2_conf     0\n",
       "p2_dog      0\n",
       "p3          0\n",
       "p3_conf     0\n",
       "p3_dog      0\n",
       "dtype: int64"
      ]
     },
     "execution_count": 43,
     "metadata": {},
     "output_type": "execute_result"
    }
   ],
   "source": [
    "img_predictions.isnull().sum()"
   ]
  },
  {
   "cell_type": "code",
   "execution_count": 44,
   "metadata": {
    "scrolled": true
   },
   "outputs": [
    {
     "name": "stdout",
     "output_type": "stream",
     "text": [
      "P1 \n",
      " golden_retriever      150\n",
      "Labrador_retriever    100\n",
      "Pembroke               89\n",
      "Chihuahua              83\n",
      "pug                    57\n",
      "                     ... \n",
      "African_grey            1\n",
      "silky_terrier           1\n",
      "harp                    1\n",
      "starfish                1\n",
      "basketball              1\n",
      "Name: p1, Length: 378, dtype: int64\n",
      "\n"
     ]
    }
   ],
   "source": [
    "#prediction dog breeds\n",
    "print('P1 \\n {}\\n'.format(img_predictions.p1.value_counts()))"
   ]
  },
  {
   "cell_type": "code",
   "execution_count": 45,
   "metadata": {},
   "outputs": [
    {
     "data": {
      "text/plain": [
       "1012                 cocker_spaniel\n",
       "1596                 Siberian_husky\n",
       "60      West_Highland_white_terrier\n",
       "1371                   African_grey\n",
       "604                           llama\n",
       "Name: p1, dtype: object"
      ]
     },
     "execution_count": 45,
     "metadata": {},
     "output_type": "execute_result"
    }
   ],
   "source": [
    "img_predictions.p1.sample(5)"
   ]
  },
  {
   "cell_type": "code",
   "execution_count": 46,
   "metadata": {},
   "outputs": [
    {
     "data": {
      "text/plain": [
       "465      boxer\n",
       "1091     swing\n",
       "1589    beagle\n",
       "212        pot\n",
       "588     kelpie\n",
       "Name: p1, dtype: object"
      ]
     },
     "execution_count": 46,
     "metadata": {},
     "output_type": "execute_result"
    }
   ],
   "source": [
    "img_predictions[img_predictions.p1.str.islower()].p1.sample(5)"
   ]
  },
  {
   "cell_type": "code",
   "execution_count": 47,
   "metadata": {},
   "outputs": [
    {
     "data": {
      "text/html": [
       "<div>\n",
       "<style scoped>\n",
       "    .dataframe tbody tr th:only-of-type {\n",
       "        vertical-align: middle;\n",
       "    }\n",
       "\n",
       "    .dataframe tbody tr th {\n",
       "        vertical-align: top;\n",
       "    }\n",
       "\n",
       "    .dataframe thead th {\n",
       "        text-align: right;\n",
       "    }\n",
       "</style>\n",
       "<table border=\"1\" class=\"dataframe\">\n",
       "  <thead>\n",
       "    <tr style=\"text-align: right;\">\n",
       "      <th></th>\n",
       "      <th>tweet_id</th>\n",
       "      <th>jpg_url</th>\n",
       "      <th>img_num</th>\n",
       "      <th>p1</th>\n",
       "      <th>p1_conf</th>\n",
       "      <th>p1_dog</th>\n",
       "      <th>p2</th>\n",
       "      <th>p2_conf</th>\n",
       "      <th>p2_dog</th>\n",
       "      <th>p3</th>\n",
       "      <th>p3_conf</th>\n",
       "      <th>p3_dog</th>\n",
       "    </tr>\n",
       "  </thead>\n",
       "  <tbody>\n",
       "    <tr>\n",
       "      <th>6</th>\n",
       "      <td>666051853826850816</td>\n",
       "      <td>https://pbs.twimg.com/media/CT5KoJ1WoAAJash.jpg</td>\n",
       "      <td>1</td>\n",
       "      <td>box_turtle</td>\n",
       "      <td>0.933</td>\n",
       "      <td>False</td>\n",
       "      <td>mud_turtle</td>\n",
       "      <td>0.046</td>\n",
       "      <td>False</td>\n",
       "      <td>terrapin</td>\n",
       "      <td>0.018</td>\n",
       "      <td>False</td>\n",
       "    </tr>\n",
       "    <tr>\n",
       "      <th>17</th>\n",
       "      <td>666104133288665088</td>\n",
       "      <td>https://pbs.twimg.com/media/CT56LSZWoAAlJj2.jpg</td>\n",
       "      <td>1</td>\n",
       "      <td>hen</td>\n",
       "      <td>0.966</td>\n",
       "      <td>False</td>\n",
       "      <td>cock</td>\n",
       "      <td>0.034</td>\n",
       "      <td>False</td>\n",
       "      <td>partridge</td>\n",
       "      <td>0.000</td>\n",
       "      <td>False</td>\n",
       "    </tr>\n",
       "    <tr>\n",
       "      <th>18</th>\n",
       "      <td>666268910803644416</td>\n",
       "      <td>https://pbs.twimg.com/media/CT8QCd1WEAADXws.jpg</td>\n",
       "      <td>1</td>\n",
       "      <td>desktop_computer</td>\n",
       "      <td>0.087</td>\n",
       "      <td>False</td>\n",
       "      <td>desk</td>\n",
       "      <td>0.086</td>\n",
       "      <td>False</td>\n",
       "      <td>bookcase</td>\n",
       "      <td>0.079</td>\n",
       "      <td>False</td>\n",
       "    </tr>\n",
       "    <tr>\n",
       "      <th>21</th>\n",
       "      <td>666293911632134144</td>\n",
       "      <td>https://pbs.twimg.com/media/CT8mx7KW4AEQu8N.jpg</td>\n",
       "      <td>1</td>\n",
       "      <td>three-toed_sloth</td>\n",
       "      <td>0.915</td>\n",
       "      <td>False</td>\n",
       "      <td>otter</td>\n",
       "      <td>0.015</td>\n",
       "      <td>False</td>\n",
       "      <td>great_grey_owl</td>\n",
       "      <td>0.013</td>\n",
       "      <td>False</td>\n",
       "    </tr>\n",
       "    <tr>\n",
       "      <th>25</th>\n",
       "      <td>666362758909284353</td>\n",
       "      <td>https://pbs.twimg.com/media/CT9lXGsUcAAyUFt.jpg</td>\n",
       "      <td>1</td>\n",
       "      <td>guinea_pig</td>\n",
       "      <td>0.996</td>\n",
       "      <td>False</td>\n",
       "      <td>skunk</td>\n",
       "      <td>0.002</td>\n",
       "      <td>False</td>\n",
       "      <td>hamster</td>\n",
       "      <td>0.000</td>\n",
       "      <td>False</td>\n",
       "    </tr>\n",
       "    <tr>\n",
       "      <th>...</th>\n",
       "      <td>...</td>\n",
       "      <td>...</td>\n",
       "      <td>...</td>\n",
       "      <td>...</td>\n",
       "      <td>...</td>\n",
       "      <td>...</td>\n",
       "      <td>...</td>\n",
       "      <td>...</td>\n",
       "      <td>...</td>\n",
       "      <td>...</td>\n",
       "      <td>...</td>\n",
       "      <td>...</td>\n",
       "    </tr>\n",
       "    <tr>\n",
       "      <th>2021</th>\n",
       "      <td>880935762899988482</td>\n",
       "      <td>https://pbs.twimg.com/media/DDm2Z5aXUAEDS2u.jpg</td>\n",
       "      <td>1</td>\n",
       "      <td>street_sign</td>\n",
       "      <td>0.252</td>\n",
       "      <td>False</td>\n",
       "      <td>umbrella</td>\n",
       "      <td>0.115</td>\n",
       "      <td>False</td>\n",
       "      <td>traffic_light</td>\n",
       "      <td>0.070</td>\n",
       "      <td>False</td>\n",
       "    </tr>\n",
       "    <tr>\n",
       "      <th>2022</th>\n",
       "      <td>881268444196462592</td>\n",
       "      <td>https://pbs.twimg.com/media/DDrk-f9WAAI-WQv.jpg</td>\n",
       "      <td>1</td>\n",
       "      <td>tusker</td>\n",
       "      <td>0.473</td>\n",
       "      <td>False</td>\n",
       "      <td>Indian_elephant</td>\n",
       "      <td>0.246</td>\n",
       "      <td>False</td>\n",
       "      <td>ibex</td>\n",
       "      <td>0.056</td>\n",
       "      <td>False</td>\n",
       "    </tr>\n",
       "    <tr>\n",
       "      <th>2046</th>\n",
       "      <td>886680336477933568</td>\n",
       "      <td>https://pbs.twimg.com/media/DE4fEDzWAAAyHMM.jpg</td>\n",
       "      <td>1</td>\n",
       "      <td>convertible</td>\n",
       "      <td>0.739</td>\n",
       "      <td>False</td>\n",
       "      <td>sports_car</td>\n",
       "      <td>0.140</td>\n",
       "      <td>False</td>\n",
       "      <td>car_wheel</td>\n",
       "      <td>0.044</td>\n",
       "      <td>False</td>\n",
       "    </tr>\n",
       "    <tr>\n",
       "      <th>2052</th>\n",
       "      <td>887517139158093824</td>\n",
       "      <td>https://pbs.twimg.com/ext_tw_video_thumb/887517108413886465/pu/img/WanJKwssZj4VJvL9.jpg</td>\n",
       "      <td>1</td>\n",
       "      <td>limousine</td>\n",
       "      <td>0.130</td>\n",
       "      <td>False</td>\n",
       "      <td>tow_truck</td>\n",
       "      <td>0.029</td>\n",
       "      <td>False</td>\n",
       "      <td>shopping_cart</td>\n",
       "      <td>0.026</td>\n",
       "      <td>False</td>\n",
       "    </tr>\n",
       "    <tr>\n",
       "      <th>2074</th>\n",
       "      <td>892420643555336193</td>\n",
       "      <td>https://pbs.twimg.com/media/DGKD1-bXoAAIAUK.jpg</td>\n",
       "      <td>1</td>\n",
       "      <td>orange</td>\n",
       "      <td>0.097</td>\n",
       "      <td>False</td>\n",
       "      <td>bagel</td>\n",
       "      <td>0.086</td>\n",
       "      <td>False</td>\n",
       "      <td>banana</td>\n",
       "      <td>0.076</td>\n",
       "      <td>False</td>\n",
       "    </tr>\n",
       "  </tbody>\n",
       "</table>\n",
       "<p>324 rows × 12 columns</p>\n",
       "</div>"
      ],
      "text/plain": [
       "                tweet_id  \\\n",
       "6     666051853826850816   \n",
       "17    666104133288665088   \n",
       "18    666268910803644416   \n",
       "21    666293911632134144   \n",
       "25    666362758909284353   \n",
       "...                  ...   \n",
       "2021  880935762899988482   \n",
       "2022  881268444196462592   \n",
       "2046  886680336477933568   \n",
       "2052  887517139158093824   \n",
       "2074  892420643555336193   \n",
       "\n",
       "                                                                                      jpg_url  \\\n",
       "6                                             https://pbs.twimg.com/media/CT5KoJ1WoAAJash.jpg   \n",
       "17                                            https://pbs.twimg.com/media/CT56LSZWoAAlJj2.jpg   \n",
       "18                                            https://pbs.twimg.com/media/CT8QCd1WEAADXws.jpg   \n",
       "21                                            https://pbs.twimg.com/media/CT8mx7KW4AEQu8N.jpg   \n",
       "25                                            https://pbs.twimg.com/media/CT9lXGsUcAAyUFt.jpg   \n",
       "...                                                                                       ...   \n",
       "2021                                          https://pbs.twimg.com/media/DDm2Z5aXUAEDS2u.jpg   \n",
       "2022                                          https://pbs.twimg.com/media/DDrk-f9WAAI-WQv.jpg   \n",
       "2046                                          https://pbs.twimg.com/media/DE4fEDzWAAAyHMM.jpg   \n",
       "2052  https://pbs.twimg.com/ext_tw_video_thumb/887517108413886465/pu/img/WanJKwssZj4VJvL9.jpg   \n",
       "2074                                          https://pbs.twimg.com/media/DGKD1-bXoAAIAUK.jpg   \n",
       "\n",
       "      img_num                p1  p1_conf  p1_dog               p2  p2_conf  \\\n",
       "6           1        box_turtle    0.933   False       mud_turtle    0.046   \n",
       "17          1               hen    0.966   False             cock    0.034   \n",
       "18          1  desktop_computer    0.087   False             desk    0.086   \n",
       "21          1  three-toed_sloth    0.915   False            otter    0.015   \n",
       "25          1        guinea_pig    0.996   False            skunk    0.002   \n",
       "...       ...               ...      ...     ...              ...      ...   \n",
       "2021        1       street_sign    0.252   False         umbrella    0.115   \n",
       "2022        1            tusker    0.473   False  Indian_elephant    0.246   \n",
       "2046        1       convertible    0.739   False       sports_car    0.140   \n",
       "2052        1         limousine    0.130   False        tow_truck    0.029   \n",
       "2074        1            orange    0.097   False            bagel    0.086   \n",
       "\n",
       "      p2_dog              p3  p3_conf  p3_dog  \n",
       "6      False        terrapin    0.018   False  \n",
       "17     False       partridge    0.000   False  \n",
       "18     False        bookcase    0.079   False  \n",
       "21     False  great_grey_owl    0.013   False  \n",
       "25     False         hamster    0.000   False  \n",
       "...      ...             ...      ...     ...  \n",
       "2021   False   traffic_light    0.070   False  \n",
       "2022   False            ibex    0.056   False  \n",
       "2046   False       car_wheel    0.044   False  \n",
       "2052   False   shopping_cart    0.026   False  \n",
       "2074   False          banana    0.076   False  \n",
       "\n",
       "[324 rows x 12 columns]"
      ]
     },
     "execution_count": 47,
     "metadata": {},
     "output_type": "execute_result"
    }
   ],
   "source": [
    "#where predictions are all false for dog\n",
    "img_predictions[~img_predictions.p1_dog & ~img_predictions.p2_dog & ~img_predictions.p3_dog]"
   ]
  },
  {
   "cell_type": "markdown",
   "metadata": {},
   "source": [
    "There are so many values apart from dog breeds such as canoe,peacock, tricycle. Even if the p1_conf, p2_conf, p3_conf variables are all false, in some cases there is a dog in the picture."
   ]
  },
  {
   "cell_type": "code",
   "execution_count": 48,
   "metadata": {},
   "outputs": [
    {
     "data": {
      "text/plain": [
       "0"
      ]
     },
     "execution_count": 48,
     "metadata": {},
     "output_type": "execute_result"
    }
   ],
   "source": [
    "#check for duplicate records\n",
    "sum(img_predictions.duplicated())"
   ]
  },
  {
   "cell_type": "code",
   "execution_count": 49,
   "metadata": {},
   "outputs": [
    {
     "data": {
      "text/plain": [
       "66"
      ]
     },
     "execution_count": 49,
     "metadata": {},
     "output_type": "execute_result"
    }
   ],
   "source": [
    "#duplicate images-> could be retweets\n",
    "sum(img_predictions.jpg_url.duplicated())"
   ]
  },
  {
   "cell_type": "markdown",
   "metadata": {},
   "source": [
    "#### 3. Tweets json"
   ]
  },
  {
   "cell_type": "code",
   "execution_count": 50,
   "metadata": {},
   "outputs": [
    {
     "name": "stdout",
     "output_type": "stream",
     "text": [
      "<class 'pandas.core.frame.DataFrame'>\n",
      "RangeIndex: 2331 entries, 0 to 2330\n",
      "Data columns (total 4 columns):\n",
      " #   Column          Non-Null Count  Dtype \n",
      "---  ------          --------------  ----- \n",
      " 0   id              2331 non-null   int64 \n",
      " 1   retweet_count   2331 non-null   int64 \n",
      " 2   favorite_count  2331 non-null   int64 \n",
      " 3   source          2331 non-null   object\n",
      "dtypes: int64(3), object(1)\n",
      "memory usage: 73.0+ KB\n"
     ]
    }
   ],
   "source": [
    "tweets_json.info()"
   ]
  },
  {
   "cell_type": "code",
   "execution_count": 51,
   "metadata": {},
   "outputs": [
    {
     "data": {
      "text/html": [
       "<div>\n",
       "<style scoped>\n",
       "    .dataframe tbody tr th:only-of-type {\n",
       "        vertical-align: middle;\n",
       "    }\n",
       "\n",
       "    .dataframe tbody tr th {\n",
       "        vertical-align: top;\n",
       "    }\n",
       "\n",
       "    .dataframe thead th {\n",
       "        text-align: right;\n",
       "    }\n",
       "</style>\n",
       "<table border=\"1\" class=\"dataframe\">\n",
       "  <thead>\n",
       "    <tr style=\"text-align: right;\">\n",
       "      <th></th>\n",
       "      <th>id</th>\n",
       "      <th>retweet_count</th>\n",
       "      <th>favorite_count</th>\n",
       "      <th>source</th>\n",
       "    </tr>\n",
       "  </thead>\n",
       "  <tbody>\n",
       "    <tr>\n",
       "      <th>983</th>\n",
       "      <td>747600769478692864</td>\n",
       "      <td>551</td>\n",
       "      <td>2303</td>\n",
       "      <td>&lt;a href=\"http://twitter.com/download/iphone\" rel=\"nofollow\"&gt;Twitter for iPhone&lt;/a&gt;</td>\n",
       "    </tr>\n",
       "    <tr>\n",
       "      <th>2058</th>\n",
       "      <td>670811965569282048</td>\n",
       "      <td>253</td>\n",
       "      <td>1073</td>\n",
       "      <td>&lt;a href=\"http://twitter.com/download/iphone\" rel=\"nofollow\"&gt;Twitter for iPhone&lt;/a&gt;</td>\n",
       "    </tr>\n",
       "    <tr>\n",
       "      <th>2245</th>\n",
       "      <td>667502640335572993</td>\n",
       "      <td>209</td>\n",
       "      <td>514</td>\n",
       "      <td>&lt;a href=\"http://twitter.com\" rel=\"nofollow\"&gt;Twitter Web Client&lt;/a&gt;</td>\n",
       "    </tr>\n",
       "    <tr>\n",
       "      <th>1237</th>\n",
       "      <td>710153181850935296</td>\n",
       "      <td>875</td>\n",
       "      <td>2853</td>\n",
       "      <td>&lt;a href=\"http://twitter.com/download/iphone\" rel=\"nofollow\"&gt;Twitter for iPhone&lt;/a&gt;</td>\n",
       "    </tr>\n",
       "    <tr>\n",
       "      <th>1307</th>\n",
       "      <td>705591895322394625</td>\n",
       "      <td>1130</td>\n",
       "      <td>3115</td>\n",
       "      <td>&lt;a href=\"http://twitter.com/download/iphone\" rel=\"nofollow\"&gt;Twitter for iPhone&lt;/a&gt;</td>\n",
       "    </tr>\n",
       "    <tr>\n",
       "      <th>462</th>\n",
       "      <td>815966073409433600</td>\n",
       "      <td>8492</td>\n",
       "      <td>22545</td>\n",
       "      <td>&lt;a href=\"http://twitter.com/download/iphone\" rel=\"nofollow\"&gt;Twitter for iPhone&lt;/a&gt;</td>\n",
       "    </tr>\n",
       "  </tbody>\n",
       "</table>\n",
       "</div>"
      ],
      "text/plain": [
       "                      id  retweet_count  favorite_count  \\\n",
       "983   747600769478692864            551            2303   \n",
       "2058  670811965569282048            253            1073   \n",
       "2245  667502640335572993            209             514   \n",
       "1237  710153181850935296            875            2853   \n",
       "1307  705591895322394625           1130            3115   \n",
       "462   815966073409433600           8492           22545   \n",
       "\n",
       "                                                                                  source  \n",
       "983   <a href=\"http://twitter.com/download/iphone\" rel=\"nofollow\">Twitter for iPhone</a>  \n",
       "2058  <a href=\"http://twitter.com/download/iphone\" rel=\"nofollow\">Twitter for iPhone</a>  \n",
       "2245                  <a href=\"http://twitter.com\" rel=\"nofollow\">Twitter Web Client</a>  \n",
       "1237  <a href=\"http://twitter.com/download/iphone\" rel=\"nofollow\">Twitter for iPhone</a>  \n",
       "1307  <a href=\"http://twitter.com/download/iphone\" rel=\"nofollow\">Twitter for iPhone</a>  \n",
       "462   <a href=\"http://twitter.com/download/iphone\" rel=\"nofollow\">Twitter for iPhone</a>  "
      ]
     },
     "execution_count": 51,
     "metadata": {},
     "output_type": "execute_result"
    }
   ],
   "source": [
    "tweets_json.sample(6)"
   ]
  },
  {
   "cell_type": "code",
   "execution_count": 52,
   "metadata": {},
   "outputs": [
    {
     "data": {
      "text/plain": [
       "0"
      ]
     },
     "execution_count": 52,
     "metadata": {},
     "output_type": "execute_result"
    }
   ],
   "source": [
    "sum(tweets_json.duplicated())"
   ]
  },
  {
   "cell_type": "code",
   "execution_count": 53,
   "metadata": {},
   "outputs": [
    {
     "data": {
      "text/plain": [
       "id                0\n",
       "retweet_count     0\n",
       "favorite_count    0\n",
       "source            0\n",
       "dtype: int64"
      ]
     },
     "execution_count": 53,
     "metadata": {},
     "output_type": "execute_result"
    }
   ],
   "source": [
    "tweets_json.isnull().sum()"
   ]
  },
  {
   "cell_type": "code",
   "execution_count": 54,
   "metadata": {},
   "outputs": [
    {
     "data": {
      "text/plain": [
       "0       7588\n",
       "1       5623\n",
       "2       3720\n",
       "3       7766\n",
       "4       8363\n",
       "        ... \n",
       "2326      40\n",
       "2327     130\n",
       "2328      41\n",
       "2329      42\n",
       "2330     458\n",
       "Name: retweet_count, Length: 2331, dtype: int64"
      ]
     },
     "execution_count": 54,
     "metadata": {},
     "output_type": "execute_result"
    }
   ],
   "source": [
    "tweets_json.retweet_count"
   ]
  },
  {
   "cell_type": "code",
   "execution_count": 55,
   "metadata": {},
   "outputs": [
    {
     "data": {
      "text/plain": [
       "<a href=\"http://twitter.com/download/iphone\" rel=\"nofollow\">Twitter for iPhone</a>     2197\n",
       "<a href=\"http://vine.co\" rel=\"nofollow\">Vine - Make a Scene</a>                          91\n",
       "<a href=\"http://twitter.com\" rel=\"nofollow\">Twitter Web Client</a>                       33\n",
       "<a href=\"https://about.twitter.com/products/tweetdeck\" rel=\"nofollow\">TweetDeck</a>      10\n",
       "Name: source, dtype: int64"
      ]
     },
     "execution_count": 55,
     "metadata": {},
     "output_type": "execute_result"
    }
   ],
   "source": [
    "tweets_json.source.value_counts()"
   ]
  },
  {
   "cell_type": "code",
   "execution_count": 56,
   "metadata": {},
   "outputs": [
    {
     "name": "stdout",
     "output_type": "stream",
     "text": [
      "1. twitter-archive-enhanced.csv length :2356\n",
      "2. image-predictions.tsv length: 2075\n",
      "3. tweet_json.txt length: 2331\n"
     ]
    }
   ],
   "source": [
    "print('1. twitter-archive-enhanced.csv length :{}'.format(len(twitter_archive_enh)))\n",
    "print('2. image-predictions.tsv length: {}'.format(len(img_predictions)))\n",
    "print('3. tweet_json.txt length: {}'.format(len(tweets_json)))"
   ]
  },
  {
   "cell_type": "code",
   "execution_count": 57,
   "metadata": {},
   "outputs": [
    {
     "data": {
      "text/plain": [
       "17    tweet_id\n",
       "32      source\n",
       "dtype: object"
      ]
     },
     "execution_count": 57,
     "metadata": {},
     "output_type": "execute_result"
    }
   ],
   "source": [
    "all_columns = pd.Series(list(twitter_archive_enh) + list(img_predictions) + list(tweets_json))\n",
    "all_columns[all_columns.duplicated()]"
   ]
  },
  {
   "cell_type": "code",
   "execution_count": 58,
   "metadata": {},
   "outputs": [
    {
     "data": {
      "text/plain": [
       "1    1780\n",
       "2     198\n",
       "3      66\n",
       "4      31\n",
       "Name: img_num, dtype: int64"
      ]
     },
     "execution_count": 58,
     "metadata": {},
     "output_type": "execute_result"
    }
   ],
   "source": [
    "img_predictions.img_num.value_counts()"
   ]
  },
  {
   "cell_type": "markdown",
   "metadata": {},
   "source": [
    "\n",
    "#### Quality issues\n",
    " `twitter_archive_enh` table\n",
    "- change the datatype of timestamp to datetime and fix the format\n",
    "- Denominators should be 10, but it is varying if there are more doggos. I will only keep records with one dog in the picture. For individual scenarios:\n",
    "    - Denominator = 7 does not have any rating, the text just says that the dog smiles 24/7(remove?).\n",
    "    - Fix the rating for Denominator = 2 : it is 9/10\n",
    "    - Denominator = 11, id 784 : broken link, id 1068 is wrong rating, id 1662 is wrong rating\n",
    "    - Denominator = 15, there is no url, leave as such for now\n",
    "    - Denominator = 16, there is no url, leave as such\n",
    "- Numerators should not be greater than 15, also multiple issues:\n",
    "    - Numerators 75 = 9.75, 26 = 11.26, 27 = 11.27\n",
    "    - Numerators 0, 420, 182, 1776, 666 -> Remove, anything > 15 will be removed\n",
    "- Change Numerator data type to float\n",
    "- Change the data type of tweet_id to string\n",
    "- Dog names have 'a', 'an', 'the', 'very' also in the most common names.\n",
    "- Lowercase dog names in some cases where wrong dog names are identified.\n",
    "- Remove duplicate records where retweet_status is True, and later drop the retweet columns\n",
    "- Duplicate dogs info in case of retweets and replys, delete the instances where retweet_id or in_reply fields are non-null\n",
    "\n",
    "`img_predictions` table\n",
    "- 66 duplicate jpg_urls\n",
    "- Dog breeds are lower case in some predictions p1, p2, p3\n",
    "- all the variable names starting with p1, p2, p3 are not descriptive\n",
    "- predictions are not completely true, even if p1_dog, p2_dog, p3_dog are all false, the image shows dog/s`\n",
    "\n",
    "`tweets_json` table\n",
    "- remove any unneeded fields\n",
    "\n",
    "#### Tidiness issues\n",
    "\n",
    "- In `twitter_archive_enh` table - doggo, fluffer, puppo, pupper should all be in one column\n",
    "- `img_predictions` p1, p2, p3 sometimes returns objects instead of dog breeds, however in some cases even if all the predictions are false, there are dogs in the image.\n",
    "- `twitter_archive_enh` table - delete in_reply_to_status_id, in_reply_to_user_id, retweeted_status_id, retweeted_status_user_id,retweeted_status_timestamp all these columns have mostly nulls. Tweepy API also did not provide sufficient info to populate all these fields.\n",
    "- `tweets_json` and `twitter_archive_enh` tables both have source field\n",
    "- `tweets_json` and `twitter_archive_enh` tables source field had html tag and the value together, need to extract value.\n",
    "- `twitter_archive_enh` table should have a separate tiny_url field extracted from text\n",
    "- A Tweet is a single entity hence all the related info should be in one place, so join all the tables on tweet_id"
   ]
  },
  {
   "cell_type": "markdown",
   "metadata": {},
   "source": [
    "## Data Cleaning"
   ]
  },
  {
   "cell_type": "code",
   "execution_count": 59,
   "metadata": {},
   "outputs": [],
   "source": [
    "# Create copies of all the datasets\n",
    "tweet_full_clean = twitter_archive_enh.copy()\n",
    "img_predictions_clean = img_predictions.copy()\n",
    "tweets_json_clean = tweets_json.copy()"
   ]
  },
  {
   "cell_type": "markdown",
   "metadata": {},
   "source": [
    "#### 1. Tidiness : In `twitter_archive_enh` table categorical variables- doggo, fluffer, puppo, pupper should all be in one column\n",
    "<b>Define</b>\n",
    "Some dogs have been referred by more than one dog slang names.\n",
    "- replace 'None' with ''\n",
    "- concatenate all four column values into new column dog_slangterm\n",
    "- drop the four columns\n",
    "\n",
    "\n",
    "\n",
    "References:\n",
    "- Join multiple columns : https://www.geeksforgeeks.org/join-two-text-columns-into-a-single-column-in-pandas/ \n"
   ]
  },
  {
   "cell_type": "markdown",
   "metadata": {},
   "source": [
    "<b>Code</b>"
   ]
  },
  {
   "cell_type": "code",
   "execution_count": 60,
   "metadata": {
    "scrolled": true
   },
   "outputs": [],
   "source": [
    "#replace None with blank\n",
    "\n",
    "tweet_full_clean['doggo'].replace('None', '', inplace=True)\n",
    "tweet_full_clean['floofer'].replace('None', '', inplace=True)\n",
    "tweet_full_clean['pupper'].replace('None', '', inplace=True)\n",
    "tweet_full_clean['puppo'].replace('None', '', inplace=True)\n",
    "\n",
    "# concat all 4 columns into one\n",
    "tweet_full_clean['dog_slang'] = tweet_full_clean['doggo'].astype(str)\\\n",
    "+ tweet_full_clean['floofer'].astype(str)+ \\\n",
    "tweet_full_clean['pupper'].astype(str)+\\\n",
    "tweet_full_clean['puppo'].astype(str)\n",
    "\n",
    "#drop the four columns\n",
    "tweet_full_clean.drop(['doggo','floofer','pupper','puppo'], axis = 1, inplace = True)\n",
    "\n"
   ]
  },
  {
   "cell_type": "markdown",
   "metadata": {},
   "source": [
    "<b>Test</b>"
   ]
  },
  {
   "cell_type": "code",
   "execution_count": 61,
   "metadata": {},
   "outputs": [
    {
     "data": {
      "text/html": [
       "<div>\n",
       "<style scoped>\n",
       "    .dataframe tbody tr th:only-of-type {\n",
       "        vertical-align: middle;\n",
       "    }\n",
       "\n",
       "    .dataframe tbody tr th {\n",
       "        vertical-align: top;\n",
       "    }\n",
       "\n",
       "    .dataframe thead th {\n",
       "        text-align: right;\n",
       "    }\n",
       "</style>\n",
       "<table border=\"1\" class=\"dataframe\">\n",
       "  <thead>\n",
       "    <tr style=\"text-align: right;\">\n",
       "      <th></th>\n",
       "      <th>tweet_id</th>\n",
       "      <th>in_reply_to_status_id</th>\n",
       "      <th>in_reply_to_user_id</th>\n",
       "      <th>timestamp</th>\n",
       "      <th>source</th>\n",
       "      <th>text</th>\n",
       "      <th>retweeted_status_id</th>\n",
       "      <th>retweeted_status_user_id</th>\n",
       "      <th>retweeted_status_timestamp</th>\n",
       "      <th>expanded_urls</th>\n",
       "      <th>rating_numerator</th>\n",
       "      <th>rating_denominator</th>\n",
       "      <th>name</th>\n",
       "      <th>dog_slang</th>\n",
       "    </tr>\n",
       "  </thead>\n",
       "  <tbody>\n",
       "    <tr>\n",
       "      <th>1991</th>\n",
       "      <td>672622327801233409</td>\n",
       "      <td>nan</td>\n",
       "      <td>nan</td>\n",
       "      <td>2015-12-04 03:43:54 +0000</td>\n",
       "      <td>&lt;a href=\"http://twitter.com/download/iphone\" rel=\"nofollow\"&gt;Twitter for iPhone&lt;/a&gt;</td>\n",
       "      <td>This lil pupper is sad because we haven't found Kony yet. RT to spread awareness. 12/10 would pet firmly https://t.co/Cv7dRdcMvQ</td>\n",
       "      <td>nan</td>\n",
       "      <td>nan</td>\n",
       "      <td>NaN</td>\n",
       "      <td>https://twitter.com/dog_rates/status/672622327801233409/photo/1</td>\n",
       "      <td>12</td>\n",
       "      <td>10</td>\n",
       "      <td>None</td>\n",
       "      <td>pupper</td>\n",
       "    </tr>\n",
       "    <tr>\n",
       "      <th>366</th>\n",
       "      <td>828801551087042563</td>\n",
       "      <td>nan</td>\n",
       "      <td>nan</td>\n",
       "      <td>2017-02-07 03:04:22 +0000</td>\n",
       "      <td>&lt;a href=\"http://twitter.com/download/iphone\" rel=\"nofollow\"&gt;Twitter for iPhone&lt;/a&gt;</td>\n",
       "      <td>RT @dog_rates: This is Gus. He likes to be close to you, which is good because you want to be close to Gus. 12/10 would boop then pet https…</td>\n",
       "      <td>810254108431155200.000</td>\n",
       "      <td>4196983835.000</td>\n",
       "      <td>2016-12-17 22:43:27 +0000</td>\n",
       "      <td>https://twitter.com/dog_rates/status/810254108431155201/photo/1</td>\n",
       "      <td>12</td>\n",
       "      <td>10</td>\n",
       "      <td>Gus</td>\n",
       "      <td></td>\n",
       "    </tr>\n",
       "    <tr>\n",
       "      <th>678</th>\n",
       "      <td>789268448748703744</td>\n",
       "      <td>nan</td>\n",
       "      <td>nan</td>\n",
       "      <td>2016-10-21 00:53:56 +0000</td>\n",
       "      <td>&lt;a href=\"http://twitter.com/download/iphone\" rel=\"nofollow\"&gt;Twitter for iPhone&lt;/a&gt;</td>\n",
       "      <td>This is Stella. She's happier than I will ever be. 10/10 would trade lives with https://t.co/JSs2bfDtTS</td>\n",
       "      <td>nan</td>\n",
       "      <td>nan</td>\n",
       "      <td>NaN</td>\n",
       "      <td>https://twitter.com/dog_rates/status/789268448748703744/photo/1</td>\n",
       "      <td>10</td>\n",
       "      <td>10</td>\n",
       "      <td>Stella</td>\n",
       "      <td></td>\n",
       "    </tr>\n",
       "    <tr>\n",
       "      <th>1875</th>\n",
       "      <td>675113801096802304</td>\n",
       "      <td>nan</td>\n",
       "      <td>nan</td>\n",
       "      <td>2015-12-11 00:44:07 +0000</td>\n",
       "      <td>&lt;a href=\"http://twitter.com/download/iphone\" rel=\"nofollow\"&gt;Twitter for iPhone&lt;/a&gt;</td>\n",
       "      <td>Meet Zuzu. He just graduated college. Astute pupper. Needs 2 leashes to contain him. Wasn't ready for the pic. 10/10 https://t.co/2H5SKmk0k7</td>\n",
       "      <td>nan</td>\n",
       "      <td>nan</td>\n",
       "      <td>NaN</td>\n",
       "      <td>https://twitter.com/dog_rates/status/675113801096802304/photo/1</td>\n",
       "      <td>10</td>\n",
       "      <td>10</td>\n",
       "      <td>Zuzu</td>\n",
       "      <td>pupper</td>\n",
       "    </tr>\n",
       "    <tr>\n",
       "      <th>307</th>\n",
       "      <td>835685285446955009</td>\n",
       "      <td>nan</td>\n",
       "      <td>nan</td>\n",
       "      <td>2017-02-26 02:57:52 +0000</td>\n",
       "      <td>&lt;a href=\"http://twitter.com/download/iphone\" rel=\"nofollow\"&gt;Twitter for iPhone&lt;/a&gt;</td>\n",
       "      <td>RT @dog_rates: This is Rory. He's got an interview in a few minutes. Looking spiffy af. Nervous as h*ck tho. 12/10 would hire https://t.co/…</td>\n",
       "      <td>786963064373534720.000</td>\n",
       "      <td>4196983835.000</td>\n",
       "      <td>2016-10-14 16:13:10 +0000</td>\n",
       "      <td>https://twitter.com/dog_rates/status/786963064373534720/photo/1</td>\n",
       "      <td>12</td>\n",
       "      <td>10</td>\n",
       "      <td>Rory</td>\n",
       "      <td></td>\n",
       "    </tr>\n",
       "    <tr>\n",
       "      <th>1876</th>\n",
       "      <td>675111688094527488</td>\n",
       "      <td>nan</td>\n",
       "      <td>nan</td>\n",
       "      <td>2015-12-11 00:35:44 +0000</td>\n",
       "      <td>&lt;a href=\"http://twitter.com/download/iphone\" rel=\"nofollow\"&gt;Twitter for iPhone&lt;/a&gt;</td>\n",
       "      <td>Say hello to Oliver. He thought what was inside the pillow should be outside the pillow. Blurry since birth. 8/10 https://t.co/lFU9W31Fg9</td>\n",
       "      <td>nan</td>\n",
       "      <td>nan</td>\n",
       "      <td>NaN</td>\n",
       "      <td>https://twitter.com/dog_rates/status/675111688094527488/photo/1</td>\n",
       "      <td>8</td>\n",
       "      <td>10</td>\n",
       "      <td>Oliver</td>\n",
       "      <td></td>\n",
       "    </tr>\n",
       "    <tr>\n",
       "      <th>1699</th>\n",
       "      <td>680970795137544192</td>\n",
       "      <td>nan</td>\n",
       "      <td>nan</td>\n",
       "      <td>2015-12-27 04:37:44 +0000</td>\n",
       "      <td>&lt;a href=\"http://twitter.com/download/iphone\" rel=\"nofollow\"&gt;Twitter for iPhone&lt;/a&gt;</td>\n",
       "      <td>I thought I made this very clear. We only rate dogs. Stop sending other things like this shark. Thank you... 9/10 https://t.co/CXSJZ4Stk3</td>\n",
       "      <td>nan</td>\n",
       "      <td>nan</td>\n",
       "      <td>NaN</td>\n",
       "      <td>https://twitter.com/dog_rates/status/680970795137544192/photo/1</td>\n",
       "      <td>9</td>\n",
       "      <td>10</td>\n",
       "      <td>None</td>\n",
       "      <td></td>\n",
       "    </tr>\n",
       "  </tbody>\n",
       "</table>\n",
       "</div>"
      ],
      "text/plain": [
       "                tweet_id  in_reply_to_status_id  in_reply_to_user_id  \\\n",
       "1991  672622327801233409                    nan                  nan   \n",
       "366   828801551087042563                    nan                  nan   \n",
       "678   789268448748703744                    nan                  nan   \n",
       "1875  675113801096802304                    nan                  nan   \n",
       "307   835685285446955009                    nan                  nan   \n",
       "1876  675111688094527488                    nan                  nan   \n",
       "1699  680970795137544192                    nan                  nan   \n",
       "\n",
       "                      timestamp  \\\n",
       "1991  2015-12-04 03:43:54 +0000   \n",
       "366   2017-02-07 03:04:22 +0000   \n",
       "678   2016-10-21 00:53:56 +0000   \n",
       "1875  2015-12-11 00:44:07 +0000   \n",
       "307   2017-02-26 02:57:52 +0000   \n",
       "1876  2015-12-11 00:35:44 +0000   \n",
       "1699  2015-12-27 04:37:44 +0000   \n",
       "\n",
       "                                                                                  source  \\\n",
       "1991  <a href=\"http://twitter.com/download/iphone\" rel=\"nofollow\">Twitter for iPhone</a>   \n",
       "366   <a href=\"http://twitter.com/download/iphone\" rel=\"nofollow\">Twitter for iPhone</a>   \n",
       "678   <a href=\"http://twitter.com/download/iphone\" rel=\"nofollow\">Twitter for iPhone</a>   \n",
       "1875  <a href=\"http://twitter.com/download/iphone\" rel=\"nofollow\">Twitter for iPhone</a>   \n",
       "307   <a href=\"http://twitter.com/download/iphone\" rel=\"nofollow\">Twitter for iPhone</a>   \n",
       "1876  <a href=\"http://twitter.com/download/iphone\" rel=\"nofollow\">Twitter for iPhone</a>   \n",
       "1699  <a href=\"http://twitter.com/download/iphone\" rel=\"nofollow\">Twitter for iPhone</a>   \n",
       "\n",
       "                                                                                                                                              text  \\\n",
       "1991              This lil pupper is sad because we haven't found Kony yet. RT to spread awareness. 12/10 would pet firmly https://t.co/Cv7dRdcMvQ   \n",
       "366   RT @dog_rates: This is Gus. He likes to be close to you, which is good because you want to be close to Gus. 12/10 would boop then pet https…   \n",
       "678                                        This is Stella. She's happier than I will ever be. 10/10 would trade lives with https://t.co/JSs2bfDtTS   \n",
       "1875  Meet Zuzu. He just graduated college. Astute pupper. Needs 2 leashes to contain him. Wasn't ready for the pic. 10/10 https://t.co/2H5SKmk0k7   \n",
       "307   RT @dog_rates: This is Rory. He's got an interview in a few minutes. Looking spiffy af. Nervous as h*ck tho. 12/10 would hire https://t.co/…   \n",
       "1876     Say hello to Oliver. He thought what was inside the pillow should be outside the pillow. Blurry since birth. 8/10 https://t.co/lFU9W31Fg9   \n",
       "1699     I thought I made this very clear. We only rate dogs. Stop sending other things like this shark. Thank you... 9/10 https://t.co/CXSJZ4Stk3   \n",
       "\n",
       "        retweeted_status_id  retweeted_status_user_id  \\\n",
       "1991                    nan                       nan   \n",
       "366  810254108431155200.000            4196983835.000   \n",
       "678                     nan                       nan   \n",
       "1875                    nan                       nan   \n",
       "307  786963064373534720.000            4196983835.000   \n",
       "1876                    nan                       nan   \n",
       "1699                    nan                       nan   \n",
       "\n",
       "     retweeted_status_timestamp  \\\n",
       "1991                        NaN   \n",
       "366   2016-12-17 22:43:27 +0000   \n",
       "678                         NaN   \n",
       "1875                        NaN   \n",
       "307   2016-10-14 16:13:10 +0000   \n",
       "1876                        NaN   \n",
       "1699                        NaN   \n",
       "\n",
       "                                                        expanded_urls  \\\n",
       "1991  https://twitter.com/dog_rates/status/672622327801233409/photo/1   \n",
       "366   https://twitter.com/dog_rates/status/810254108431155201/photo/1   \n",
       "678   https://twitter.com/dog_rates/status/789268448748703744/photo/1   \n",
       "1875  https://twitter.com/dog_rates/status/675113801096802304/photo/1   \n",
       "307   https://twitter.com/dog_rates/status/786963064373534720/photo/1   \n",
       "1876  https://twitter.com/dog_rates/status/675111688094527488/photo/1   \n",
       "1699  https://twitter.com/dog_rates/status/680970795137544192/photo/1   \n",
       "\n",
       "      rating_numerator  rating_denominator    name dog_slang  \n",
       "1991                12                  10    None    pupper  \n",
       "366                 12                  10     Gus            \n",
       "678                 10                  10  Stella            \n",
       "1875                10                  10    Zuzu    pupper  \n",
       "307                 12                  10    Rory            \n",
       "1876                 8                  10  Oliver            \n",
       "1699                 9                  10    None            "
      ]
     },
     "execution_count": 61,
     "metadata": {},
     "output_type": "execute_result"
    }
   ],
   "source": [
    "tweet_full_clean.sample(7)"
   ]
  },
  {
   "cell_type": "code",
   "execution_count": 62,
   "metadata": {},
   "outputs": [
    {
     "data": {
      "text/plain": [
       "                1976\n",
       "pupper           245\n",
       "doggo             83\n",
       "puppo             29\n",
       "doggopupper       12\n",
       "floofer            9\n",
       "doggofloofer       1\n",
       "doggopuppo         1\n",
       "Name: dog_slang, dtype: int64"
      ]
     },
     "execution_count": 62,
     "metadata": {},
     "output_type": "execute_result"
    }
   ],
   "source": [
    "tweet_full_clean.dog_slang.value_counts()"
   ]
  },
  {
   "cell_type": "markdown",
   "metadata": {},
   "source": [
    "#### 2. Tidiness:  tweets_json and twitter_archive_enh tables source field had html tag and the value together, need to extract value.\n",
    "<b>Define</b>\n",
    "- Using BeautifulSoup get_text() method extract the source value from the html tag\n",
    "- Reference : https://stackoverflow.com/questions/44703945/pandas-trouble-stripping-html-tags-from-dataframe-column\n",
    "\n",
    "<b>Code</b>"
   ]
  },
  {
   "cell_type": "code",
   "execution_count": 63,
   "metadata": {},
   "outputs": [],
   "source": [
    "tweet_full_clean['source']=tweet_full_clean['source'].apply(lambda x: bs4.BeautifulSoup(x, 'lxml').get_text())    \n",
    "tweets_json_clean['source'] = tweets_json_clean['source'].apply(lambda x: bs4.BeautifulSoup(x, 'lxml').get_text())    "
   ]
  },
  {
   "cell_type": "markdown",
   "metadata": {},
   "source": [
    "<b>Test</b>"
   ]
  },
  {
   "cell_type": "code",
   "execution_count": 64,
   "metadata": {},
   "outputs": [
    {
     "data": {
      "text/plain": [
       "(Twitter for iPhone     2221\n",
       " Vine - Make a Scene      91\n",
       " Twitter Web Client       33\n",
       " TweetDeck                11\n",
       " Name: source, dtype: int64,\n",
       " Twitter for iPhone     2197\n",
       " Vine - Make a Scene      91\n",
       " Twitter Web Client       33\n",
       " TweetDeck                10\n",
       " Name: source, dtype: int64)"
      ]
     },
     "execution_count": 64,
     "metadata": {},
     "output_type": "execute_result"
    }
   ],
   "source": [
    "tweet_full_clean.source.value_counts(), tweets_json_clean.source.value_counts()"
   ]
  },
  {
   "cell_type": "markdown",
   "metadata": {},
   "source": [
    "#### 3. Tidiness -  Extract URLs from the text field\n",
    "<b>Define</b>\n",
    "- Extract the tiny url from text using regex.\n",
    "- Reference : https://blog.softhints.com/python-pandas-extract-url-date-regex/\n",
    "        \n",
    "<b>Code</b>"
   ]
  },
  {
   "cell_type": "code",
   "execution_count": 65,
   "metadata": {},
   "outputs": [],
   "source": [
    "tweet_full_clean['tiny_url'] = tweet_full_clean.text.str.extract(r'(https?:\\/\\/(?:www\\.|(?!www))[a-zA-Z0-9][a-zA-Z0-9-]+[a-zA-Z0-9]\\.[^\\s]{2,}|www\\.[a-zA-Z0-9][a-zA-Z0-9-]+[a-zA-Z0-9]\\.[^\\s]{2,}|https?:\\/\\/(?:www\\.|(?!www))[a-zA-Z0-9]+\\.[^\\s]{2,}|www\\.[a-zA-Z0-9]+\\.[^\\s]{2,})')\n",
    "#url[(url.duplicated())]"
   ]
  },
  {
   "cell_type": "code",
   "execution_count": 66,
   "metadata": {},
   "outputs": [],
   "source": [
    "#tweet_full_clean.text.str.split"
   ]
  },
  {
   "cell_type": "markdown",
   "metadata": {},
   "source": [
    "<b>Test</b>"
   ]
  },
  {
   "cell_type": "code",
   "execution_count": 67,
   "metadata": {},
   "outputs": [
    {
     "data": {
      "text/plain": [
       "0       https://t.co/MgUWQ76dJU\n",
       "1       https://t.co/0Xxu71qeIV\n",
       "2       https://t.co/wUnZnhtVJB\n",
       "3       https://t.co/tD36da7qLQ\n",
       "4       https://t.co/AtUZn91f7f\n",
       "                 ...           \n",
       "2351    https://t.co/4B7cOc1EDq\n",
       "2352    https://t.co/DWnyCjf2mx\n",
       "2353    https://t.co/y671yMhoiR\n",
       "2354    https://t.co/r7mOb2m0UI\n",
       "2355    https://t.co/BLDqew2Ijj\n",
       "Name: tiny_url, Length: 2356, dtype: object"
      ]
     },
     "execution_count": 67,
     "metadata": {},
     "output_type": "execute_result"
    }
   ],
   "source": [
    "tweet_full_clean.tiny_url"
   ]
  },
  {
   "cell_type": "code",
   "execution_count": 68,
   "metadata": {},
   "outputs": [
    {
     "name": "stdout",
     "output_type": "stream",
     "text": [
      " Empty tiny_urls: 117\n",
      " Duplicate tiny_urls: 204\n"
     ]
    }
   ],
   "source": [
    "print(\" Empty tiny_urls: {}\".format(sum(tweet_full_clean.tiny_url.isnull())))\n",
    "print(\" Duplicate tiny_urls: {}\".format(sum(tweet_full_clean.tiny_url.duplicated())))"
   ]
  },
  {
   "cell_type": "code",
   "execution_count": 69,
   "metadata": {},
   "outputs": [
    {
     "data": {
      "text/html": [
       "<div>\n",
       "<style scoped>\n",
       "    .dataframe tbody tr th:only-of-type {\n",
       "        vertical-align: middle;\n",
       "    }\n",
       "\n",
       "    .dataframe tbody tr th {\n",
       "        vertical-align: top;\n",
       "    }\n",
       "\n",
       "    .dataframe thead th {\n",
       "        text-align: right;\n",
       "    }\n",
       "</style>\n",
       "<table border=\"1\" class=\"dataframe\">\n",
       "  <thead>\n",
       "    <tr style=\"text-align: right;\">\n",
       "      <th></th>\n",
       "      <th>tweet_id</th>\n",
       "      <th>in_reply_to_status_id</th>\n",
       "      <th>in_reply_to_user_id</th>\n",
       "      <th>timestamp</th>\n",
       "      <th>source</th>\n",
       "      <th>text</th>\n",
       "      <th>retweeted_status_id</th>\n",
       "      <th>retweeted_status_user_id</th>\n",
       "      <th>retweeted_status_timestamp</th>\n",
       "      <th>expanded_urls</th>\n",
       "      <th>rating_numerator</th>\n",
       "      <th>rating_denominator</th>\n",
       "      <th>name</th>\n",
       "      <th>dog_slang</th>\n",
       "      <th>tiny_url</th>\n",
       "    </tr>\n",
       "  </thead>\n",
       "  <tbody>\n",
       "    <tr>\n",
       "      <th>447</th>\n",
       "      <td>819015331746349057</td>\n",
       "      <td>nan</td>\n",
       "      <td>nan</td>\n",
       "      <td>2017-01-11 02:57:26 +0000</td>\n",
       "      <td>Twitter for iPhone</td>\n",
       "      <td>RT @dog_rates: This is Sunny. She was also a very good First Doggo. 14/10 would also be an absolute honor to pet https://t.co/YOC1fHFCSb</td>\n",
       "      <td>819006400881917952.000</td>\n",
       "      <td>4196983835.000</td>\n",
       "      <td>2017-01-11 02:21:57 +0000</td>\n",
       "      <td>https://twitter.com/dog_rates/status/819006400881917954/photo/1,https://twitter.com/dog_rates/status/819006400881917954/photo/1,https://twitter.com/dog_rates/status/819006400881917954/photo/1,https://twitter.com/dog_rates/status/819006400881917954/photo/1,https://twitter.com/dog_rates/status/819006400881917954/photo/1,https://twitter.com/dog_rates/status/819006400881917954/photo/1,https://twitter.com/dog_rates/status/819006400881917954/photo/1,https://twitter.com/dog_rates/status/819006400881917954/photo/1</td>\n",
       "      <td>14</td>\n",
       "      <td>10</td>\n",
       "      <td>Sunny</td>\n",
       "      <td>doggo</td>\n",
       "      <td>https://t.co/YOC1fHFCSb</td>\n",
       "    </tr>\n",
       "    <tr>\n",
       "      <th>448</th>\n",
       "      <td>819006400881917954</td>\n",
       "      <td>nan</td>\n",
       "      <td>nan</td>\n",
       "      <td>2017-01-11 02:21:57 +0000</td>\n",
       "      <td>Twitter for iPhone</td>\n",
       "      <td>This is Sunny. She was also a very good First Doggo. 14/10 would also be an absolute honor to pet https://t.co/YOC1fHFCSb</td>\n",
       "      <td>nan</td>\n",
       "      <td>nan</td>\n",
       "      <td>NaN</td>\n",
       "      <td>https://twitter.com/dog_rates/status/819006400881917954/photo/1,https://twitter.com/dog_rates/status/819006400881917954/photo/1,https://twitter.com/dog_rates/status/819006400881917954/photo/1,https://twitter.com/dog_rates/status/819006400881917954/photo/1</td>\n",
       "      <td>14</td>\n",
       "      <td>10</td>\n",
       "      <td>Sunny</td>\n",
       "      <td>doggo</td>\n",
       "      <td>https://t.co/YOC1fHFCSb</td>\n",
       "    </tr>\n",
       "  </tbody>\n",
       "</table>\n",
       "</div>"
      ],
      "text/plain": [
       "               tweet_id  in_reply_to_status_id  in_reply_to_user_id  \\\n",
       "447  819015331746349057                    nan                  nan   \n",
       "448  819006400881917954                    nan                  nan   \n",
       "\n",
       "                     timestamp              source  \\\n",
       "447  2017-01-11 02:57:26 +0000  Twitter for iPhone   \n",
       "448  2017-01-11 02:21:57 +0000  Twitter for iPhone   \n",
       "\n",
       "                                                                                                                                         text  \\\n",
       "447  RT @dog_rates: This is Sunny. She was also a very good First Doggo. 14/10 would also be an absolute honor to pet https://t.co/YOC1fHFCSb   \n",
       "448                 This is Sunny. She was also a very good First Doggo. 14/10 would also be an absolute honor to pet https://t.co/YOC1fHFCSb   \n",
       "\n",
       "       retweeted_status_id  retweeted_status_user_id  \\\n",
       "447 819006400881917952.000            4196983835.000   \n",
       "448                    nan                       nan   \n",
       "\n",
       "    retweeted_status_timestamp  \\\n",
       "447  2017-01-11 02:21:57 +0000   \n",
       "448                        NaN   \n",
       "\n",
       "                                                                                                                                                                                                                                                                                                                                                                                                                                                                                                                       expanded_urls  \\\n",
       "447  https://twitter.com/dog_rates/status/819006400881917954/photo/1,https://twitter.com/dog_rates/status/819006400881917954/photo/1,https://twitter.com/dog_rates/status/819006400881917954/photo/1,https://twitter.com/dog_rates/status/819006400881917954/photo/1,https://twitter.com/dog_rates/status/819006400881917954/photo/1,https://twitter.com/dog_rates/status/819006400881917954/photo/1,https://twitter.com/dog_rates/status/819006400881917954/photo/1,https://twitter.com/dog_rates/status/819006400881917954/photo/1   \n",
       "448                                                                                                                                                                                                                                                                  https://twitter.com/dog_rates/status/819006400881917954/photo/1,https://twitter.com/dog_rates/status/819006400881917954/photo/1,https://twitter.com/dog_rates/status/819006400881917954/photo/1,https://twitter.com/dog_rates/status/819006400881917954/photo/1   \n",
       "\n",
       "     rating_numerator  rating_denominator   name dog_slang  \\\n",
       "447                14                  10  Sunny     doggo   \n",
       "448                14                  10  Sunny     doggo   \n",
       "\n",
       "                    tiny_url  \n",
       "447  https://t.co/YOC1fHFCSb  \n",
       "448  https://t.co/YOC1fHFCSb  "
      ]
     },
     "execution_count": 69,
     "metadata": {},
     "output_type": "execute_result"
    }
   ],
   "source": [
    "mask = tweet_full_clean.tiny_url.duplicated() & tweet_full_clean.tiny_url.notnull()\n",
    "tweet_full_clean[mask].sample(5)\n",
    "tweet_full_clean[tweet_full_clean.tiny_url == 'https://t.co/YOC1fHFCSb'] #Keep first occurance"
   ]
  },
  {
   "cell_type": "markdown",
   "metadata": {},
   "source": [
    "#### 3. Quality -  Wrong data types\n",
    "<b>Define</b>\n",
    "- Rename the id column to tweet_id in `tweets_json_clean`\n",
    "- Strip (+00:00) from timestamp and Convert timestamp in `twitter_archine_enh` to datetime\n",
    "- Reference : https://stackoverflow.com/questions/32204631/how-to-convert-string-to-datetime-format-in-pandas-python\n",
    "- Change the data type for rating_numerator to float\n",
    "- Change data type of retweet_count, favorite_count to int in `tweets_json_clean`\n",
    "\n",
    "<b>Code</b>"
   ]
  },
  {
   "cell_type": "code",
   "execution_count": 70,
   "metadata": {},
   "outputs": [
    {
     "name": "stdout",
     "output_type": "stream",
     "text": [
      "<class 'pandas.core.frame.DataFrame'>\n",
      "RangeIndex: 2331 entries, 0 to 2330\n",
      "Data columns (total 4 columns):\n",
      " #   Column          Non-Null Count  Dtype \n",
      "---  ------          --------------  ----- \n",
      " 0   id              2331 non-null   int64 \n",
      " 1   retweet_count   2331 non-null   int64 \n",
      " 2   favorite_count  2331 non-null   int64 \n",
      " 3   source          2331 non-null   object\n",
      "dtypes: int64(3), object(1)\n",
      "memory usage: 73.0+ KB\n"
     ]
    }
   ],
   "source": [
    "tweets_json_clean.info()"
   ]
  },
  {
   "cell_type": "code",
   "execution_count": 71,
   "metadata": {},
   "outputs": [],
   "source": [
    "#timestamp, strip and convert\n",
    "tweet_full_clean['timestamp'] = pd.to_datetime(tweet_full_clean['timestamp'].str.rstrip('+00:00'))\n",
    "\n",
    "tweets_json_clean.rename(columns={\"id\": \"tweet_id\"},inplace=True)\n",
    "\n",
    "# Change the data type for rating_numerator to float\n",
    "tweet_full_clean.rating_numerator = tweet_full_clean.rating_numerator.astype(float)\n"
   ]
  },
  {
   "cell_type": "markdown",
   "metadata": {},
   "source": [
    "<b>Test</b>"
   ]
  },
  {
   "cell_type": "code",
   "execution_count": 72,
   "metadata": {},
   "outputs": [
    {
     "data": {
      "text/plain": [
       "2273   2015-11-19 22:32:36\n",
       "1759   2015-12-21 00:53:29\n",
       "1558   2016-01-17 18:27:32\n",
       "1647   2016-01-04 01:53:37\n",
       "150    2017-05-12 16:05:02\n",
       "2133   2015-11-27 02:55:47\n",
       "1679   2015-12-30 02:54:35\n",
       "418    2017-01-20 15:17:01\n",
       "1312   2016-03-08 01:25:10\n",
       "643    2016-10-31 21:00:23\n",
       "Name: timestamp, dtype: datetime64[ns]"
      ]
     },
     "execution_count": 72,
     "metadata": {},
     "output_type": "execute_result"
    }
   ],
   "source": [
    "tweet_full_clean.timestamp.sample(10)"
   ]
  },
  {
   "cell_type": "code",
   "execution_count": 188,
   "metadata": {},
   "outputs": [
    {
     "data": {
      "text/plain": [
       "count                    2133\n",
       "unique                   2133\n",
       "top       2016-09-12 15:10:21\n",
       "freq                        1\n",
       "first     2015-11-15 22:32:08\n",
       "last      2017-08-01 16:23:56\n",
       "Name: timestamp, dtype: object"
      ]
     },
     "execution_count": 188,
     "metadata": {},
     "output_type": "execute_result"
    }
   ],
   "source": [
    "tweet_full_clean.timestamp.describe()"
   ]
  },
  {
   "cell_type": "code",
   "execution_count": 189,
   "metadata": {},
   "outputs": [
    {
     "data": {
      "text/plain": [
       "count   2133.000\n",
       "mean    2015.882\n",
       "std        0.699\n",
       "min     2015.000\n",
       "25%     2015.000\n",
       "50%     2016.000\n",
       "75%     2016.000\n",
       "max     2017.000\n",
       "Name: timestamp, dtype: float64"
      ]
     },
     "execution_count": 189,
     "metadata": {},
     "output_type": "execute_result"
    }
   ],
   "source": [
    "tweet_full_clean.timestamp.dt.year.describe()"
   ]
  },
  {
   "cell_type": "code",
   "execution_count": 73,
   "metadata": {},
   "outputs": [
    {
     "data": {
      "text/plain": [
       "Index(['tweet_id', 'retweet_count', 'favorite_count', 'source'], dtype='object')"
      ]
     },
     "execution_count": 73,
     "metadata": {},
     "output_type": "execute_result"
    }
   ],
   "source": [
    "tweets_json_clean.columns"
   ]
  },
  {
   "cell_type": "code",
   "execution_count": 74,
   "metadata": {},
   "outputs": [
    {
     "data": {
      "text/plain": [
       "dtype('float64')"
      ]
     },
     "execution_count": 74,
     "metadata": {},
     "output_type": "execute_result"
    }
   ],
   "source": [
    "tweet_full_clean.rating_numerator.dtypes"
   ]
  },
  {
   "cell_type": "markdown",
   "metadata": {},
   "source": [
    "#### 4. Quality - Denominators should be 10 and Fix Numerators too (Handling multiple ratings related quality issues)\n",
    "<b>Define</b>\n",
    "- Check the non-10 denominator cases, ensure none of them are wrong ratings\n",
    "- Fix the wrong ratings \n",
    "- In the reamining cases, keep rows with denominator as 10\n",
    "- Numerators should not be greater than 15, also multiple issues:\n",
    "    - Numerators 75 = 9.75, 26 = 11.26, 27 = 11.27\n",
    "    - Numerators 0, 420, 182, 1776, 666 -> Remove, anything > 15 will be removed\n",
    "<b>Code</b>"
   ]
  },
  {
   "cell_type": "code",
   "execution_count": 75,
   "metadata": {},
   "outputs": [],
   "source": [
    "#for denominator 11, these are the same tweets with actual rating 14/10\n",
    "#tweet_full_clean[tweet_full_clean.rating_denominator==11].tweet_id\n",
    "# tweet ids :775096608509886464, 740373189193256964, 682962037429899265\n",
    "tweet_full_clean.loc[tweet_full_clean.tweet_id == 775096608509886464, ['rating_numerator']] = 14\n",
    "tweet_full_clean.loc[tweet_full_clean.tweet_id == 775096608509886464, ['rating_denominator']] = 10\n",
    "\n",
    "tweet_full_clean.loc[tweet_full_clean.tweet_id == 740373189193256964, ['rating_numerator']] = 14\n",
    "tweet_full_clean.loc[tweet_full_clean.tweet_id == 740373189193256964, ['rating_denominator']] = 10\n",
    "\n",
    "tweet_full_clean.loc[tweet_full_clean.tweet_id == 682962037429899265, ['rating_numerator']] = 14\n",
    "tweet_full_clean.loc[tweet_full_clean.tweet_id == 682962037429899265, ['rating_denominator']] = 10\n"
   ]
  },
  {
   "cell_type": "code",
   "execution_count": 76,
   "metadata": {},
   "outputs": [],
   "source": [
    "# For denominator 2, rating is 9/10, tweet id : 666287406224695296\n",
    "tweet_full_clean.loc[tweet_full_clean.tweet_id == 666287406224695296, ['rating_numerator']] = 9\n",
    "tweet_full_clean.loc[tweet_full_clean.tweet_id == 666287406224695296, ['rating_denominator']] = 10"
   ]
  },
  {
   "cell_type": "code",
   "execution_count": 77,
   "metadata": {},
   "outputs": [],
   "source": [
    "# for rest of the cases, only keep the data with denominator =10\n",
    "tweet_full_clean = tweet_full_clean[tweet_full_clean.rating_denominator==10]"
   ]
  },
  {
   "cell_type": "code",
   "execution_count": 78,
   "metadata": {},
   "outputs": [],
   "source": [
    "# Numerators should not be greater than 15, also multiple issues:\n",
    " #   - Numerators 75 = 9.75, 26 = 11.26, 27 = 11.27\n",
    "tweet_full_clean.loc[tweet_full_clean.tweet_id == 832215909146226688, ['rating_numerator']] = 9.75\n",
    "tweet_full_clean.loc[tweet_full_clean.tweet_id == 786709082849828864, ['rating_numerator']] = 9.75\n",
    "\n",
    "tweet_full_clean.loc[tweet_full_clean.tweet_id == 680494726643068929, ['rating_numerator']] = 11.26\n",
    "\n",
    "tweet_full_clean.loc[tweet_full_clean.tweet_id == 778027034220126208, ['rating_numerator']] = 11.27\n",
    "    "
   ]
  },
  {
   "cell_type": "code",
   "execution_count": 79,
   "metadata": {},
   "outputs": [],
   "source": [
    "#  - Numerators 0, 420, 182, 1776, 666 -> Remove, anything > 15 will be removed\n",
    "tweet_full_clean=tweet_full_clean[tweet_full_clean.rating_numerator<16 ]\n",
    "tweet_full_clean=tweet_full_clean[tweet_full_clean.rating_numerator > 0 ]"
   ]
  },
  {
   "cell_type": "markdown",
   "metadata": {},
   "source": [
    "<b>Test</b>"
   ]
  },
  {
   "cell_type": "code",
   "execution_count": 80,
   "metadata": {},
   "outputs": [
    {
     "data": {
      "text/html": [
       "<div>\n",
       "<style scoped>\n",
       "    .dataframe tbody tr th:only-of-type {\n",
       "        vertical-align: middle;\n",
       "    }\n",
       "\n",
       "    .dataframe tbody tr th {\n",
       "        vertical-align: top;\n",
       "    }\n",
       "\n",
       "    .dataframe thead th {\n",
       "        text-align: right;\n",
       "    }\n",
       "</style>\n",
       "<table border=\"1\" class=\"dataframe\">\n",
       "  <thead>\n",
       "    <tr style=\"text-align: right;\">\n",
       "      <th></th>\n",
       "      <th>tweet_id</th>\n",
       "      <th>in_reply_to_status_id</th>\n",
       "      <th>in_reply_to_user_id</th>\n",
       "      <th>timestamp</th>\n",
       "      <th>source</th>\n",
       "      <th>text</th>\n",
       "      <th>retweeted_status_id</th>\n",
       "      <th>retweeted_status_user_id</th>\n",
       "      <th>retweeted_status_timestamp</th>\n",
       "      <th>expanded_urls</th>\n",
       "      <th>rating_numerator</th>\n",
       "      <th>rating_denominator</th>\n",
       "      <th>name</th>\n",
       "      <th>dog_slang</th>\n",
       "      <th>tiny_url</th>\n",
       "    </tr>\n",
       "  </thead>\n",
       "  <tbody>\n",
       "  </tbody>\n",
       "</table>\n",
       "</div>"
      ],
      "text/plain": [
       "Empty DataFrame\n",
       "Columns: [tweet_id, in_reply_to_status_id, in_reply_to_user_id, timestamp, source, text, retweeted_status_id, retweeted_status_user_id, retweeted_status_timestamp, expanded_urls, rating_numerator, rating_denominator, name, dog_slang, tiny_url]\n",
       "Index: []"
      ]
     },
     "execution_count": 80,
     "metadata": {},
     "output_type": "execute_result"
    }
   ],
   "source": [
    "tweet_full_clean[tweet_full_clean.rating_denominator!=10]"
   ]
  },
  {
   "cell_type": "code",
   "execution_count": 81,
   "metadata": {},
   "outputs": [
    {
     "data": {
      "text/plain": [
       "10    2329\n",
       "Name: rating_denominator, dtype: int64"
      ]
     },
     "execution_count": 81,
     "metadata": {},
     "output_type": "execute_result"
    }
   ],
   "source": [
    "tweet_full_clean.rating_denominator.value_counts()"
   ]
  },
  {
   "cell_type": "code",
   "execution_count": 82,
   "metadata": {},
   "outputs": [
    {
     "data": {
      "text/plain": [
       "12.000    558\n",
       "11.000    463\n",
       "10.000    461\n",
       "13.000    351\n",
       "9.000     157\n",
       "8.000     102\n",
       "14.000     57\n",
       "7.000      54\n",
       "5.000      37\n",
       "6.000      32\n",
       "3.000      19\n",
       "4.000      15\n",
       "2.000       9\n",
       "1.000       8\n",
       "15.000      2\n",
       "9.750       2\n",
       "11.270      1\n",
       "11.260      1\n",
       "Name: rating_numerator, dtype: int64"
      ]
     },
     "execution_count": 82,
     "metadata": {},
     "output_type": "execute_result"
    }
   ],
   "source": [
    "tweet_full_clean.rating_numerator.value_counts()"
   ]
  },
  {
   "cell_type": "code",
   "execution_count": 83,
   "metadata": {},
   "outputs": [
    {
     "data": {
      "text/plain": [
       "2329"
      ]
     },
     "execution_count": 83,
     "metadata": {},
     "output_type": "execute_result"
    }
   ],
   "source": [
    "len(tweet_full_clean) "
   ]
  },
  {
   "cell_type": "markdown",
   "metadata": {},
   "source": [
    "#### 5. Quality - Remove duplicate records\n",
    "<b>Define</b>\n",
    "- Identify the 66 duplicate records in `img_predictions` based on jpg_urls\n",
    "- Remove the duplicates, keep the first occurances\n",
    "- Identify the duplicate dogs data in `twitter_archive_enh` where tiny_url is duplicated and not null\n",
    "- Keep the first row\n",
    "<b>Code</b>"
   ]
  },
  {
   "cell_type": "code",
   "execution_count": 84,
   "metadata": {},
   "outputs": [
    {
     "name": "stdout",
     "output_type": "stream",
     "text": [
      "Not Null Retweet status count: (181, 15)\n",
      "Not Null InReply status count: (68, 15)\n",
      "Full Count: (2329, 15)\n",
      "Full Count: (2133, 15)\n"
     ]
    }
   ],
   "source": [
    "#tweet_full_clean\n",
    "print('Not Null Retweet status count: {}'.format(tweet_full_clean[tweet_full_clean.retweeted_status_id.notnull()].shape))\n",
    "print('Not Null InReply status count: {}'.format(tweet_full_clean[tweet_full_clean.in_reply_to_status_id.notnull()].shape))\n",
    "print('Full Count: {}'.format(tweet_full_clean.shape))      \n",
    "#Subset the table to include null etweeted_status_id, in_reply_to_status_id\n",
    "#tweet_full_clean = tweet_full_clean[tweet_full_clean.retweeted_status_id.isnull()]\n",
    "#tweet_full_clean = tweet_full_clean[tweet_full_clean.in_reply_to_status_id.isnull()]\n",
    "tweet_full_clean.drop_duplicates(subset=['tiny_url'], keep='first',inplace =True)\n",
    "print('Full Count: {}'.format(tweet_full_clean.shape))  "
   ]
  },
  {
   "cell_type": "code",
   "execution_count": 85,
   "metadata": {},
   "outputs": [],
   "source": [
    "#remove duplicates\n",
    "img_predictions_clean.drop_duplicates(subset=['jpg_url'], keep='first',inplace =True)"
   ]
  },
  {
   "cell_type": "markdown",
   "metadata": {},
   "source": [
    "<b>Test</b>"
   ]
  },
  {
   "cell_type": "code",
   "execution_count": 86,
   "metadata": {},
   "outputs": [
    {
     "data": {
      "text/html": [
       "<div>\n",
       "<style scoped>\n",
       "    .dataframe tbody tr th:only-of-type {\n",
       "        vertical-align: middle;\n",
       "    }\n",
       "\n",
       "    .dataframe tbody tr th {\n",
       "        vertical-align: top;\n",
       "    }\n",
       "\n",
       "    .dataframe thead th {\n",
       "        text-align: right;\n",
       "    }\n",
       "</style>\n",
       "<table border=\"1\" class=\"dataframe\">\n",
       "  <thead>\n",
       "    <tr style=\"text-align: right;\">\n",
       "      <th></th>\n",
       "      <th>tweet_id</th>\n",
       "      <th>in_reply_to_status_id</th>\n",
       "      <th>in_reply_to_user_id</th>\n",
       "      <th>timestamp</th>\n",
       "      <th>source</th>\n",
       "      <th>text</th>\n",
       "      <th>retweeted_status_id</th>\n",
       "      <th>retweeted_status_user_id</th>\n",
       "      <th>retweeted_status_timestamp</th>\n",
       "      <th>expanded_urls</th>\n",
       "      <th>rating_numerator</th>\n",
       "      <th>rating_denominator</th>\n",
       "      <th>name</th>\n",
       "      <th>dog_slang</th>\n",
       "      <th>tiny_url</th>\n",
       "    </tr>\n",
       "  </thead>\n",
       "  <tbody>\n",
       "    <tr>\n",
       "      <th>447</th>\n",
       "      <td>819015331746349057</td>\n",
       "      <td>nan</td>\n",
       "      <td>nan</td>\n",
       "      <td>2017-01-11 02:57:26</td>\n",
       "      <td>Twitter for iPhone</td>\n",
       "      <td>RT @dog_rates: This is Sunny. She was also a very good First Doggo. 14/10 would also be an absolute honor to pet https://t.co/YOC1fHFCSb</td>\n",
       "      <td>819006400881917952.000</td>\n",
       "      <td>4196983835.000</td>\n",
       "      <td>2017-01-11 02:21:57 +0000</td>\n",
       "      <td>https://twitter.com/dog_rates/status/819006400881917954/photo/1,https://twitter.com/dog_rates/status/819006400881917954/photo/1,https://twitter.com/dog_rates/status/819006400881917954/photo/1,https://twitter.com/dog_rates/status/819006400881917954/photo/1,https://twitter.com/dog_rates/status/819006400881917954/photo/1,https://twitter.com/dog_rates/status/819006400881917954/photo/1,https://twitter.com/dog_rates/status/819006400881917954/photo/1,https://twitter.com/dog_rates/status/819006400881917954/photo/1</td>\n",
       "      <td>14.000</td>\n",
       "      <td>10</td>\n",
       "      <td>Sunny</td>\n",
       "      <td>doggo</td>\n",
       "      <td>https://t.co/YOC1fHFCSb</td>\n",
       "    </tr>\n",
       "  </tbody>\n",
       "</table>\n",
       "</div>"
      ],
      "text/plain": [
       "               tweet_id  in_reply_to_status_id  in_reply_to_user_id  \\\n",
       "447  819015331746349057                    nan                  nan   \n",
       "\n",
       "              timestamp              source  \\\n",
       "447 2017-01-11 02:57:26  Twitter for iPhone   \n",
       "\n",
       "                                                                                                                                         text  \\\n",
       "447  RT @dog_rates: This is Sunny. She was also a very good First Doggo. 14/10 would also be an absolute honor to pet https://t.co/YOC1fHFCSb   \n",
       "\n",
       "       retweeted_status_id  retweeted_status_user_id  \\\n",
       "447 819006400881917952.000            4196983835.000   \n",
       "\n",
       "    retweeted_status_timestamp  \\\n",
       "447  2017-01-11 02:21:57 +0000   \n",
       "\n",
       "                                                                                                                                                                                                                                                                                                                                                                                                                                                                                                                       expanded_urls  \\\n",
       "447  https://twitter.com/dog_rates/status/819006400881917954/photo/1,https://twitter.com/dog_rates/status/819006400881917954/photo/1,https://twitter.com/dog_rates/status/819006400881917954/photo/1,https://twitter.com/dog_rates/status/819006400881917954/photo/1,https://twitter.com/dog_rates/status/819006400881917954/photo/1,https://twitter.com/dog_rates/status/819006400881917954/photo/1,https://twitter.com/dog_rates/status/819006400881917954/photo/1,https://twitter.com/dog_rates/status/819006400881917954/photo/1   \n",
       "\n",
       "     rating_numerator  rating_denominator   name dog_slang  \\\n",
       "447            14.000                  10  Sunny     doggo   \n",
       "\n",
       "                    tiny_url  \n",
       "447  https://t.co/YOC1fHFCSb  "
      ]
     },
     "execution_count": 86,
     "metadata": {},
     "output_type": "execute_result"
    }
   ],
   "source": [
    "#mask = tweet_full_clean.tiny_url.duplicated() & tweet_full_clean.tiny_url.notnull()\n",
    "#tweet_full_clean[mask].sample(5)\n",
    "tweet_full_clean[tweet_full_clean.tiny_url == 'https://t.co/YOC1fHFCSb'] #Keep first occurance\n",
    "\n"
   ]
  },
  {
   "cell_type": "code",
   "execution_count": 87,
   "metadata": {},
   "outputs": [
    {
     "name": "stdout",
     "output_type": "stream",
     "text": [
      "# of duplicated rows jpg_url: 0\n",
      "# of duplicated rows tiny_url: 0\n",
      "Rows in Image Prediction table: 2009\n",
      "Full Count of Rows in Twitter_Archive table: (2133, 15)\n"
     ]
    }
   ],
   "source": [
    "print('# of duplicated rows jpg_url: {}'.format(sum(img_predictions_clean.jpg_url.duplicated())))\n",
    "print('# of duplicated rows tiny_url: {}'.format(sum(tweet_full_clean.tiny_url.duplicated())))\n",
    "print('Rows in Image Prediction table: {}'.format(len(img_predictions_clean)))\n",
    "print('Full Count of Rows in Twitter_Archive table: {}'.format(tweet_full_clean.shape))  "
   ]
  },
  {
   "cell_type": "markdown",
   "metadata": {},
   "source": [
    "#### 6. Quality- Column names not descriptive\n",
    "<b>Define</b>\n",
    "- Change the non-descriptive column in `img_predictions` names using rename()\n",
    "\n",
    "<b>Code</b>"
   ]
  },
  {
   "cell_type": "code",
   "execution_count": 88,
   "metadata": {},
   "outputs": [],
   "source": [
    "img_predictions_clean.rename(columns={'p1':'prediction_1', 'p1_conf': 'confidence_1', 'p1_dog': 'is_pred1_dog',\n",
    "                                  'p2': 'prediction_2', 'p2_conf': 'confidence_2', 'p2_dog': 'is_pred2_dog',\n",
    "                                  'p3': 'prediction_3', 'p3_conf': 'confidence_3', 'p3_dog': 'is_pred3_dog'}, inplace = True)"
   ]
  },
  {
   "cell_type": "markdown",
   "metadata": {},
   "source": [
    "<b>Test</b>"
   ]
  },
  {
   "cell_type": "code",
   "execution_count": 89,
   "metadata": {},
   "outputs": [
    {
     "data": {
      "text/plain": [
       "Index(['tweet_id', 'jpg_url', 'img_num', 'prediction_1', 'confidence_1',\n",
       "       'is_pred1_dog', 'prediction_2', 'confidence_2', 'is_pred2_dog',\n",
       "       'prediction_3', 'confidence_3', 'is_pred3_dog'],\n",
       "      dtype='object')"
      ]
     },
     "execution_count": 89,
     "metadata": {},
     "output_type": "execute_result"
    }
   ],
   "source": [
    "img_predictions_clean.columns"
   ]
  },
  {
   "cell_type": "markdown",
   "metadata": {},
   "source": [
    "#### 7. Quality - Dog breeds are in lower case in some p1, p2, p3 columns\n",
    "<b>Define</b>\n",
    "- Identify the records in `img_predictions` that have lowercase dog breeds\n",
    "- Change them to uppercase using capitalize()\n",
    "- Reference : https://www.geeksforgeeks.org/capitalize-first-letter-of-a-column-in-pandas-dataframe/\n",
    "\n",
    "<b>Code</b>"
   ]
  },
  {
   "cell_type": "code",
   "execution_count": 90,
   "metadata": {},
   "outputs": [],
   "source": [
    "img_predictions_clean.prediction_1=img_predictions_clean.prediction_1.str.capitalize()\n",
    "img_predictions_clean.prediction_2=img_predictions_clean.prediction_2.str.capitalize()\n",
    "img_predictions_clean.prediction_2=img_predictions_clean.prediction_3.str.capitalize()"
   ]
  },
  {
   "cell_type": "markdown",
   "metadata": {},
   "source": [
    "<b>Test</b>"
   ]
  },
  {
   "cell_type": "code",
   "execution_count": 91,
   "metadata": {},
   "outputs": [
    {
     "data": {
      "text/plain": [
       "Golden_retriever      139\n",
       "Labrador_retriever     95\n",
       "Pembroke               88\n",
       "Chihuahua              79\n",
       "Pug                    55\n",
       "Chow                   41\n",
       "Samoyed                40\n",
       "Toy_poodle             38\n",
       "Pomeranian             38\n",
       "Malamute               29\n",
       "Name: prediction_1, dtype: int64"
      ]
     },
     "execution_count": 91,
     "metadata": {},
     "output_type": "execute_result"
    }
   ],
   "source": [
    "img_predictions_clean.prediction_1.value_counts().head(10)\n"
   ]
  },
  {
   "cell_type": "code",
   "execution_count": 92,
   "metadata": {},
   "outputs": [
    {
     "data": {
      "text/plain": [
       "African_grey        1\n",
       "Otter               1\n",
       "Book_jacket         1\n",
       "Cowboy_boot         1\n",
       "Japanese_spaniel    1\n",
       "Giant_panda         1\n",
       "Radio_telescope     1\n",
       "Pole                1\n",
       "Carousel            1\n",
       "Bookcase            1\n",
       "Name: prediction_1, dtype: int64"
      ]
     },
     "execution_count": 92,
     "metadata": {},
     "output_type": "execute_result"
    }
   ],
   "source": [
    "img_predictions_clean.prediction_1.value_counts().tail(10)"
   ]
  },
  {
   "cell_type": "code",
   "execution_count": 93,
   "metadata": {},
   "outputs": [
    {
     "data": {
      "text/html": [
       "<div>\n",
       "<style scoped>\n",
       "    .dataframe tbody tr th:only-of-type {\n",
       "        vertical-align: middle;\n",
       "    }\n",
       "\n",
       "    .dataframe tbody tr th {\n",
       "        vertical-align: top;\n",
       "    }\n",
       "\n",
       "    .dataframe thead th {\n",
       "        text-align: right;\n",
       "    }\n",
       "</style>\n",
       "<table border=\"1\" class=\"dataframe\">\n",
       "  <thead>\n",
       "    <tr style=\"text-align: right;\">\n",
       "      <th></th>\n",
       "      <th>tweet_id</th>\n",
       "      <th>prediction_1</th>\n",
       "      <th>prediction_2</th>\n",
       "      <th>prediction_3</th>\n",
       "    </tr>\n",
       "  </thead>\n",
       "  <tbody>\n",
       "    <tr>\n",
       "      <th>574</th>\n",
       "      <td>678446151570427904</td>\n",
       "      <td>Staffordshire_bullterrier</td>\n",
       "      <td>American_staffordshire_terrier</td>\n",
       "      <td>American_Staffordshire_terrier</td>\n",
       "    </tr>\n",
       "    <tr>\n",
       "      <th>668</th>\n",
       "      <td>683030066213818368</td>\n",
       "      <td>Boxer</td>\n",
       "      <td>French_bulldog</td>\n",
       "      <td>French_bulldog</td>\n",
       "    </tr>\n",
       "    <tr>\n",
       "      <th>731</th>\n",
       "      <td>686683045143953408</td>\n",
       "      <td>Norwich_terrier</td>\n",
       "      <td>Golden_retriever</td>\n",
       "      <td>golden_retriever</td>\n",
       "    </tr>\n",
       "    <tr>\n",
       "      <th>1211</th>\n",
       "      <td>742528092657332225</td>\n",
       "      <td>Sunglasses</td>\n",
       "      <td>Snorkel</td>\n",
       "      <td>snorkel</td>\n",
       "    </tr>\n",
       "    <tr>\n",
       "      <th>854</th>\n",
       "      <td>696488710901260288</td>\n",
       "      <td>Briard</td>\n",
       "      <td>Giant_schnauzer</td>\n",
       "      <td>giant_schnauzer</td>\n",
       "    </tr>\n",
       "    <tr>\n",
       "      <th>392</th>\n",
       "      <td>673580926094458881</td>\n",
       "      <td>Beagle</td>\n",
       "      <td>Walker_hound</td>\n",
       "      <td>Walker_hound</td>\n",
       "    </tr>\n",
       "  </tbody>\n",
       "</table>\n",
       "</div>"
      ],
      "text/plain": [
       "                tweet_id               prediction_1  \\\n",
       "574   678446151570427904  Staffordshire_bullterrier   \n",
       "668   683030066213818368                      Boxer   \n",
       "731   686683045143953408            Norwich_terrier   \n",
       "1211  742528092657332225                 Sunglasses   \n",
       "854   696488710901260288                     Briard   \n",
       "392   673580926094458881                     Beagle   \n",
       "\n",
       "                        prediction_2                    prediction_3  \n",
       "574   American_staffordshire_terrier  American_Staffordshire_terrier  \n",
       "668                   French_bulldog                  French_bulldog  \n",
       "731                 Golden_retriever                golden_retriever  \n",
       "1211                         Snorkel                         snorkel  \n",
       "854                  Giant_schnauzer                 giant_schnauzer  \n",
       "392                     Walker_hound                    Walker_hound  "
      ]
     },
     "execution_count": 93,
     "metadata": {},
     "output_type": "execute_result"
    }
   ],
   "source": [
    "# Subsetting the twt_ach_mstr to show only p1, p2, p3, and tweet_id.\n",
    "img_predictions_clean[['tweet_id','prediction_1','prediction_2','prediction_3']].sample(6)"
   ]
  },
  {
   "cell_type": "markdown",
   "metadata": {},
   "source": [
    "#### 8. Quality- Remove unwanted columns from `tweets_json`\n",
    "<b>Define</b>\n",
    "- Drop the source column from `tweets_json`\n",
    "\n",
    "<b>Code</b>"
   ]
  },
  {
   "cell_type": "code",
   "execution_count": 94,
   "metadata": {},
   "outputs": [],
   "source": [
    "tweets_json_clean.drop(columns=['source'],axis=1,inplace=True)"
   ]
  },
  {
   "cell_type": "markdown",
   "metadata": {},
   "source": [
    "<b>Test</b>"
   ]
  },
  {
   "cell_type": "code",
   "execution_count": 95,
   "metadata": {},
   "outputs": [
    {
     "data": {
      "text/plain": [
       "Index(['tweet_id', 'retweet_count', 'favorite_count'], dtype='object')"
      ]
     },
     "execution_count": 95,
     "metadata": {},
     "output_type": "execute_result"
    }
   ],
   "source": [
    "tweets_json_clean.columns\n"
   ]
  },
  {
   "cell_type": "markdown",
   "metadata": {},
   "source": [
    "#### 9. Tidiness : twitter_archive_enh tables delete unwanted fields\n",
    "<b>Define</b>\n",
    "- From the table `twitter_archive_enh` tables  remove : in_reply_to_status_id, in_reply_to_user_id\n",
    "\n",
    "<b>Code</b>"
   ]
  },
  {
   "cell_type": "code",
   "execution_count": 96,
   "metadata": {},
   "outputs": [],
   "source": [
    "tweet_full_clean = tweet_full_clean.drop(columns=\n",
    "                                         ['in_reply_to_status_id','in_reply_to_user_id','retweeted_status_id',\n",
    "                                          'retweeted_status_user_id','retweeted_status_timestamp'],axis=1)"
   ]
  },
  {
   "cell_type": "code",
   "execution_count": 97,
   "metadata": {
    "scrolled": true
   },
   "outputs": [
    {
     "data": {
      "text/plain": [
       "Index(['tweet_id', 'timestamp', 'source', 'text', 'expanded_urls',\n",
       "       'rating_numerator', 'rating_denominator', 'name', 'dog_slang',\n",
       "       'tiny_url'],\n",
       "      dtype='object')"
      ]
     },
     "execution_count": 97,
     "metadata": {},
     "output_type": "execute_result"
    }
   ],
   "source": [
    "tweet_full_clean.columns"
   ]
  },
  {
   "cell_type": "markdown",
   "metadata": {},
   "source": [
    "<b>Test</b>"
   ]
  },
  {
   "cell_type": "code",
   "execution_count": 98,
   "metadata": {},
   "outputs": [
    {
     "name": "stdout",
     "output_type": "stream",
     "text": [
      "<class 'pandas.core.frame.DataFrame'>\n",
      "Int64Index: 2133 entries, 0 to 2355\n",
      "Data columns (total 10 columns):\n",
      " #   Column              Non-Null Count  Dtype         \n",
      "---  ------              --------------  -----         \n",
      " 0   tweet_id            2133 non-null   int64         \n",
      " 1   timestamp           2133 non-null   datetime64[ns]\n",
      " 2   source              2133 non-null   object        \n",
      " 3   text                2133 non-null   object        \n",
      " 4   expanded_urls       2132 non-null   object        \n",
      " 5   rating_numerator    2133 non-null   float64       \n",
      " 6   rating_denominator  2133 non-null   int64         \n",
      " 7   name                2133 non-null   object        \n",
      " 8   dog_slang           2133 non-null   object        \n",
      " 9   tiny_url            2132 non-null   object        \n",
      "dtypes: datetime64[ns](1), float64(1), int64(2), object(6)\n",
      "memory usage: 183.3+ KB\n"
     ]
    }
   ],
   "source": [
    "tweet_full_clean.info()"
   ]
  },
  {
   "cell_type": "markdown",
   "metadata": {},
   "source": [
    "#### 10. Tidiness - Join `img_predictions` and  `tweets_json` with `twitter_archive_enh`\n",
    "<b>Define</b>\n",
    "- Left Join `twitter_archive_enh` with `tweets_json` on tweet_id\n",
    "\n",
    "<b>Code</b>"
   ]
  },
  {
   "cell_type": "code",
   "execution_count": 99,
   "metadata": {},
   "outputs": [],
   "source": [
    "tweet_full_clean = pd.merge(tweet_full_clean, tweets_json_clean, \n",
    "                            on = ['tweet_id'], \n",
    "                            how = 'left')"
   ]
  },
  {
   "cell_type": "markdown",
   "metadata": {},
   "source": [
    "<b>Test</b>"
   ]
  },
  {
   "cell_type": "code",
   "execution_count": 100,
   "metadata": {},
   "outputs": [
    {
     "data": {
      "text/html": [
       "<div>\n",
       "<style scoped>\n",
       "    .dataframe tbody tr th:only-of-type {\n",
       "        vertical-align: middle;\n",
       "    }\n",
       "\n",
       "    .dataframe tbody tr th {\n",
       "        vertical-align: top;\n",
       "    }\n",
       "\n",
       "    .dataframe thead th {\n",
       "        text-align: right;\n",
       "    }\n",
       "</style>\n",
       "<table border=\"1\" class=\"dataframe\">\n",
       "  <thead>\n",
       "    <tr style=\"text-align: right;\">\n",
       "      <th></th>\n",
       "      <th>tweet_id</th>\n",
       "      <th>timestamp</th>\n",
       "      <th>source</th>\n",
       "      <th>text</th>\n",
       "      <th>expanded_urls</th>\n",
       "      <th>rating_numerator</th>\n",
       "      <th>rating_denominator</th>\n",
       "      <th>name</th>\n",
       "      <th>dog_slang</th>\n",
       "      <th>tiny_url</th>\n",
       "      <th>retweet_count</th>\n",
       "      <th>favorite_count</th>\n",
       "    </tr>\n",
       "  </thead>\n",
       "  <tbody>\n",
       "    <tr>\n",
       "      <th>0</th>\n",
       "      <td>892420643555336193</td>\n",
       "      <td>2017-08-01 16:23:56</td>\n",
       "      <td>Twitter for iPhone</td>\n",
       "      <td>This is Phineas. He's a mystical boy. Only ever appears in the hole of a donut. 13/10 https://t.co/MgUWQ76dJU</td>\n",
       "      <td>https://twitter.com/dog_rates/status/892420643555336193/photo/1</td>\n",
       "      <td>13.000</td>\n",
       "      <td>10</td>\n",
       "      <td>Phineas</td>\n",
       "      <td></td>\n",
       "      <td>https://t.co/MgUWQ76dJU</td>\n",
       "      <td>7588.000</td>\n",
       "      <td>35830.000</td>\n",
       "    </tr>\n",
       "    <tr>\n",
       "      <th>1</th>\n",
       "      <td>892177421306343426</td>\n",
       "      <td>2017-08-01 00:17:27</td>\n",
       "      <td>Twitter for iPhone</td>\n",
       "      <td>This is Tilly. She's just checking pup on you. Hopes you're doing ok. If not, she's available for pats, snugs, boops, the whole bit. 13/10 https://t.co/0Xxu71qeIV</td>\n",
       "      <td>https://twitter.com/dog_rates/status/892177421306343426/photo/1</td>\n",
       "      <td>13.000</td>\n",
       "      <td>10</td>\n",
       "      <td>Tilly</td>\n",
       "      <td></td>\n",
       "      <td>https://t.co/0Xxu71qeIV</td>\n",
       "      <td>5623.000</td>\n",
       "      <td>30926.000</td>\n",
       "    </tr>\n",
       "  </tbody>\n",
       "</table>\n",
       "</div>"
      ],
      "text/plain": [
       "             tweet_id           timestamp              source  \\\n",
       "0  892420643555336193 2017-08-01 16:23:56  Twitter for iPhone   \n",
       "1  892177421306343426 2017-08-01 00:17:27  Twitter for iPhone   \n",
       "\n",
       "                                                                                                                                                                 text  \\\n",
       "0                                                       This is Phineas. He's a mystical boy. Only ever appears in the hole of a donut. 13/10 https://t.co/MgUWQ76dJU   \n",
       "1  This is Tilly. She's just checking pup on you. Hopes you're doing ok. If not, she's available for pats, snugs, boops, the whole bit. 13/10 https://t.co/0Xxu71qeIV   \n",
       "\n",
       "                                                     expanded_urls  \\\n",
       "0  https://twitter.com/dog_rates/status/892420643555336193/photo/1   \n",
       "1  https://twitter.com/dog_rates/status/892177421306343426/photo/1   \n",
       "\n",
       "   rating_numerator  rating_denominator     name dog_slang  \\\n",
       "0            13.000                  10  Phineas             \n",
       "1            13.000                  10    Tilly             \n",
       "\n",
       "                  tiny_url  retweet_count  favorite_count  \n",
       "0  https://t.co/MgUWQ76dJU       7588.000       35830.000  \n",
       "1  https://t.co/0Xxu71qeIV       5623.000       30926.000  "
      ]
     },
     "execution_count": 100,
     "metadata": {},
     "output_type": "execute_result"
    }
   ],
   "source": [
    "tweet_full_clean.head(2)"
   ]
  },
  {
   "cell_type": "code",
   "execution_count": 101,
   "metadata": {},
   "outputs": [
    {
     "data": {
      "text/plain": [
       "(2133, 12)"
      ]
     },
     "execution_count": 101,
     "metadata": {},
     "output_type": "execute_result"
    }
   ],
   "source": [
    "tweet_full_clean.shape"
   ]
  },
  {
   "cell_type": "markdown",
   "metadata": {},
   "source": [
    "#### 11. Tidiness - Join `img_predictions`  with `twitter_archive_enh`\n",
    "<b>Define</b>\n",
    "- Left Join `twitter_archive_enh` with `img_predictions` on tweet_id\n",
    "\n",
    "<b>Code</b>"
   ]
  },
  {
   "cell_type": "code",
   "execution_count": 102,
   "metadata": {},
   "outputs": [],
   "source": [
    "tweet_full_clean = pd.merge(tweet_full_clean, img_predictions_clean, \n",
    "                            on = ['tweet_id'], \n",
    "                            how = 'left')"
   ]
  },
  {
   "cell_type": "markdown",
   "metadata": {},
   "source": [
    "<b>Test</b>"
   ]
  },
  {
   "cell_type": "code",
   "execution_count": 103,
   "metadata": {},
   "outputs": [
    {
     "data": {
      "text/html": [
       "<div>\n",
       "<style scoped>\n",
       "    .dataframe tbody tr th:only-of-type {\n",
       "        vertical-align: middle;\n",
       "    }\n",
       "\n",
       "    .dataframe tbody tr th {\n",
       "        vertical-align: top;\n",
       "    }\n",
       "\n",
       "    .dataframe thead th {\n",
       "        text-align: right;\n",
       "    }\n",
       "</style>\n",
       "<table border=\"1\" class=\"dataframe\">\n",
       "  <thead>\n",
       "    <tr style=\"text-align: right;\">\n",
       "      <th></th>\n",
       "      <th>tweet_id</th>\n",
       "      <th>timestamp</th>\n",
       "      <th>source</th>\n",
       "      <th>text</th>\n",
       "      <th>expanded_urls</th>\n",
       "      <th>rating_numerator</th>\n",
       "      <th>rating_denominator</th>\n",
       "      <th>name</th>\n",
       "      <th>dog_slang</th>\n",
       "      <th>tiny_url</th>\n",
       "      <th>retweet_count</th>\n",
       "      <th>favorite_count</th>\n",
       "      <th>jpg_url</th>\n",
       "      <th>img_num</th>\n",
       "      <th>prediction_1</th>\n",
       "      <th>confidence_1</th>\n",
       "      <th>is_pred1_dog</th>\n",
       "      <th>prediction_2</th>\n",
       "      <th>confidence_2</th>\n",
       "      <th>is_pred2_dog</th>\n",
       "      <th>prediction_3</th>\n",
       "      <th>confidence_3</th>\n",
       "      <th>is_pred3_dog</th>\n",
       "    </tr>\n",
       "  </thead>\n",
       "  <tbody>\n",
       "    <tr>\n",
       "      <th>0</th>\n",
       "      <td>892420643555336193</td>\n",
       "      <td>2017-08-01 16:23:56</td>\n",
       "      <td>Twitter for iPhone</td>\n",
       "      <td>This is Phineas. He's a mystical boy. Only ever appears in the hole of a donut. 13/10 https://t.co/MgUWQ76dJU</td>\n",
       "      <td>https://twitter.com/dog_rates/status/892420643555336193/photo/1</td>\n",
       "      <td>13.000</td>\n",
       "      <td>10</td>\n",
       "      <td>Phineas</td>\n",
       "      <td></td>\n",
       "      <td>https://t.co/MgUWQ76dJU</td>\n",
       "      <td>7588.000</td>\n",
       "      <td>35830.000</td>\n",
       "      <td>https://pbs.twimg.com/media/DGKD1-bXoAAIAUK.jpg</td>\n",
       "      <td>1.000</td>\n",
       "      <td>Orange</td>\n",
       "      <td>0.097</td>\n",
       "      <td>False</td>\n",
       "      <td>Banana</td>\n",
       "      <td>0.086</td>\n",
       "      <td>False</td>\n",
       "      <td>banana</td>\n",
       "      <td>0.076</td>\n",
       "      <td>False</td>\n",
       "    </tr>\n",
       "    <tr>\n",
       "      <th>1</th>\n",
       "      <td>892177421306343426</td>\n",
       "      <td>2017-08-01 00:17:27</td>\n",
       "      <td>Twitter for iPhone</td>\n",
       "      <td>This is Tilly. She's just checking pup on you. Hopes you're doing ok. If not, she's available for pats, snugs, boops, the whole bit. 13/10 https://t.co/0Xxu71qeIV</td>\n",
       "      <td>https://twitter.com/dog_rates/status/892177421306343426/photo/1</td>\n",
       "      <td>13.000</td>\n",
       "      <td>10</td>\n",
       "      <td>Tilly</td>\n",
       "      <td></td>\n",
       "      <td>https://t.co/0Xxu71qeIV</td>\n",
       "      <td>5623.000</td>\n",
       "      <td>30926.000</td>\n",
       "      <td>https://pbs.twimg.com/media/DGGmoV4XsAAUL6n.jpg</td>\n",
       "      <td>1.000</td>\n",
       "      <td>Chihuahua</td>\n",
       "      <td>0.324</td>\n",
       "      <td>True</td>\n",
       "      <td>Papillon</td>\n",
       "      <td>0.091</td>\n",
       "      <td>True</td>\n",
       "      <td>papillon</td>\n",
       "      <td>0.069</td>\n",
       "      <td>True</td>\n",
       "    </tr>\n",
       "  </tbody>\n",
       "</table>\n",
       "</div>"
      ],
      "text/plain": [
       "             tweet_id           timestamp              source  \\\n",
       "0  892420643555336193 2017-08-01 16:23:56  Twitter for iPhone   \n",
       "1  892177421306343426 2017-08-01 00:17:27  Twitter for iPhone   \n",
       "\n",
       "                                                                                                                                                                 text  \\\n",
       "0                                                       This is Phineas. He's a mystical boy. Only ever appears in the hole of a donut. 13/10 https://t.co/MgUWQ76dJU   \n",
       "1  This is Tilly. She's just checking pup on you. Hopes you're doing ok. If not, she's available for pats, snugs, boops, the whole bit. 13/10 https://t.co/0Xxu71qeIV   \n",
       "\n",
       "                                                     expanded_urls  \\\n",
       "0  https://twitter.com/dog_rates/status/892420643555336193/photo/1   \n",
       "1  https://twitter.com/dog_rates/status/892177421306343426/photo/1   \n",
       "\n",
       "   rating_numerator  rating_denominator     name dog_slang  \\\n",
       "0            13.000                  10  Phineas             \n",
       "1            13.000                  10    Tilly             \n",
       "\n",
       "                  tiny_url  retweet_count  favorite_count  \\\n",
       "0  https://t.co/MgUWQ76dJU       7588.000       35830.000   \n",
       "1  https://t.co/0Xxu71qeIV       5623.000       30926.000   \n",
       "\n",
       "                                           jpg_url  img_num prediction_1  \\\n",
       "0  https://pbs.twimg.com/media/DGKD1-bXoAAIAUK.jpg    1.000       Orange   \n",
       "1  https://pbs.twimg.com/media/DGGmoV4XsAAUL6n.jpg    1.000    Chihuahua   \n",
       "\n",
       "   confidence_1 is_pred1_dog prediction_2  confidence_2 is_pred2_dog  \\\n",
       "0         0.097        False       Banana         0.086        False   \n",
       "1         0.324         True     Papillon         0.091         True   \n",
       "\n",
       "  prediction_3  confidence_3 is_pred3_dog  \n",
       "0       banana         0.076        False  \n",
       "1     papillon         0.069         True  "
      ]
     },
     "execution_count": 103,
     "metadata": {},
     "output_type": "execute_result"
    }
   ],
   "source": [
    "tweet_full_clean.head(2)"
   ]
  },
  {
   "cell_type": "code",
   "execution_count": 104,
   "metadata": {},
   "outputs": [
    {
     "data": {
      "text/plain": [
       "(2133, 23)"
      ]
     },
     "execution_count": 104,
     "metadata": {},
     "output_type": "execute_result"
    }
   ],
   "source": [
    "tweet_full_clean.shape"
   ]
  },
  {
   "cell_type": "code",
   "execution_count": 105,
   "metadata": {},
   "outputs": [
    {
     "name": "stdout",
     "output_type": "stream",
     "text": [
      "<class 'pandas.core.frame.DataFrame'>\n",
      "Int64Index: 2133 entries, 0 to 2132\n",
      "Data columns (total 23 columns):\n",
      " #   Column              Non-Null Count  Dtype         \n",
      "---  ------              --------------  -----         \n",
      " 0   tweet_id            2133 non-null   int64         \n",
      " 1   timestamp           2133 non-null   datetime64[ns]\n",
      " 2   source              2133 non-null   object        \n",
      " 3   text                2133 non-null   object        \n",
      " 4   expanded_urls       2132 non-null   object        \n",
      " 5   rating_numerator    2133 non-null   float64       \n",
      " 6   rating_denominator  2133 non-null   int64         \n",
      " 7   name                2133 non-null   object        \n",
      " 8   dog_slang           2133 non-null   object        \n",
      " 9   tiny_url            2132 non-null   object        \n",
      " 10  retweet_count       2117 non-null   float64       \n",
      " 11  favorite_count      2117 non-null   float64       \n",
      " 12  jpg_url             1924 non-null   object        \n",
      " 13  img_num             1924 non-null   float64       \n",
      " 14  prediction_1        1924 non-null   object        \n",
      " 15  confidence_1        1924 non-null   float64       \n",
      " 16  is_pred1_dog        1924 non-null   object        \n",
      " 17  prediction_2        1924 non-null   object        \n",
      " 18  confidence_2        1924 non-null   float64       \n",
      " 19  is_pred2_dog        1924 non-null   object        \n",
      " 20  prediction_3        1924 non-null   object        \n",
      " 21  confidence_3        1924 non-null   float64       \n",
      " 22  is_pred3_dog        1924 non-null   object        \n",
      "dtypes: datetime64[ns](1), float64(7), int64(2), object(13)\n",
      "memory usage: 399.9+ KB\n"
     ]
    }
   ],
   "source": [
    "tweet_full_clean.info()"
   ]
  },
  {
   "cell_type": "markdown",
   "metadata": {},
   "source": [
    "#### 12. Quality : Set the dog names to \"unknown\" where no real dog names are provided\n",
    "\n",
    "<b>Define</b>\n",
    "- Identify the names in lowercase\n",
    "- Change those to 'unknown'\n",
    "- Reference : https://stackoverflow.com/questions/50633935/pandas-replace-all-strings-in-lowercase-in-a-column-with-none\n",
    "\n",
    "<b>Code</b>"
   ]
  },
  {
   "cell_type": "code",
   "execution_count": 106,
   "metadata": {},
   "outputs": [],
   "source": [
    "tweet_full_clean.loc[tweet_full_clean['name'] == tweet_full_clean['name'].str.lower(), 'name'] = np.NaN\n"
   ]
  },
  {
   "cell_type": "code",
   "execution_count": 107,
   "metadata": {},
   "outputs": [
    {
     "data": {
      "text/plain": [
       "None         632\n",
       "Charlie       11\n",
       "Lucy          11\n",
       "Cooper        10\n",
       "Oliver        10\n",
       "            ... \n",
       "Alf            1\n",
       "Schnitzel      1\n",
       "Jay            1\n",
       "Traviss        1\n",
       "Anthony        1\n",
       "Name: name, Length: 930, dtype: int64"
      ]
     },
     "execution_count": 107,
     "metadata": {},
     "output_type": "execute_result"
    }
   ],
   "source": [
    "tweet_full_clean.name.value_counts()"
   ]
  },
  {
   "cell_type": "markdown",
   "metadata": {},
   "source": [
    "# Data Storing"
   ]
  },
  {
   "cell_type": "code",
   "execution_count": 108,
   "metadata": {},
   "outputs": [],
   "source": [
    "# Store the data in csv file\n",
    "tweet_full_clean.to_csv('twitter_archive_master.csv', sep= ',', encoding = 'utf-8',index=False)"
   ]
  },
  {
   "cell_type": "markdown",
   "metadata": {},
   "source": [
    "# Analyze and Visualize Data\n",
    "\n",
    "### Questions to be answered:\n",
    "1. What is the most common dog name?\n",
    "2. What is the most common dog breed?\n",
    "3. Which dog is the most popular on internet?\n",
    "4. What are the popular dog breeds?\n",
    "5. Which day of the week has the highest number of tweets?\n"
   ]
  },
  {
   "cell_type": "code",
   "execution_count": 109,
   "metadata": {},
   "outputs": [
    {
     "data": {
      "text/html": [
       "<div>\n",
       "<style scoped>\n",
       "    .dataframe tbody tr th:only-of-type {\n",
       "        vertical-align: middle;\n",
       "    }\n",
       "\n",
       "    .dataframe tbody tr th {\n",
       "        vertical-align: top;\n",
       "    }\n",
       "\n",
       "    .dataframe thead th {\n",
       "        text-align: right;\n",
       "    }\n",
       "</style>\n",
       "<table border=\"1\" class=\"dataframe\">\n",
       "  <thead>\n",
       "    <tr style=\"text-align: right;\">\n",
       "      <th></th>\n",
       "      <th>tweet_id</th>\n",
       "      <th>timestamp</th>\n",
       "      <th>source</th>\n",
       "      <th>text</th>\n",
       "      <th>expanded_urls</th>\n",
       "      <th>rating_numerator</th>\n",
       "      <th>rating_denominator</th>\n",
       "      <th>name</th>\n",
       "      <th>dog_slang</th>\n",
       "      <th>tiny_url</th>\n",
       "      <th>retweet_count</th>\n",
       "      <th>favorite_count</th>\n",
       "      <th>jpg_url</th>\n",
       "      <th>img_num</th>\n",
       "      <th>prediction_1</th>\n",
       "      <th>confidence_1</th>\n",
       "      <th>is_pred1_dog</th>\n",
       "      <th>prediction_2</th>\n",
       "      <th>confidence_2</th>\n",
       "      <th>is_pred2_dog</th>\n",
       "      <th>prediction_3</th>\n",
       "      <th>confidence_3</th>\n",
       "      <th>is_pred3_dog</th>\n",
       "    </tr>\n",
       "  </thead>\n",
       "  <tbody>\n",
       "    <tr>\n",
       "      <th>0</th>\n",
       "      <td>892420643555336193</td>\n",
       "      <td>2017-08-01 16:23:56</td>\n",
       "      <td>Twitter for iPhone</td>\n",
       "      <td>This is Phineas. He's a mystical boy. Only ever appears in the hole of a donut. 13/10 https://t.co/MgUWQ76dJU</td>\n",
       "      <td>https://twitter.com/dog_rates/status/892420643555336193/photo/1</td>\n",
       "      <td>13.000</td>\n",
       "      <td>10</td>\n",
       "      <td>Phineas</td>\n",
       "      <td>NaN</td>\n",
       "      <td>https://t.co/MgUWQ76dJU</td>\n",
       "      <td>7588.000</td>\n",
       "      <td>35830.000</td>\n",
       "      <td>https://pbs.twimg.com/media/DGKD1-bXoAAIAUK.jpg</td>\n",
       "      <td>1.000</td>\n",
       "      <td>Orange</td>\n",
       "      <td>0.097</td>\n",
       "      <td>False</td>\n",
       "      <td>Banana</td>\n",
       "      <td>0.086</td>\n",
       "      <td>False</td>\n",
       "      <td>banana</td>\n",
       "      <td>0.076</td>\n",
       "      <td>False</td>\n",
       "    </tr>\n",
       "    <tr>\n",
       "      <th>1</th>\n",
       "      <td>892177421306343426</td>\n",
       "      <td>2017-08-01 00:17:27</td>\n",
       "      <td>Twitter for iPhone</td>\n",
       "      <td>This is Tilly. She's just checking pup on you. Hopes you're doing ok. If not, she's available for pats, snugs, boops, the whole bit. 13/10 https://t.co/0Xxu71qeIV</td>\n",
       "      <td>https://twitter.com/dog_rates/status/892177421306343426/photo/1</td>\n",
       "      <td>13.000</td>\n",
       "      <td>10</td>\n",
       "      <td>Tilly</td>\n",
       "      <td>NaN</td>\n",
       "      <td>https://t.co/0Xxu71qeIV</td>\n",
       "      <td>5623.000</td>\n",
       "      <td>30926.000</td>\n",
       "      <td>https://pbs.twimg.com/media/DGGmoV4XsAAUL6n.jpg</td>\n",
       "      <td>1.000</td>\n",
       "      <td>Chihuahua</td>\n",
       "      <td>0.324</td>\n",
       "      <td>True</td>\n",
       "      <td>Papillon</td>\n",
       "      <td>0.091</td>\n",
       "      <td>True</td>\n",
       "      <td>papillon</td>\n",
       "      <td>0.069</td>\n",
       "      <td>True</td>\n",
       "    </tr>\n",
       "    <tr>\n",
       "      <th>2</th>\n",
       "      <td>891815181378084864</td>\n",
       "      <td>2017-07-31 00:18:03</td>\n",
       "      <td>Twitter for iPhone</td>\n",
       "      <td>This is Archie. He is a rare Norwegian Pouncing Corgo. Lives in the tall grass. You never know when one may strike. 12/10 https://t.co/wUnZnhtVJB</td>\n",
       "      <td>https://twitter.com/dog_rates/status/891815181378084864/photo/1</td>\n",
       "      <td>12.000</td>\n",
       "      <td>10</td>\n",
       "      <td>Archie</td>\n",
       "      <td>NaN</td>\n",
       "      <td>https://t.co/wUnZnhtVJB</td>\n",
       "      <td>3720.000</td>\n",
       "      <td>23281.000</td>\n",
       "      <td>https://pbs.twimg.com/media/DGBdLU1WsAANxJ9.jpg</td>\n",
       "      <td>1.000</td>\n",
       "      <td>Chihuahua</td>\n",
       "      <td>0.716</td>\n",
       "      <td>True</td>\n",
       "      <td>Kelpie</td>\n",
       "      <td>0.078</td>\n",
       "      <td>True</td>\n",
       "      <td>kelpie</td>\n",
       "      <td>0.031</td>\n",
       "      <td>True</td>\n",
       "    </tr>\n",
       "    <tr>\n",
       "      <th>3</th>\n",
       "      <td>891689557279858688</td>\n",
       "      <td>2017-07-30 15:58:51</td>\n",
       "      <td>Twitter for iPhone</td>\n",
       "      <td>This is Darla. She commenced a snooze mid meal. 13/10 happens to the best of us https://t.co/tD36da7qLQ</td>\n",
       "      <td>https://twitter.com/dog_rates/status/891689557279858688/photo/1</td>\n",
       "      <td>13.000</td>\n",
       "      <td>10</td>\n",
       "      <td>Darla</td>\n",
       "      <td>NaN</td>\n",
       "      <td>https://t.co/tD36da7qLQ</td>\n",
       "      <td>7766.000</td>\n",
       "      <td>39105.000</td>\n",
       "      <td>https://pbs.twimg.com/media/DF_q7IAWsAEuuN8.jpg</td>\n",
       "      <td>1.000</td>\n",
       "      <td>Paper_towel</td>\n",
       "      <td>0.170</td>\n",
       "      <td>False</td>\n",
       "      <td>Spatula</td>\n",
       "      <td>0.168</td>\n",
       "      <td>True</td>\n",
       "      <td>spatula</td>\n",
       "      <td>0.041</td>\n",
       "      <td>False</td>\n",
       "    </tr>\n",
       "    <tr>\n",
       "      <th>4</th>\n",
       "      <td>891327558926688256</td>\n",
       "      <td>2017-07-29 16:00:24</td>\n",
       "      <td>Twitter for iPhone</td>\n",
       "      <td>This is Franklin. He would like you to stop calling him \"cute.\" He is a very fierce shark and should be respected as such. 12/10 #BarkWeek https://t.co/AtUZn91f7f</td>\n",
       "      <td>https://twitter.com/dog_rates/status/891327558926688256/photo/1,https://twitter.com/dog_rates/status/891327558926688256/photo/1</td>\n",
       "      <td>12.000</td>\n",
       "      <td>10</td>\n",
       "      <td>Franklin</td>\n",
       "      <td>NaN</td>\n",
       "      <td>https://t.co/AtUZn91f7f</td>\n",
       "      <td>8363.000</td>\n",
       "      <td>37357.000</td>\n",
       "      <td>https://pbs.twimg.com/media/DF6hr6BUMAAzZgT.jpg</td>\n",
       "      <td>2.000</td>\n",
       "      <td>Basset</td>\n",
       "      <td>0.556</td>\n",
       "      <td>True</td>\n",
       "      <td>German_short-haired_pointer</td>\n",
       "      <td>0.226</td>\n",
       "      <td>True</td>\n",
       "      <td>German_short-haired_pointer</td>\n",
       "      <td>0.175</td>\n",
       "      <td>True</td>\n",
       "    </tr>\n",
       "  </tbody>\n",
       "</table>\n",
       "</div>"
      ],
      "text/plain": [
       "             tweet_id            timestamp              source  \\\n",
       "0  892420643555336193  2017-08-01 16:23:56  Twitter for iPhone   \n",
       "1  892177421306343426  2017-08-01 00:17:27  Twitter for iPhone   \n",
       "2  891815181378084864  2017-07-31 00:18:03  Twitter for iPhone   \n",
       "3  891689557279858688  2017-07-30 15:58:51  Twitter for iPhone   \n",
       "4  891327558926688256  2017-07-29 16:00:24  Twitter for iPhone   \n",
       "\n",
       "                                                                                                                                                                 text  \\\n",
       "0                                                       This is Phineas. He's a mystical boy. Only ever appears in the hole of a donut. 13/10 https://t.co/MgUWQ76dJU   \n",
       "1  This is Tilly. She's just checking pup on you. Hopes you're doing ok. If not, she's available for pats, snugs, boops, the whole bit. 13/10 https://t.co/0Xxu71qeIV   \n",
       "2                   This is Archie. He is a rare Norwegian Pouncing Corgo. Lives in the tall grass. You never know when one may strike. 12/10 https://t.co/wUnZnhtVJB   \n",
       "3                                                             This is Darla. She commenced a snooze mid meal. 13/10 happens to the best of us https://t.co/tD36da7qLQ   \n",
       "4  This is Franklin. He would like you to stop calling him \"cute.\" He is a very fierce shark and should be respected as such. 12/10 #BarkWeek https://t.co/AtUZn91f7f   \n",
       "\n",
       "                                                                                                                     expanded_urls  \\\n",
       "0                                                                  https://twitter.com/dog_rates/status/892420643555336193/photo/1   \n",
       "1                                                                  https://twitter.com/dog_rates/status/892177421306343426/photo/1   \n",
       "2                                                                  https://twitter.com/dog_rates/status/891815181378084864/photo/1   \n",
       "3                                                                  https://twitter.com/dog_rates/status/891689557279858688/photo/1   \n",
       "4  https://twitter.com/dog_rates/status/891327558926688256/photo/1,https://twitter.com/dog_rates/status/891327558926688256/photo/1   \n",
       "\n",
       "   rating_numerator  rating_denominator      name dog_slang  \\\n",
       "0            13.000                  10   Phineas       NaN   \n",
       "1            13.000                  10     Tilly       NaN   \n",
       "2            12.000                  10    Archie       NaN   \n",
       "3            13.000                  10     Darla       NaN   \n",
       "4            12.000                  10  Franklin       NaN   \n",
       "\n",
       "                  tiny_url  retweet_count  favorite_count  \\\n",
       "0  https://t.co/MgUWQ76dJU       7588.000       35830.000   \n",
       "1  https://t.co/0Xxu71qeIV       5623.000       30926.000   \n",
       "2  https://t.co/wUnZnhtVJB       3720.000       23281.000   \n",
       "3  https://t.co/tD36da7qLQ       7766.000       39105.000   \n",
       "4  https://t.co/AtUZn91f7f       8363.000       37357.000   \n",
       "\n",
       "                                           jpg_url  img_num prediction_1  \\\n",
       "0  https://pbs.twimg.com/media/DGKD1-bXoAAIAUK.jpg    1.000       Orange   \n",
       "1  https://pbs.twimg.com/media/DGGmoV4XsAAUL6n.jpg    1.000    Chihuahua   \n",
       "2  https://pbs.twimg.com/media/DGBdLU1WsAANxJ9.jpg    1.000    Chihuahua   \n",
       "3  https://pbs.twimg.com/media/DF_q7IAWsAEuuN8.jpg    1.000  Paper_towel   \n",
       "4  https://pbs.twimg.com/media/DF6hr6BUMAAzZgT.jpg    2.000       Basset   \n",
       "\n",
       "   confidence_1 is_pred1_dog                 prediction_2  confidence_2  \\\n",
       "0         0.097        False                       Banana         0.086   \n",
       "1         0.324         True                     Papillon         0.091   \n",
       "2         0.716         True                       Kelpie         0.078   \n",
       "3         0.170        False                      Spatula         0.168   \n",
       "4         0.556         True  German_short-haired_pointer         0.226   \n",
       "\n",
       "  is_pred2_dog                 prediction_3  confidence_3 is_pred3_dog  \n",
       "0        False                       banana         0.076        False  \n",
       "1         True                     papillon         0.069         True  \n",
       "2         True                       kelpie         0.031         True  \n",
       "3         True                      spatula         0.041        False  \n",
       "4         True  German_short-haired_pointer         0.175         True  "
      ]
     },
     "execution_count": 109,
     "metadata": {},
     "output_type": "execute_result"
    }
   ],
   "source": [
    "#Load the csv file\n",
    "df_twitter = pd.read_csv('twitter_archive_master.csv')\n",
    "df_twitter.head()"
   ]
  },
  {
   "cell_type": "markdown",
   "metadata": {},
   "source": [
    "### 1. What is the most common dog name?"
   ]
  },
  {
   "cell_type": "code",
   "execution_count": 110,
   "metadata": {},
   "outputs": [
    {
     "data": {
      "text/plain": [
       "None       632\n",
       "Charlie     11\n",
       "Lucy        11\n",
       "Cooper      10\n",
       "Oliver      10\n",
       "Name: name, dtype: int64"
      ]
     },
     "execution_count": 110,
     "metadata": {},
     "output_type": "execute_result"
    }
   ],
   "source": [
    "df_twitter.name.value_counts().head()"
   ]
  },
  {
   "cell_type": "markdown",
   "metadata": {},
   "source": [
    "<b>Insights</b>\n",
    "- Most of the tweets don't have dog names\n",
    "- Otherwise, Lucy is the most popular name with 11 occurances.\n",
    "\n",
    "\n",
    "### 2. What is the most common dog breed on WeRateDogs?"
   ]
  },
  {
   "cell_type": "code",
   "execution_count": 111,
   "metadata": {},
   "outputs": [
    {
     "data": {
      "text/plain": [
       "Golden_retriever    125\n",
       "Name: prediction_1, dtype: int64"
      ]
     },
     "execution_count": 111,
     "metadata": {},
     "output_type": "execute_result"
    }
   ],
   "source": [
    "df_twitter.prediction_1.value_counts().head(1)"
   ]
  },
  {
   "cell_type": "markdown",
   "metadata": {},
   "source": [
    "<b>Insights </b>\n",
    "- Golden_retreivers are the most common dogs on We Rate Dogs.\n",
    "\n",
    "### 3. Which dog is the most popular on internet?\n",
    "Reference : https://stackoverflow.com/questions/7391945/how-do-i-read-image-data-from-a-url-in-python"
   ]
  },
  {
   "cell_type": "code",
   "execution_count": 112,
   "metadata": {},
   "outputs": [
    {
     "data": {
      "text/plain": [
       "(884    154393.000\n",
       " 354    131667.000\n",
       " 124    115325.000\n",
       " 921    114188.000\n",
       " 63      98322.000\n",
       "           ...    \n",
       " 629           nan\n",
       " 684           nan\n",
       " 748           nan\n",
       " 788           nan\n",
       " 1529          nan\n",
       " Name: favorite_count, Length: 2133, dtype: float64,\n",
       " 884)"
      ]
     },
     "execution_count": 112,
     "metadata": {},
     "output_type": "execute_result"
    }
   ],
   "source": [
    "df_twitter.favorite_count.sort_values(ascending=False) , df_twitter.favorite_count.idxmax()"
   ]
  },
  {
   "cell_type": "code",
   "execution_count": 113,
   "metadata": {},
   "outputs": [
    {
     "name": "stdout",
     "output_type": "stream",
     "text": [
      "Dog breed: Labrador_retriever\n",
      "Favorited: 154393\n",
      "Retweeted: 76656\n"
     ]
    },
    {
     "data": {
      "image/png": "[encoded data removed]",
      "text/plain": [
       "<PIL.JpegImagePlugin.JpegImageFile image mode=RGB size=406x720 at 0x7F8CC7482090>"
      ]
     },
     "execution_count": 113,
     "metadata": {},
     "output_type": "execute_result"
    }
   ],
   "source": [
    "max_df = df_twitter.iloc[df_twitter.favorite_count.idxmax()]\n",
    "tweet_url = max_df.jpg_url\n",
    "print('Dog breed: {}'.format(max_df.prediction_1))\n",
    "print('Favorited: {:.0f}'.format(max_df.favorite_count))\n",
    "print('Retweeted: {:.0f}'.format(max_df.retweet_count))\n",
    "\n",
    "r = requests.get(tweet_url)\n",
    "Image.open(BytesIO(r.content))\n"
   ]
  },
  {
   "cell_type": "markdown",
   "metadata": {},
   "source": [
    "<b>Insights</b>\n",
    "- The above dog is the most favorited \n",
    "- Breed: Labrador_retriever\n",
    "- Favorited count: 154393\n",
    "- Retweeted count: 76656"
   ]
  },
  {
   "cell_type": "markdown",
   "metadata": {},
   "source": [
    "### 4.  What are the popular dog breeds?\n",
    "- Ref : https://www.drawingfromdata.com/how-to-rotate-axis-labels-in-seaborn-and-matplotlib"
   ]
  },
  {
   "cell_type": "code",
   "execution_count": 170,
   "metadata": {},
   "outputs": [
    {
     "data": {
      "image/png": "[encoded data removed]",
      "text/plain": [
       "<Figure size 864x432 with 1 Axes>"
      ]
     },
     "metadata": {},
     "output_type": "display_data"
    }
   ],
   "source": [
    "sns.set()\n",
    "plt.figure(figsize=(12,6))\n",
    "chart=sns.barplot(data=df_twitter, \n",
    "           x = df_twitter.prediction_1.value_counts()[0:10].index.values,\n",
    "           y = df_twitter.prediction_1.value_counts()[0:10],\n",
    "                 palette='Paired')\n",
    "chart.grid(False)\n",
    "chart.set_xticklabels(chart.get_xticklabels(),rotation=45,horizontalalignment='right',fontsize=14 )\n",
    "chart.set_title('Popular Dog Breeds', fontsize = 16)\n",
    "chart.set_ylabel('Counts', fontsize = 14);"
   ]
  },
  {
   "cell_type": "markdown",
   "metadata": {},
   "source": [
    "<b>Insights</b>\n",
    "- Golden retrievers are the most popular breed on WeRateDogs' twitter account.\n",
    "- Labrador retrievers and Pembroke are second.\n",
    "\n",
    "### 5. Which day of the week has the highest number of tweets?\n"
   ]
  },
  {
   "cell_type": "code",
   "execution_count": 115,
   "metadata": {},
   "outputs": [
    {
     "name": "stdout",
     "output_type": "stream",
     "text": [
      "<class 'pandas.core.frame.DataFrame'>\n",
      "RangeIndex: 2133 entries, 0 to 2132\n",
      "Data columns (total 23 columns):\n",
      " #   Column              Non-Null Count  Dtype  \n",
      "---  ------              --------------  -----  \n",
      " 0   tweet_id            2133 non-null   int64  \n",
      " 1   timestamp           2133 non-null   object \n",
      " 2   source              2133 non-null   object \n",
      " 3   text                2133 non-null   object \n",
      " 4   expanded_urls       2132 non-null   object \n",
      " 5   rating_numerator    2133 non-null   float64\n",
      " 6   rating_denominator  2133 non-null   int64  \n",
      " 7   name                2032 non-null   object \n",
      " 8   dog_slang           346 non-null    object \n",
      " 9   tiny_url            2132 non-null   object \n",
      " 10  retweet_count       2117 non-null   float64\n",
      " 11  favorite_count      2117 non-null   float64\n",
      " 12  jpg_url             1924 non-null   object \n",
      " 13  img_num             1924 non-null   float64\n",
      " 14  prediction_1        1924 non-null   object \n",
      " 15  confidence_1        1924 non-null   float64\n",
      " 16  is_pred1_dog        1924 non-null   object \n",
      " 17  prediction_2        1924 non-null   object \n",
      " 18  confidence_2        1924 non-null   float64\n",
      " 19  is_pred2_dog        1924 non-null   object \n",
      " 20  prediction_3        1924 non-null   object \n",
      " 21  confidence_3        1924 non-null   float64\n",
      " 22  is_pred3_dog        1924 non-null   object \n",
      "dtypes: float64(7), int64(2), object(14)\n",
      "memory usage: 383.4+ KB\n"
     ]
    }
   ],
   "source": [
    "df_twitter.info()"
   ]
  },
  {
   "cell_type": "code",
   "execution_count": 116,
   "metadata": {},
   "outputs": [],
   "source": [
    "df_twitter.timestamp=pd.to_datetime(df_twitter['timestamp'])"
   ]
  },
  {
   "cell_type": "code",
   "execution_count": 117,
   "metadata": {},
   "outputs": [],
   "source": [
    "df_weekdays = df_twitter[['timestamp', 'rating_numerator', 'favorite_count','retweet_count']]"
   ]
  },
  {
   "cell_type": "markdown",
   "metadata": {},
   "source": [
    "Reference : https://stackoverflow.com/questions/60214194/error-in-reading-stock-data-datetimeproperties-object-has-no-attribute-week"
   ]
  },
  {
   "cell_type": "code",
   "execution_count": 179,
   "metadata": {},
   "outputs": [
    {
     "name": "stderr",
     "output_type": "stream",
     "text": [
      "/Users/nehatarey/opt/anaconda3/lib/python3.7/site-packages/ipykernel_launcher.py:1: SettingWithCopyWarning: \n",
      "A value is trying to be set on a copy of a slice from a DataFrame.\n",
      "Try using .loc[row_indexer,col_indexer] = value instead\n",
      "\n",
      "See the caveats in the documentation: https://pandas.pydata.org/pandas-docs/stable/user_guide/indexing.html#returning-a-view-versus-a-copy\n",
      "  \"\"\"Entry point for launching an IPython kernel.\n"
     ]
    },
    {
     "data": {
      "text/html": [
       "<div>\n",
       "<style scoped>\n",
       "    .dataframe tbody tr th:only-of-type {\n",
       "        vertical-align: middle;\n",
       "    }\n",
       "\n",
       "    .dataframe tbody tr th {\n",
       "        vertical-align: top;\n",
       "    }\n",
       "\n",
       "    .dataframe thead th {\n",
       "        text-align: right;\n",
       "    }\n",
       "</style>\n",
       "<table border=\"1\" class=\"dataframe\">\n",
       "  <thead>\n",
       "    <tr style=\"text-align: right;\">\n",
       "      <th></th>\n",
       "      <th>avg_rating</th>\n",
       "      <th>avg_favorite</th>\n",
       "      <th>avg_retweet</th>\n",
       "    </tr>\n",
       "  </thead>\n",
       "  <tbody>\n",
       "    <tr>\n",
       "      <th>Monday</th>\n",
       "      <td>10.480</td>\n",
       "      <td>7315.059</td>\n",
       "      <td>2372.325</td>\n",
       "    </tr>\n",
       "    <tr>\n",
       "      <th>Tuesday</th>\n",
       "      <td>10.717</td>\n",
       "      <td>7529.374</td>\n",
       "      <td>2506.613</td>\n",
       "    </tr>\n",
       "    <tr>\n",
       "      <th>Wednesday</th>\n",
       "      <td>10.533</td>\n",
       "      <td>7428.990</td>\n",
       "      <td>2596.674</td>\n",
       "    </tr>\n",
       "    <tr>\n",
       "      <th>Thursday</th>\n",
       "      <td>10.816</td>\n",
       "      <td>6744.396</td>\n",
       "      <td>2282.336</td>\n",
       "    </tr>\n",
       "    <tr>\n",
       "      <th>Friday</th>\n",
       "      <td>10.810</td>\n",
       "      <td>6853.055</td>\n",
       "      <td>2361.028</td>\n",
       "    </tr>\n",
       "    <tr>\n",
       "      <th>Saturday</th>\n",
       "      <td>10.727</td>\n",
       "      <td>8023.537</td>\n",
       "      <td>2715.359</td>\n",
       "    </tr>\n",
       "    <tr>\n",
       "      <th>Sunday</th>\n",
       "      <td>10.463</td>\n",
       "      <td>6907.447</td>\n",
       "      <td>2134.824</td>\n",
       "    </tr>\n",
       "  </tbody>\n",
       "</table>\n",
       "</div>"
      ],
      "text/plain": [
       "           avg_rating  avg_favorite  avg_retweet\n",
       "Monday         10.480      7315.059     2372.325\n",
       "Tuesday        10.717      7529.374     2506.613\n",
       "Wednesday      10.533      7428.990     2596.674\n",
       "Thursday       10.816      6744.396     2282.336\n",
       "Friday         10.810      6853.055     2361.028\n",
       "Saturday       10.727      8023.537     2715.359\n",
       "Sunday         10.463      6907.447     2134.824"
      ]
     },
     "execution_count": 179,
     "metadata": {},
     "output_type": "execute_result"
    }
   ],
   "source": [
    "df_weekdays['day_name'] = df_weekdays.timestamp.dt.dayofweek\n",
    "\n",
    "# Calculating the mean of ratings.\n",
    "df_mean = df_weekdays.groupby(['day_name']).mean()\n",
    "df_mean.index = ['Monday', 'Tuesday','Wednesday','Thursday','Friday', 'Saturday','Sunday']\n",
    "df_mean.columns = ['avg_rating','avg_favorite','avg_retweet']\n",
    "df_mean"
   ]
  },
  {
   "cell_type": "markdown",
   "metadata": {},
   "source": [
    "For below code, Reference : https://stackoverflow.com/questions/10369681/how-to-plot-bar-graphs-with-same-x-coordinates-side-by-side-dodged"
   ]
  },
  {
   "cell_type": "code",
   "execution_count": 187,
   "metadata": {},
   "outputs": [
    {
     "data": {
      "image/png": "[encoded data removed]",
      "text/plain": [
       "<Figure size 864x432 with 2 Axes>"
      ]
     },
     "metadata": {},
     "output_type": "display_data"
    }
   ],
   "source": [
    "# Numbers of pairs of bars you want\n",
    "N = 7\n",
    "# Position of bars on x-axis\n",
    "ind = np.arange(N)\n",
    "width = 0.3\n",
    "x_label = ['Monday', 'Tuesday','Wednesday','Thursday','Friday', 'Saturday','Sunday']\n",
    "\n",
    "# Figure size\n",
    "fig, ax1 = plt.subplots(figsize = (12,6))   \n",
    "ax2 = ax1.twinx()\n",
    "\n",
    "# Plotting\n",
    "ax1.bar(ind, df_mean.avg_favorite , width, label='Avg Favorite', color = 'chocolate')\n",
    "ax1.bar(ind + width, df_mean.avg_retweet, width , label='Avg Retweet', color = 'goldenrod')\n",
    "ax1.set_ylabel('Retweets and Fav Count', fontsize=14)\n",
    "ax1.grid(False)\n",
    "ax1.set_xticks(ind + width / 2, x_label)\n",
    "ax1.xaxis.label.set_color('red')\n",
    "# Finding the best position for legends and putting it\n",
    "ax1.legend(loc='best')\n",
    "\n",
    "#2nd y\n",
    "ax2.plot(ind, df_mean.avg_rating, color = 'maroon')\n",
    "ax2.set_ylabel('Avg Rating', fontsize=14 )\n",
    "ax2.grid(False)\n",
    "ax2.get_xaxis().set_visible(False)\n",
    "\n",
    "plt.title('Daily trend of Avg Favorites and Avg Retweets', fontsize=16)\n",
    "plt.xticks(ind + width / 2, x_label, color = 'r')\n",
    "plt.show()"
   ]
  },
  {
   "cell_type": "markdown",
   "metadata": {},
   "source": [
    "<b>Insights</b>\n",
    "- The average favorites of tweets on a Saturday are higher than any other day.\n",
    "- The average retweets on Monday, Tuesday, Wednesday and Saturday are similar and slightly higher than Thursday, Friday and, Sunday."
   ]
  },
  {
   "cell_type": "code",
   "execution_count": null,
   "metadata": {},
   "outputs": [],
   "source": []
  }
 ],
 "metadata": {
  "kernelspec": {
   "display_name": "Python 3",
   "language": "python",
   "name": "python3"
  },
  "language_info": {
   "codemirror_mode": {
    "name": "ipython",
    "version": 3
   },
   "file_extension": ".py",
   "mimetype": "text/x-python",
   "name": "python",
   "nbconvert_exporter": "python",
   "pygments_lexer": "ipython3",
   "version": "3.7.7"
  }
 },
 "nbformat": 4,
 "nbformat_minor": 2
}
